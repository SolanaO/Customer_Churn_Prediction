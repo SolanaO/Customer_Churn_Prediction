{
 "cells": [
  {
   "cell_type": "code",
   "execution_count": 1,
   "id": "824e68ce",
   "metadata": {},
   "outputs": [
    {
     "data": {
      "text/html": [
       "Current session configs: <tt>{'conf': {'spark.pyspark.python': '/home/hadoop/path/to/venv/bin/python3'}, 'proxyUser': 'user_Solana', 'kind': 'pyspark'}</tt><br>"
      ],
      "text/plain": [
       "<IPython.core.display.HTML object>"
      ]
     },
     "metadata": {},
     "output_type": "display_data"
    },
    {
     "data": {
      "text/html": [
       "No active sessions."
      ],
      "text/plain": [
       "<IPython.core.display.HTML object>"
      ]
     },
     "metadata": {},
     "output_type": "display_data"
    }
   ],
   "source": [
    "%%configure -f\n",
    "{\"conf\": {\"spark.pyspark.python\":\"/home/hadoop/path/to/venv/bin/python3\"}}"
   ]
  },
  {
   "cell_type": "markdown",
   "id": "b091b455",
   "metadata": {},
   "source": [
    "# <font color='darkblue'>Sparkify Full Dataset Profiling</font>"
   ]
  },
  {
   "cell_type": "markdown",
   "id": "f3042d8c",
   "metadata": {},
   "source": [
    "- In this notebook we investigate the full dataset which is about 12GB. \n",
    "    \n",
    "- This notebook has PySpark kernel and it is designed for AWS EMR."
   ]
  },
  {
   "cell_type": "code",
   "execution_count": 2,
   "id": "a1b801ad",
   "metadata": {},
   "outputs": [
    {
     "data": {
      "application/vnd.jupyter.widget-view+json": {
       "model_id": "8f41e7066d764a64add8633ac4f3a5dc",
       "version_major": 2,
       "version_minor": 0
      },
      "text/plain": [
       "VBox()"
      ]
     },
     "metadata": {},
     "output_type": "display_data"
    },
    {
     "name": "stdout",
     "output_type": "stream",
     "text": [
      "Starting Spark application\n"
     ]
    },
    {
     "data": {
      "text/html": [
       "<table>\n",
       "<tr><th>ID</th><th>YARN Application ID</th><th>Kind</th><th>State</th><th>Spark UI</th><th>Driver log</th><th>Current session?</th></tr><tr><td>0</td><td>application_1641692119213_0001</td><td>pyspark</td><td>idle</td><td><a target=\"_blank\" href=\"http://ip-172-31-14-187.us-east-2.compute.internal:20888/proxy/application_1641692119213_0001/\" class=\"emr-proxy-link\" emr-resource=\"j-3P79RK36E0UJ6\n",
       "\" application-id=\"application_1641692119213_0001\">Link</a></td><td><a target=\"_blank\" href=\"http://ip-172-31-13-37.us-east-2.compute.internal:8042/node/containerlogs/container_1641692119213_0001_01_000001/livy\" >Link</a></td><td>✔</td></tr></table>"
      ],
      "text/plain": [
       "<IPython.core.display.HTML object>"
      ]
     },
     "metadata": {},
     "output_type": "display_data"
    },
    {
     "data": {
      "application/vnd.jupyter.widget-view+json": {
       "model_id": "",
       "version_major": 2,
       "version_minor": 0
      },
      "text/plain": [
       "FloatProgress(value=0.0, bar_style='info', description='Progress:', layout=Layout(height='25px', width='50%'),…"
      ]
     },
     "metadata": {},
     "output_type": "display_data"
    },
    {
     "name": "stdout",
     "output_type": "stream",
     "text": [
      "SparkSession available as 'spark'.\n"
     ]
    },
    {
     "data": {
      "application/vnd.jupyter.widget-view+json": {
       "model_id": "",
       "version_major": 2,
       "version_minor": 0
      },
      "text/plain": [
       "FloatProgress(value=0.0, bar_style='info', description='Progress:', layout=Layout(height='25px', width='50%'),…"
      ]
     },
     "metadata": {},
     "output_type": "display_data"
    },
    {
     "name": "stdout",
     "output_type": "stream",
     "text": [
      "Available AWS-EMR Memory: 11171M"
     ]
    }
   ],
   "source": [
    "# check the available memory in the cluster\n",
    "print('Available AWS-EMR Memory: {}'.format(spark.sparkContext\n",
    "                                            .getConf().get('spark.driver.memory')))"
   ]
  },
  {
   "cell_type": "markdown",
   "id": "bb6663cb",
   "metadata": {},
   "source": [
    "## <font color='blue'>Import Libraries</font>"
   ]
  },
  {
   "cell_type": "code",
   "execution_count": 3,
   "id": "c9b67432",
   "metadata": {},
   "outputs": [
    {
     "data": {
      "application/vnd.jupyter.widget-view+json": {
       "model_id": "fc50b770b263403b8ba7e07c225e57c8",
       "version_major": 2,
       "version_minor": 0
      },
      "text/plain": [
       "VBox()"
      ]
     },
     "metadata": {},
     "output_type": "display_data"
    },
    {
     "data": {
      "application/vnd.jupyter.widget-view+json": {
       "model_id": "",
       "version_major": 2,
       "version_minor": 0
      },
      "text/plain": [
       "FloatProgress(value=0.0, bar_style='info', description='Progress:', layout=Layout(height='25px', width='50%'),…"
      ]
     },
     "metadata": {},
     "output_type": "display_data"
    }
   ],
   "source": [
    "# import neccessary libraries and packages\n",
    "\n",
    "from pyspark import SparkContext\n",
    "from pyspark import SparkConf\n",
    "\n",
    "from pyspark.sql import SparkSession\n",
    "from pyspark.sql.types import (\n",
    "    StringType,\n",
    "    IntegerType, \n",
    "    DateType, \n",
    "    TimestampType,\n",
    "    )\n",
    "\n",
    "from pyspark.sql.functions import (\n",
    "    min as Fmin, max as Fmax, \n",
    "    sum as Fsum, round as Fround, \n",
    "    col, desc, asc,\n",
    "    count, countDistinct, \n",
    "    when, lit, lag, lead,\n",
    "    isnull, isnan,\n",
    "    from_unixtime, dayofmonth, month, hour,\n",
    "    date_format,\n",
    "    first, last, split,\n",
    "    )"
   ]
  },
  {
   "cell_type": "code",
   "execution_count": 4,
   "id": "8e817d47",
   "metadata": {},
   "outputs": [
    {
     "data": {
      "application/vnd.jupyter.widget-view+json": {
       "model_id": "17dcfbbdde894118ab52d36625d1360b",
       "version_major": 2,
       "version_minor": 0
      },
      "text/plain": [
       "VBox()"
      ]
     },
     "metadata": {},
     "output_type": "display_data"
    },
    {
     "data": {
      "application/vnd.jupyter.widget-view+json": {
       "model_id": "",
       "version_major": 2,
       "version_minor": 0
      },
      "text/plain": [
       "FloatProgress(value=0.0, bar_style='info', description='Progress:', layout=Layout(height='25px', width='50%'),…"
      ]
     },
     "metadata": {},
     "output_type": "display_data"
    }
   ],
   "source": [
    "# create a Spark session\n",
    "\n",
    "spark = SparkSession \\\n",
    "        .builder \\\n",
    "        .appName(\"Sparkify\") \\\n",
    "        .getOrCreate()"
   ]
  },
  {
   "cell_type": "code",
   "execution_count": 5,
   "id": "3c228a37",
   "metadata": {},
   "outputs": [
    {
     "data": {
      "application/vnd.jupyter.widget-view+json": {
       "model_id": "73ebfa1a74c24d6980fc0b03a3fde776",
       "version_major": 2,
       "version_minor": 0
      },
      "text/plain": [
       "VBox()"
      ]
     },
     "metadata": {},
     "output_type": "display_data"
    },
    {
     "data": {
      "application/vnd.jupyter.widget-view+json": {
       "model_id": "",
       "version_major": 2,
       "version_minor": 0
      },
      "text/plain": [
       "FloatProgress(value=0.0, bar_style='info', description='Progress:', layout=Layout(height='25px', width='50%'),…"
      ]
     },
     "metadata": {},
     "output_type": "display_data"
    }
   ],
   "source": [
    "# import scipy libraries\n",
    "import numpy as np\n",
    "import pandas as pd\n",
    "import matplotlib.pyplot as plt"
   ]
  },
  {
   "cell_type": "markdown",
   "id": "1f31b243",
   "metadata": {},
   "source": [
    "## <font color='blue'>Load the Dataset</font>"
   ]
  },
  {
   "cell_type": "code",
   "execution_count": 6,
   "id": "36969eea",
   "metadata": {},
   "outputs": [
    {
     "data": {
      "application/vnd.jupyter.widget-view+json": {
       "model_id": "56a0861bd600425db784c0f2af33608b",
       "version_major": 2,
       "version_minor": 0
      },
      "text/plain": [
       "VBox()"
      ]
     },
     "metadata": {},
     "output_type": "display_data"
    },
    {
     "data": {
      "application/vnd.jupyter.widget-view+json": {
       "model_id": "",
       "version_major": 2,
       "version_minor": 0
      },
      "text/plain": [
       "FloatProgress(value=0.0, bar_style='info', description='Progress:', layout=Layout(height='25px', width='50%'),…"
      ]
     },
     "metadata": {},
     "output_type": "display_data"
    }
   ],
   "source": [
    "def load_data(file_path):\n",
    "    \"\"\"\n",
    "    Loads the raw dataset in Spark.\n",
    "    \n",
    "    INPUT:\n",
    "            (str) - path for datafile\n",
    "    OUTPUT:\n",
    "            (PySpark dataframe) - dataframe of raw data\n",
    "    \n",
    "    \"\"\"\n",
    "    \n",
    "    print(\"Loading the dataset ...\")\n",
    "    df = spark.read.json(file_path)\n",
    "    print(\"Dataset is loaded ...\")\n",
    "    \n",
    "    return df"
   ]
  },
  {
   "cell_type": "code",
   "execution_count": 7,
   "id": "d6224ee3",
   "metadata": {},
   "outputs": [
    {
     "data": {
      "application/vnd.jupyter.widget-view+json": {
       "model_id": "0321c08012964701a3eea02558433dd3",
       "version_major": 2,
       "version_minor": 0
      },
      "text/plain": [
       "VBox()"
      ]
     },
     "metadata": {},
     "output_type": "display_data"
    },
    {
     "data": {
      "application/vnd.jupyter.widget-view+json": {
       "model_id": "",
       "version_major": 2,
       "version_minor": 0
      },
      "text/plain": [
       "FloatProgress(value=0.0, bar_style='info', description='Progress:', layout=Layout(height='25px', width='50%'),…"
      ]
     },
     "metadata": {},
     "output_type": "display_data"
    }
   ],
   "source": [
    "# create a path variable for the full dataset file\n",
    "event_data = \"s3n://udacity-dsnd/sparkify/sparkify_event_data.json\""
   ]
  },
  {
   "cell_type": "code",
   "execution_count": 8,
   "id": "3bfc7277",
   "metadata": {},
   "outputs": [
    {
     "data": {
      "application/vnd.jupyter.widget-view+json": {
       "model_id": "e579d65778274c5b8a3f2653eb399221",
       "version_major": 2,
       "version_minor": 0
      },
      "text/plain": [
       "VBox()"
      ]
     },
     "metadata": {},
     "output_type": "display_data"
    },
    {
     "data": {
      "application/vnd.jupyter.widget-view+json": {
       "model_id": "",
       "version_major": 2,
       "version_minor": 0
      },
      "text/plain": [
       "FloatProgress(value=0.0, bar_style='info', description='Progress:', layout=Layout(height='25px', width='50%'),…"
      ]
     },
     "metadata": {},
     "output_type": "display_data"
    },
    {
     "name": "stdout",
     "output_type": "stream",
     "text": [
      "Loading the dataset ...\n",
      "Dataset is loaded ..."
     ]
    }
   ],
   "source": [
    "# load the dataset \n",
    "df = load_data(event_data)"
   ]
  },
  {
   "cell_type": "markdown",
   "id": "e6e01bfb",
   "metadata": {},
   "source": [
    "## <font color='blue'>Preliminary Investigation</font>"
   ]
  },
  {
   "cell_type": "code",
   "execution_count": 9,
   "id": "73cf3f4f",
   "metadata": {},
   "outputs": [
    {
     "data": {
      "application/vnd.jupyter.widget-view+json": {
       "model_id": "73a032b8ccd2415095f17ab72d838dc9",
       "version_major": 2,
       "version_minor": 0
      },
      "text/plain": [
       "VBox()"
      ]
     },
     "metadata": {},
     "output_type": "display_data"
    },
    {
     "data": {
      "application/vnd.jupyter.widget-view+json": {
       "model_id": "",
       "version_major": 2,
       "version_minor": 0
      },
      "text/plain": [
       "FloatProgress(value=0.0, bar_style='info', description='Progress:', layout=Layout(height='25px', width='50%'),…"
      ]
     },
     "metadata": {},
     "output_type": "display_data"
    },
    {
     "name": "stdout",
     "output_type": "stream",
     "text": [
      "-RECORD 0----------------\n",
      " artist        | 5408927 \n",
      " auth          | 0       \n",
      " firstName     | 778479  \n",
      " gender        | 778479  \n",
      " itemInSession | 0       \n",
      " lastName      | 778479  \n",
      " length        | 5408927 \n",
      " level         | 0       \n",
      " location      | 778479  \n",
      " method        | 0       \n",
      " page          | 0       \n",
      " registration  | 778479  \n",
      " sessionId     | 0       \n",
      " song          | 5408927 \n",
      " status        | 0       \n",
      " ts            | 0       \n",
      " userAgent     | 778479  \n",
      " userId        | 0"
     ]
    }
   ],
   "source": [
    "# count null values in each column\n",
    "df.select([count(when(isnan(c) | col(c).isNull(), c)) \\\n",
    "           .alias(c) for c in df.columns]) \\\n",
    "           .show(vertical=True)"
   ]
  },
  {
   "cell_type": "code",
   "execution_count": 10,
   "id": "c4f24411",
   "metadata": {},
   "outputs": [
    {
     "data": {
      "application/vnd.jupyter.widget-view+json": {
       "model_id": "e52a12cfa5ad46eeaeaf46466b73122e",
       "version_major": 2,
       "version_minor": 0
      },
      "text/plain": [
       "VBox()"
      ]
     },
     "metadata": {},
     "output_type": "display_data"
    },
    {
     "data": {
      "application/vnd.jupyter.widget-view+json": {
       "model_id": "",
       "version_major": 2,
       "version_minor": 0
      },
      "text/plain": [
       "FloatProgress(value=0.0, bar_style='info', description='Progress:', layout=Layout(height='25px', width='50%'),…"
      ]
     },
     "metadata": {},
     "output_type": "display_data"
    },
    {
     "name": "stdout",
     "output_type": "stream",
     "text": [
      "-RECORD 0----------------\n",
      " artist        | 38337   \n",
      " auth          | 4       \n",
      " firstName     | 5467    \n",
      " gender        | 2       \n",
      " itemInSession | 1429    \n",
      " lastName      | 1000    \n",
      " length        | 23748   \n",
      " level         | 2       \n",
      " location      | 886     \n",
      " method        | 2       \n",
      " page          | 22      \n",
      " registration  | 22247   \n",
      " sessionId     | 228713  \n",
      " song          | 253564  \n",
      " status        | 3       \n",
      " ts            | 5191762 \n",
      " userAgent     | 85      \n",
      " userId        | 22278"
     ]
    }
   ],
   "source": [
    "# count distinct entries in each column\n",
    "df.select([countDistinct(c) \\\n",
    "           .alias(c) for c in df.columns]) \\\n",
    "           .show(vertical=True)"
   ]
  },
  {
   "cell_type": "markdown",
   "id": "2c4ec062",
   "metadata": {},
   "source": [
    "## <font color='blue'>Univariate Analysis</font>"
   ]
  },
  {
   "cell_type": "markdown",
   "id": "5015e3e2",
   "metadata": {},
   "source": [
    "### <font color='blue'>userId Column</font>"
   ]
  },
  {
   "cell_type": "code",
   "execution_count": 11,
   "id": "a3d5a19a",
   "metadata": {},
   "outputs": [
    {
     "data": {
      "application/vnd.jupyter.widget-view+json": {
       "model_id": "fa6c0251acfa4315b5522a650d31cccf",
       "version_major": 2,
       "version_minor": 0
      },
      "text/plain": [
       "VBox()"
      ]
     },
     "metadata": {},
     "output_type": "display_data"
    },
    {
     "data": {
      "application/vnd.jupyter.widget-view+json": {
       "model_id": "",
       "version_major": 2,
       "version_minor": 0
      },
      "text/plain": [
       "FloatProgress(value=0.0, bar_style='info', description='Progress:', layout=Layout(height='25px', width='50%'),…"
      ]
     },
     "metadata": {},
     "output_type": "display_data"
    },
    {
     "name": "stdout",
     "output_type": "stream",
     "text": [
      "+--------+\n",
      "|countIds|\n",
      "+--------+\n",
      "|   22278|\n",
      "+--------+"
     ]
    }
   ],
   "source": [
    "# the number of distinct userId stored in the dataset \n",
    "df.select(countDistinct(\"userId\").alias(\"countIds\")).show()"
   ]
  },
  {
   "cell_type": "code",
   "execution_count": 12,
   "id": "607537ab",
   "metadata": {},
   "outputs": [
    {
     "data": {
      "application/vnd.jupyter.widget-view+json": {
       "model_id": "1e30b922573f4dc0927931d3e855b1c3",
       "version_major": 2,
       "version_minor": 0
      },
      "text/plain": [
       "VBox()"
      ]
     },
     "metadata": {},
     "output_type": "display_data"
    },
    {
     "data": {
      "application/vnd.jupyter.widget-view+json": {
       "model_id": "",
       "version_major": 2,
       "version_minor": 0
      },
      "text/plain": [
       "FloatProgress(value=0.0, bar_style='info', description='Progress:', layout=Layout(height='25px', width='50%'),…"
      ]
     },
     "metadata": {},
     "output_type": "display_data"
    },
    {
     "name": "stdout",
     "output_type": "stream",
     "text": [
      "+-------+-----+\n",
      "| userId|count|\n",
      "+-------+-----+\n",
      "|1000025| 2005|\n",
      "|1000035| 1577|\n",
      "|1000083|  596|\n",
      "|1000103|   95|\n",
      "+-------+-----+\n",
      "only showing top 4 rows"
     ]
    }
   ],
   "source": [
    "# count rows by userId to retrieve how many rows have missing userId\n",
    "userId_counts = df.groupBy(\"userId\").count().orderBy(\"userId\")\n",
    "userId_counts.show(4)"
   ]
  },
  {
   "cell_type": "markdown",
   "id": "82319926",
   "metadata": {},
   "source": [
    "### <font color='blue'>gender Column</font>"
   ]
  },
  {
   "cell_type": "code",
   "execution_count": 13,
   "id": "5280185b",
   "metadata": {},
   "outputs": [
    {
     "data": {
      "application/vnd.jupyter.widget-view+json": {
       "model_id": "1c9165267cb94c568f56cf4dd18036c7",
       "version_major": 2,
       "version_minor": 0
      },
      "text/plain": [
       "VBox()"
      ]
     },
     "metadata": {},
     "output_type": "display_data"
    },
    {
     "data": {
      "application/vnd.jupyter.widget-view+json": {
       "model_id": "",
       "version_major": 2,
       "version_minor": 0
      },
      "text/plain": [
       "FloatProgress(value=0.0, bar_style='info', description='Progress:', layout=Layout(height='25px', width='50%'),…"
      ]
     },
     "metadata": {},
     "output_type": "display_data"
    },
    {
     "name": "stdout",
     "output_type": "stream",
     "text": [
      "+------+--------+\n",
      "|gender|   count|\n",
      "+------+--------+\n",
      "|  null|  778479|\n",
      "|     M|13299562|\n",
      "|     F|12181158|\n",
      "+------+--------+"
     ]
    }
   ],
   "source": [
    "# the entries in gender column indicate user's gender\n",
    "df.groupBy(\"gender\").count().show()"
   ]
  },
  {
   "cell_type": "code",
   "execution_count": 14,
   "id": "68d4dc26",
   "metadata": {},
   "outputs": [
    {
     "data": {
      "application/vnd.jupyter.widget-view+json": {
       "model_id": "1a9e1b60d8b14c93be186dbd25d4218b",
       "version_major": 2,
       "version_minor": 0
      },
      "text/plain": [
       "VBox()"
      ]
     },
     "metadata": {},
     "output_type": "display_data"
    },
    {
     "data": {
      "application/vnd.jupyter.widget-view+json": {
       "model_id": "",
       "version_major": 2,
       "version_minor": 0
      },
      "text/plain": [
       "FloatProgress(value=0.0, bar_style='info', description='Progress:', layout=Layout(height='25px', width='50%'),…"
      ]
     },
     "metadata": {},
     "output_type": "display_data"
    },
    {
     "name": "stdout",
     "output_type": "stream",
     "text": [
      "+------+--------+----------+\n",
      "|gender|   count|percentage|\n",
      "+------+--------+----------+\n",
      "|     M|13299562|      51.0|\n",
      "|     F|12181158|      46.0|\n",
      "+------+--------+----------+"
     ]
    }
   ],
   "source": [
    "# gender data counts and percentages, excludes null values\n",
    "\n",
    "df_gender = df \\\n",
    "            .filter(col(\"gender\").isNotNull()) \\\n",
    "            .groupby('gender') \\\n",
    "            .agg((count('gender')) \\\n",
    "            .alias('count'),\n",
    "                 (Fround(count('gender') / df.count(), 2)*100) \\\n",
    "                 .alias('percentage'))\n",
    "df_gender.show()"
   ]
  },
  {
   "cell_type": "code",
   "execution_count": 19,
   "id": "1b1513ed",
   "metadata": {},
   "outputs": [
    {
     "data": {
      "application/vnd.jupyter.widget-view+json": {
       "model_id": "5766e03c1b18478cbd774e5f61447453",
       "version_major": 2,
       "version_minor": 0
      },
      "text/plain": [
       "VBox()"
      ]
     },
     "metadata": {},
     "output_type": "display_data"
    },
    {
     "data": {
      "application/vnd.jupyter.widget-view+json": {
       "model_id": "",
       "version_major": 2,
       "version_minor": 0
      },
      "text/plain": [
       "FloatProgress(value=0.0, bar_style='info', description='Progress:', layout=Layout(height='25px', width='50%'),…"
      ]
     },
     "metadata": {},
     "output_type": "display_data"
    },
    {
     "data": {
      "image/png": "[encoded data removed]",
      "text/plain": [
       "<IPython.core.display.Image object>"
      ]
     },
     "metadata": {},
     "output_type": "display_data"
    }
   ],
   "source": [
    "# barplot for gender distribution\n",
    "\n",
    "# rewrite data as pandas dataframe\n",
    "data_gender = df_gender.toPandas()\n",
    "\n",
    "# return the series having unique values\n",
    "x = data_gender['gender'].unique()\n",
    "# return the series having frequency counts\n",
    "y = data_gender['count']\n",
    "\n",
    "# plot the bar chart\n",
    "plt.bar(x, y, color='b')\n",
    "\n",
    "# label the axes\n",
    "plt.xlabel('gender')\n",
    "plt.ylabel('count')\n",
    "\n",
    "# create the title\n",
    "plt.title(\"Users' Gender Distribution\");\n",
    "\n",
    "# display the plot\n",
    "%matplot plt"
   ]
  },
  {
   "cell_type": "markdown",
   "id": "44dffcd8",
   "metadata": {},
   "source": [
    "### <font color='blue'>location Column</font>"
   ]
  },
  {
   "cell_type": "code",
   "execution_count": 20,
   "id": "6ea509f7",
   "metadata": {},
   "outputs": [
    {
     "data": {
      "application/vnd.jupyter.widget-view+json": {
       "model_id": "a3cd835e47b14c85b8b05c50e4986af7",
       "version_major": 2,
       "version_minor": 0
      },
      "text/plain": [
       "VBox()"
      ]
     },
     "metadata": {},
     "output_type": "display_data"
    },
    {
     "data": {
      "application/vnd.jupyter.widget-view+json": {
       "model_id": "",
       "version_major": 2,
       "version_minor": 0
      },
      "text/plain": [
       "FloatProgress(value=0.0, bar_style='info', description='Progress:', layout=Layout(height='25px', width='50%'),…"
      ]
     },
     "metadata": {},
     "output_type": "display_data"
    },
    {
     "name": "stdout",
     "output_type": "stream",
     "text": [
      "-RECORD 0-----------------------------\n",
      " artist        | Popol Vuh            \n",
      " auth          | Logged In            \n",
      " firstName     | Shlok                \n",
      " gender        | M                    \n",
      " itemInSession | 278                  \n",
      " lastName      | Johnson              \n",
      " length        | 524.32934            \n",
      " level         | paid                 \n",
      " location      | Dallas-Fort Worth... \n",
      " method        | PUT                  \n",
      " page          | NextSong             \n",
      " registration  | 1533734541000        \n",
      " sessionId     | 22683                \n",
      " song          | Ich mache einen S... \n",
      " status        | 200                  \n",
      " ts            | 1538352001000        \n",
      " userAgent     | \"Mozilla/5.0 (Win... \n",
      " userId        | 1749042              \n",
      " city          | Dallas-Fort Worth... \n",
      " state         |  TX                  \n",
      "only showing top 1 row"
     ]
    }
   ],
   "source": [
    "# split the location column in two columns: city and state\n",
    "df = df.withColumn(\"city\", split(df[\"location\"], \",\").getItem(0)) \\\n",
    "        .withColumn(\"state\", split(df[\"location\"], \",\").getItem(1))\n",
    "\n",
    "df.show(1, truncate=True, vertical=True)"
   ]
  },
  {
   "cell_type": "code",
   "execution_count": 21,
   "id": "014e43c7",
   "metadata": {},
   "outputs": [
    {
     "data": {
      "application/vnd.jupyter.widget-view+json": {
       "model_id": "1e980cf0aa304b6b9a93a43bf7756514",
       "version_major": 2,
       "version_minor": 0
      },
      "text/plain": [
       "VBox()"
      ]
     },
     "metadata": {},
     "output_type": "display_data"
    },
    {
     "data": {
      "application/vnd.jupyter.widget-view+json": {
       "model_id": "",
       "version_major": 2,
       "version_minor": 0
      },
      "text/plain": [
       "FloatProgress(value=0.0, bar_style='info', description='Progress:', layout=Layout(height='25px', width='50%'),…"
      ]
     },
     "metadata": {},
     "output_type": "display_data"
    },
    {
     "name": "stdout",
     "output_type": "stream",
     "text": [
      "+---------------------+\n",
      "|count(DISTINCT state)|\n",
      "+---------------------+\n",
      "|                  100|\n",
      "+---------------------+"
     ]
    }
   ],
   "source": [
    "# determine how many states, regions are there\n",
    "df.select([countDistinct(df.state)]).show()"
   ]
  },
  {
   "cell_type": "code",
   "execution_count": 22,
   "id": "7382f3d0",
   "metadata": {},
   "outputs": [
    {
     "data": {
      "application/vnd.jupyter.widget-view+json": {
       "model_id": "8514d704d76a49d2908406f55d7a1cea",
       "version_major": 2,
       "version_minor": 0
      },
      "text/plain": [
       "VBox()"
      ]
     },
     "metadata": {},
     "output_type": "display_data"
    },
    {
     "data": {
      "application/vnd.jupyter.widget-view+json": {
       "model_id": "",
       "version_major": 2,
       "version_minor": 0
      },
      "text/plain": [
       "FloatProgress(value=0.0, bar_style='info', description='Progress:', layout=Layout(height='25px', width='50%'),…"
      ]
     },
     "metadata": {},
     "output_type": "display_data"
    },
    {
     "name": "stdout",
     "output_type": "stream",
     "text": [
      "+---------+-------+\n",
      "|    state|  count|\n",
      "+---------+-------+\n",
      "|       CA|3319191|\n",
      "|       TX|2027031|\n",
      "| NY-NJ-PA|1732380|\n",
      "|       FL|1609066|\n",
      "|       MI| 804841|\n",
      "|     null| 778479|\n",
      "|       OH| 767960|\n",
      "| IL-IN-WI| 725147|\n",
      "|       GA| 694680|\n",
      "|       AZ| 653779|\n",
      "+---------+-------+\n",
      "only showing top 10 rows"
     ]
    }
   ],
   "source": [
    "# take a look at the distribution of sessions by state\n",
    "df.groupBy(\"state\").count().sort(desc(\"count\")).show(10)"
   ]
  },
  {
   "cell_type": "code",
   "execution_count": 23,
   "id": "7074a253",
   "metadata": {},
   "outputs": [
    {
     "data": {
      "application/vnd.jupyter.widget-view+json": {
       "model_id": "b9920c700d2f413c9bc2fbf7de0ff731",
       "version_major": 2,
       "version_minor": 0
      },
      "text/plain": [
       "VBox()"
      ]
     },
     "metadata": {},
     "output_type": "display_data"
    },
    {
     "data": {
      "application/vnd.jupyter.widget-view+json": {
       "model_id": "",
       "version_major": 2,
       "version_minor": 0
      },
      "text/plain": [
       "FloatProgress(value=0.0, bar_style='info', description='Progress:', layout=Layout(height='25px', width='50%'),…"
      ]
     },
     "metadata": {},
     "output_type": "display_data"
    },
    {
     "name": "stdout",
     "output_type": "stream",
     "text": [
      "+---------+-----+\n",
      "|    state|count|\n",
      "+---------+-----+\n",
      "|       CA| 2804|\n",
      "|       TX| 1815|\n",
      "| NY-NJ-PA| 1570|\n",
      "|       FL| 1423|\n",
      "|       OH|  703|\n",
      "| IL-IN-WI|  682|\n",
      "|       MI|  670|\n",
      "|       GA|  622|\n",
      "|       PA|  546|\n",
      "|       WA|  504|\n",
      "+---------+-----+\n",
      "only showing top 10 rows"
     ]
    }
   ],
   "source": [
    "# count the users by state\n",
    "\n",
    "user_by_state = df.groupBy([\"state\"]).agg(countDistinct(\"userId\").alias(\"count\"))\n",
    "user_by_state.sort(desc(\"count\")).show(10)"
   ]
  },
  {
   "cell_type": "markdown",
   "id": "f54446c9",
   "metadata": {},
   "source": [
    "### <font color='blue'>level Column</font>"
   ]
  },
  {
   "cell_type": "code",
   "execution_count": 24,
   "id": "f030c0bd",
   "metadata": {},
   "outputs": [
    {
     "data": {
      "application/vnd.jupyter.widget-view+json": {
       "model_id": "bbcf4a0785c84a729b452e832ce4aa61",
       "version_major": 2,
       "version_minor": 0
      },
      "text/plain": [
       "VBox()"
      ]
     },
     "metadata": {},
     "output_type": "display_data"
    },
    {
     "data": {
      "application/vnd.jupyter.widget-view+json": {
       "model_id": "",
       "version_major": 2,
       "version_minor": 0
      },
      "text/plain": [
       "FloatProgress(value=0.0, bar_style='info', description='Progress:', layout=Layout(height='25px', width='50%'),…"
      ]
     },
     "metadata": {},
     "output_type": "display_data"
    },
    {
     "name": "stdout",
     "output_type": "stream",
     "text": [
      "+-----+--------+----------+\n",
      "|level|   count|percentage|\n",
      "+-----+--------+----------+\n",
      "| free| 5663371|      22.0|\n",
      "| paid|20595828|      78.0|\n",
      "+-----+--------+----------+"
     ]
    }
   ],
   "source": [
    "# level counts and percentages, to distinguish between paid and free tier\n",
    "\n",
    "df_level = df \\\n",
    "            .filter(col(\"level\").isNotNull()) \\\n",
    "            .groupby(\"level\") \\\n",
    "            .agg((count(\"level\")) \\\n",
    "            .alias(\"count\"),\n",
    "                 (Fround(count(\"level\") / df.count(), 2)*100) \\\n",
    "                 .alias(\"percentage\"))\n",
    "\n",
    "df_level.show()"
   ]
  },
  {
   "cell_type": "code",
   "execution_count": 26,
   "id": "80aa547b",
   "metadata": {},
   "outputs": [
    {
     "data": {
      "application/vnd.jupyter.widget-view+json": {
       "model_id": "26d3dfe7a11c4ec7b65ecba80804b9b9",
       "version_major": 2,
       "version_minor": 0
      },
      "text/plain": [
       "VBox()"
      ]
     },
     "metadata": {},
     "output_type": "display_data"
    },
    {
     "data": {
      "application/vnd.jupyter.widget-view+json": {
       "model_id": "",
       "version_major": 2,
       "version_minor": 0
      },
      "text/plain": [
       "FloatProgress(value=0.0, bar_style='info', description='Progress:', layout=Layout(height='25px', width='50%'),…"
      ]
     },
     "metadata": {},
     "output_type": "display_data"
    },
    {
     "data": {
      "image/png": "[encoded data removed]",
      "text/plain": [
       "<IPython.core.display.Image object>"
      ]
     },
     "metadata": {},
     "output_type": "display_data"
    }
   ],
   "source": [
    "# barplot for level distribution\n",
    "\n",
    "# rewrite data as pandas dataframe\n",
    "data_level = df_level.toPandas()\n",
    "\n",
    "# return the series having unique values\n",
    "x = data_level['level'].unique()\n",
    "# return the series having frequency counts\n",
    "y = data_level['count']\n",
    "\n",
    "# to avoid stacking plots\n",
    "plt.clf()\n",
    "\n",
    "# plot the bar chart\n",
    "plt.bar(x, y, color='b')\n",
    "\n",
    "# label the axes\n",
    "plt.xlabel('level')\n",
    "plt.ylabel('count')\n",
    "\n",
    "# create the title\n",
    "plt.title(\"Users' Level Distribution\");\n",
    "\n",
    "# display the plot\n",
    "%matplot plt"
   ]
  },
  {
   "cell_type": "markdown",
   "id": "d6f7d81f",
   "metadata": {},
   "source": [
    "### <font color='blue'>registration, ts Columns</font>"
   ]
  },
  {
   "cell_type": "code",
   "execution_count": 27,
   "id": "cbb25679",
   "metadata": {},
   "outputs": [
    {
     "data": {
      "application/vnd.jupyter.widget-view+json": {
       "model_id": "67cb0ac281fc491589018934ec37f9a6",
       "version_major": 2,
       "version_minor": 0
      },
      "text/plain": [
       "VBox()"
      ]
     },
     "metadata": {},
     "output_type": "display_data"
    },
    {
     "data": {
      "application/vnd.jupyter.widget-view+json": {
       "model_id": "",
       "version_major": 2,
       "version_minor": 0
      },
      "text/plain": [
       "FloatProgress(value=0.0, bar_style='info', description='Progress:', layout=Layout(height='25px', width='50%'),…"
      ]
     },
     "metadata": {},
     "output_type": "display_data"
    },
    {
     "name": "stdout",
     "output_type": "stream",
     "text": [
      "+-------+---------+-------------+-------------+-------------------+-------------------+\n",
      "| userId|sessionId| registration|           ts|           event_ts|           date_reg|\n",
      "+-------+---------+-------------+-------------+-------------------+-------------------+\n",
      "|1749042|    22683|1533734541000|1538352001000|2018-10-01 00:00:01|2018-08-08 13:22:21|\n",
      "|1563081|    20836|1537500318000|1538352002000|2018-10-01 00:00:02|2018-09-21 03:25:18|\n",
      "|1697168|     4593|1536414505000|1538352002000|2018-10-01 00:00:02|2018-09-08 13:48:25|\n",
      "|1222580|     6370|1534386660000|1538352003000|2018-10-01 00:00:03|2018-08-16 02:31:00|\n",
      "+-------+---------+-------------+-------------+-------------------+-------------------+\n",
      "only showing top 4 rows"
     ]
    }
   ],
   "source": [
    "# convert the timestamp in registration and ts into datetime format\n",
    "df = df.withColumn(\"event_ts\", from_unixtime(col(\"ts\")/1000.0))\n",
    "df = df.withColumn(\"date_reg\", from_unixtime(col(\"registration\")/1000.0))\n",
    "# check the output\n",
    "df.select(\"userId\", \"sessionId\", \"registration\", \"ts\", \"event_ts\", \"date_reg\").show(4)"
   ]
  },
  {
   "cell_type": "code",
   "execution_count": 28,
   "id": "6182c117",
   "metadata": {},
   "outputs": [
    {
     "data": {
      "application/vnd.jupyter.widget-view+json": {
       "model_id": "9946cf53d6104737b42509bc1971508b",
       "version_major": 2,
       "version_minor": 0
      },
      "text/plain": [
       "VBox()"
      ]
     },
     "metadata": {},
     "output_type": "display_data"
    },
    {
     "data": {
      "application/vnd.jupyter.widget-view+json": {
       "model_id": "",
       "version_major": 2,
       "version_minor": 0
      },
      "text/plain": [
       "FloatProgress(value=0.0, bar_style='info', description='Progress:', layout=Layout(height='25px', width='50%'),…"
      ]
     },
     "metadata": {},
     "output_type": "display_data"
    },
    {
     "name": "stdout",
     "output_type": "stream",
     "text": [
      "+-------+---------+-------------------+-------------------+------+-------+\n",
      "| userId|sessionId|           event_ts|           date_reg|day_ts|day_reg|\n",
      "+-------+---------+-------------------+-------------------+------+-------+\n",
      "|1749042|    22683|2018-10-01 00:00:01|2018-08-08 13:22:21|     1|      8|\n",
      "|1563081|    20836|2018-10-01 00:00:02|2018-09-21 03:25:18|     1|     21|\n",
      "|1697168|     4593|2018-10-01 00:00:02|2018-09-08 13:48:25|     1|      8|\n",
      "|1222580|     6370|2018-10-01 00:00:03|2018-08-16 02:31:00|     1|     16|\n",
      "+-------+---------+-------------------+-------------------+------+-------+\n",
      "only showing top 4 rows"
     ]
    }
   ],
   "source": [
    "# extract day of the month in a separate column\n",
    "df = df.withColumn(\"day_ts\", dayofmonth(df.event_ts))\n",
    "df = df.withColumn(\"day_reg\", dayofmonth(df.date_reg))\n",
    "# check the output\n",
    "df.select(\"userId\", \"sessionId\", \"event_ts\", \"date_reg\", \"day_ts\", \"day_reg\").show(4)"
   ]
  },
  {
   "cell_type": "code",
   "execution_count": 29,
   "id": "6c7a811f",
   "metadata": {},
   "outputs": [
    {
     "data": {
      "application/vnd.jupyter.widget-view+json": {
       "model_id": "9f7348e0100e4ac89057fb952134d235",
       "version_major": 2,
       "version_minor": 0
      },
      "text/plain": [
       "VBox()"
      ]
     },
     "metadata": {},
     "output_type": "display_data"
    },
    {
     "data": {
      "application/vnd.jupyter.widget-view+json": {
       "model_id": "",
       "version_major": 2,
       "version_minor": 0
      },
      "text/plain": [
       "FloatProgress(value=0.0, bar_style='info', description='Progress:', layout=Layout(height='25px', width='50%'),…"
      ]
     },
     "metadata": {},
     "output_type": "display_data"
    },
    {
     "name": "stdout",
     "output_type": "stream",
     "text": [
      "+-------+---------+-------------------+-------------------+----------+-----------+\n",
      "| userId|sessionId|           event_ts|           date_reg|weekday_ts|weekday_reg|\n",
      "+-------+---------+-------------------+-------------------+----------+-----------+\n",
      "|1749042|    22683|2018-10-01 00:00:01|2018-08-08 13:22:21|    Monday|  Wednesday|\n",
      "|1563081|    20836|2018-10-01 00:00:02|2018-09-21 03:25:18|    Monday|     Friday|\n",
      "|1697168|     4593|2018-10-01 00:00:02|2018-09-08 13:48:25|    Monday|   Saturday|\n",
      "|1222580|     6370|2018-10-01 00:00:03|2018-08-16 02:31:00|    Monday|   Thursday|\n",
      "+-------+---------+-------------------+-------------------+----------+-----------+\n",
      "only showing top 4 rows"
     ]
    }
   ],
   "source": [
    "# extract day of the week in words\n",
    "df=df.withColumn(\"weekday_ts\", date_format(col(\"event_ts\"), \"EEEE\"))\n",
    "df=df.withColumn(\"weekday_reg\", date_format(col(\"date_reg\"), \"EEEE\"))\n",
    "# check the output\n",
    "df.select(\"userId\", \"sessionId\", \"event_ts\", \"date_reg\", \"weekday_ts\", \"weekday_reg\").show(4)"
   ]
  },
  {
   "cell_type": "code",
   "execution_count": 30,
   "id": "9c8cb7f5",
   "metadata": {},
   "outputs": [
    {
     "data": {
      "application/vnd.jupyter.widget-view+json": {
       "model_id": "3e2f523a2f6449b79d8b89e80edfa5b3",
       "version_major": 2,
       "version_minor": 0
      },
      "text/plain": [
       "VBox()"
      ]
     },
     "metadata": {},
     "output_type": "display_data"
    },
    {
     "data": {
      "application/vnd.jupyter.widget-view+json": {
       "model_id": "",
       "version_major": 2,
       "version_minor": 0
      },
      "text/plain": [
       "FloatProgress(value=0.0, bar_style='info', description='Progress:', layout=Layout(height='25px', width='50%'),…"
      ]
     },
     "metadata": {},
     "output_type": "display_data"
    },
    {
     "name": "stdout",
     "output_type": "stream",
     "text": [
      "+-------+---------+-------------------+-------------------+--------+---------+\n",
      "| userId|sessionId|           event_ts|           date_reg|month_ts|month_reg|\n",
      "+-------+---------+-------------------+-------------------+--------+---------+\n",
      "|1749042|    22683|2018-10-01 00:00:01|2018-08-08 13:22:21|      10|        8|\n",
      "|1563081|    20836|2018-10-01 00:00:02|2018-09-21 03:25:18|      10|        9|\n",
      "|1697168|     4593|2018-10-01 00:00:02|2018-09-08 13:48:25|      10|        9|\n",
      "|1222580|     6370|2018-10-01 00:00:03|2018-08-16 02:31:00|      10|        8|\n",
      "+-------+---------+-------------------+-------------------+--------+---------+\n",
      "only showing top 4 rows"
     ]
    }
   ],
   "source": [
    "# extract month from date\n",
    "df = df.withColumn(\"month_ts\",month(df.event_ts))\n",
    "df = df.withColumn(\"month_reg\",month(df.date_reg))\n",
    "# check the output\n",
    "df.select(\"userId\", \"sessionId\", \"event_ts\", \"date_reg\", \"month_ts\", \"month_reg\").show(4)"
   ]
  },
  {
   "cell_type": "code",
   "execution_count": 31,
   "id": "9f0f1bf1",
   "metadata": {},
   "outputs": [
    {
     "data": {
      "application/vnd.jupyter.widget-view+json": {
       "model_id": "db80e4cdcec44a93acc2c182b3c2c2b2",
       "version_major": 2,
       "version_minor": 0
      },
      "text/plain": [
       "VBox()"
      ]
     },
     "metadata": {},
     "output_type": "display_data"
    },
    {
     "data": {
      "application/vnd.jupyter.widget-view+json": {
       "model_id": "",
       "version_major": 2,
       "version_minor": 0
      },
      "text/plain": [
       "FloatProgress(value=0.0, bar_style='info', description='Progress:', layout=Layout(height='25px', width='50%'),…"
      ]
     },
     "metadata": {},
     "output_type": "display_data"
    },
    {
     "name": "stdout",
     "output_type": "stream",
     "text": [
      "+-------+---------+-------------------+-------------------+-------+\n",
      "| userId|sessionId|           event_ts|           date_reg|hour_ts|\n",
      "+-------+---------+-------------------+-------------------+-------+\n",
      "|1749042|    22683|2018-10-01 00:00:01|2018-08-08 13:22:21|      0|\n",
      "|1563081|    20836|2018-10-01 00:00:02|2018-09-21 03:25:18|      0|\n",
      "|1697168|     4593|2018-10-01 00:00:02|2018-09-08 13:48:25|      0|\n",
      "|1222580|     6370|2018-10-01 00:00:03|2018-08-16 02:31:00|      0|\n",
      "+-------+---------+-------------------+-------------------+-------+\n",
      "only showing top 4 rows"
     ]
    }
   ],
   "source": [
    "# get session hour from timestamp\n",
    "df = df.withColumn(\"hour_ts\",hour(df.event_ts))\n",
    "# check the output\n",
    "df.select(\"userId\", \"sessionId\", \"event_ts\", \"date_reg\", \"hour_ts\").show(4)"
   ]
  },
  {
   "cell_type": "code",
   "execution_count": 32,
   "id": "aef205cc",
   "metadata": {},
   "outputs": [
    {
     "data": {
      "application/vnd.jupyter.widget-view+json": {
       "model_id": "7dfe118f08e24ad297e88477f61fe7d9",
       "version_major": 2,
       "version_minor": 0
      },
      "text/plain": [
       "VBox()"
      ]
     },
     "metadata": {},
     "output_type": "display_data"
    },
    {
     "data": {
      "application/vnd.jupyter.widget-view+json": {
       "model_id": "",
       "version_major": 2,
       "version_minor": 0
      },
      "text/plain": [
       "FloatProgress(value=0.0, bar_style='info', description='Progress:', layout=Layout(height='25px', width='50%'),…"
      ]
     },
     "metadata": {},
     "output_type": "display_data"
    },
    {
     "name": "stdout",
     "output_type": "stream",
     "text": [
      "+-------+--------------------+--------------------+\n",
      "|summary|        registration|                  ts|\n",
      "+-------+--------------------+--------------------+\n",
      "|  count|            25480720|            26259199|\n",
      "|   mean|1.535220665260512...|1.540905636113772...|\n",
      "| stddev| 3.240299097825069E9|1.5158105552718587E9|\n",
      "|    min|       1508018725000|       1538352001000|\n",
      "|    max|       1543821822000|       1543622402000|\n",
      "+-------+--------------------+--------------------+"
     ]
    }
   ],
   "source": [
    "# take a look at the statistics for the two columns registration and ts\n",
    "reg_ts = df.describe(\"registration\", \"ts\")\n",
    "reg_ts.show()"
   ]
  },
  {
   "cell_type": "code",
   "execution_count": 33,
   "id": "5dc30329",
   "metadata": {},
   "outputs": [
    {
     "data": {
      "application/vnd.jupyter.widget-view+json": {
       "model_id": "1a57fc91c66845d5938a7457936009fd",
       "version_major": 2,
       "version_minor": 0
      },
      "text/plain": [
       "VBox()"
      ]
     },
     "metadata": {},
     "output_type": "display_data"
    },
    {
     "data": {
      "application/vnd.jupyter.widget-view+json": {
       "model_id": "",
       "version_major": 2,
       "version_minor": 0
      },
      "text/plain": [
       "FloatProgress(value=0.0, bar_style='info', description='Progress:', layout=Layout(height='25px', width='50%'),…"
      ]
     },
     "metadata": {},
     "output_type": "display_data"
    },
    {
     "name": "stdout",
     "output_type": "stream",
     "text": [
      "The first session recorded is on 2018-10-01 00:00:01.\n",
      "The last session recorded is on 2018-12-01 00:00:02."
     ]
    }
   ],
   "source": [
    "# the earliest and the latest sessions in the dataset\n",
    "mindate = df.agg(Fmin(\"event_ts\")).toPandas()\n",
    "maxdate = df.agg(Fmax(\"event_ts\")).toPandas()\n",
    "\n",
    "# print the start date and the end date of the period in the dataset\n",
    "print(\"The first session recorded is on {}.\".format(mindate[\"min(event_ts)\"][0]))\n",
    "print(\"The last session recorded is on {}.\".format(maxdate[\"max(event_ts)\"][0]))"
   ]
  },
  {
   "cell_type": "code",
   "execution_count": 34,
   "id": "57914a88",
   "metadata": {},
   "outputs": [
    {
     "data": {
      "application/vnd.jupyter.widget-view+json": {
       "model_id": "6b178b2e63c14920a4b9f9010490690c",
       "version_major": 2,
       "version_minor": 0
      },
      "text/plain": [
       "VBox()"
      ]
     },
     "metadata": {},
     "output_type": "display_data"
    },
    {
     "data": {
      "application/vnd.jupyter.widget-view+json": {
       "model_id": "",
       "version_major": 2,
       "version_minor": 0
      },
      "text/plain": [
       "FloatProgress(value=0.0, bar_style='info', description='Progress:', layout=Layout(height='25px', width='50%'),…"
      ]
     },
     "metadata": {},
     "output_type": "display_data"
    },
    {
     "name": "stdout",
     "output_type": "stream",
     "text": [
      "The first user registration is on 2017-10-14 22:05:25.\n",
      "The last user registration is on 2018-12-03 07:23:42."
     ]
    }
   ],
   "source": [
    "# the earliest and the latest user registration in the dataset\n",
    "mindatereg = df.agg(Fmin(\"date_reg\")).toPandas()\n",
    "maxdatereg = df.agg(Fmax(\"date_reg\")).toPandas()\n",
    "\n",
    "# print the start date and the end date of the period for user registration\n",
    "print(\"The first user registration is on {}.\".format(mindatereg[\"min(date_reg)\"][0]))\n",
    "print(\"The last user registration is on {}.\".format(maxdatereg[\"max(date_reg)\"][0]))"
   ]
  },
  {
   "cell_type": "code",
   "execution_count": 35,
   "id": "d2bf6cec",
   "metadata": {},
   "outputs": [
    {
     "data": {
      "application/vnd.jupyter.widget-view+json": {
       "model_id": "137a60352dc8497d8ff102955bb06d56",
       "version_major": 2,
       "version_minor": 0
      },
      "text/plain": [
       "VBox()"
      ]
     },
     "metadata": {},
     "output_type": "display_data"
    },
    {
     "data": {
      "application/vnd.jupyter.widget-view+json": {
       "model_id": "",
       "version_major": 2,
       "version_minor": 0
      },
      "text/plain": [
       "FloatProgress(value=0.0, bar_style='info', description='Progress:', layout=Layout(height='25px', width='50%'),…"
      ]
     },
     "metadata": {},
     "output_type": "display_data"
    },
    {
     "name": "stdout",
     "output_type": "stream",
     "text": [
      "+-------+-------------+\n",
      "|hour_ts|countSessions|\n",
      "+-------+-------------+\n",
      "|     12|        66020|\n",
      "|      1|        62592|\n",
      "|      6|        57778|\n",
      "|      3|        59651|\n",
      "|      4|        58830|\n",
      "|      8|        58235|\n",
      "|     11|        63054|\n",
      "|     19|        76586|\n",
      "|     23|        66847|\n",
      "|     21|        71479|\n",
      "|     14|        74947|\n",
      "|     16|        80550|\n",
      "|     20|        74135|\n",
      "|      5|        58147|\n",
      "|     15|        78958|\n",
      "|      2|        60966|\n",
      "|     18|        78732|\n",
      "|     13|        70164|\n",
      "|     17|        80114|\n",
      "|      7|        57738|\n",
      "|      0|        64428|\n",
      "|     22|        68980|\n",
      "|      9|        58980|\n",
      "|     10|        60606|\n",
      "+-------+-------------+"
     ]
    }
   ],
   "source": [
    "# count sessions by hour\n",
    "session_by_hour = df.groupBy([\"hour_ts\"]).agg(countDistinct(\"sessionId\").alias(\"countSessions\"))\n",
    "session_by_hour.show(24)"
   ]
  },
  {
   "cell_type": "code",
   "execution_count": 36,
   "id": "c1aaaa8e",
   "metadata": {},
   "outputs": [
    {
     "data": {
      "application/vnd.jupyter.widget-view+json": {
       "model_id": "093fce3a73d4411180956b252a31db35",
       "version_major": 2,
       "version_minor": 0
      },
      "text/plain": [
       "VBox()"
      ]
     },
     "metadata": {},
     "output_type": "display_data"
    },
    {
     "data": {
      "application/vnd.jupyter.widget-view+json": {
       "model_id": "",
       "version_major": 2,
       "version_minor": 0
      },
      "text/plain": [
       "FloatProgress(value=0.0, bar_style='info', description='Progress:', layout=Layout(height='25px', width='50%'),…"
      ]
     },
     "metadata": {},
     "output_type": "display_data"
    },
    {
     "data": {
      "image/png": "[encoded data removed]",
      "text/plain": [
       "<IPython.core.display.Image object>"
      ]
     },
     "metadata": {},
     "output_type": "display_data"
    }
   ],
   "source": [
    "# barplot for sessions by hour distribution\n",
    "\n",
    "# rewrite data as pandas dataframe\n",
    "data_hour = session_by_hour.toPandas().sort_values(by=\"countSessions\",\n",
    "                                              ascending=False)\n",
    "\n",
    "# return the series having unique values\n",
    "x = data_hour['hour_ts'].unique()\n",
    "# return the series having frequency counts\n",
    "y = data_hour['countSessions']\n",
    "\n",
    "# to avoid stacking plots\n",
    "plt.clf()\n",
    "\n",
    "# set figure size\n",
    "fig=plt.figure(figsize=(8,4))\n",
    "\n",
    "# plot the bar chart\n",
    "plt.bar(x, y)\n",
    "\n",
    "# label the axes\n",
    "plt.xlabel('hour')\n",
    "plt.ylabel('count')\n",
    "plt.xticks(data_hour.index)\n",
    "\n",
    "# create the title\n",
    "plt.title(\"Distribution of Sessions by Hour\");\n",
    "\n",
    "# display the plot\n",
    "%matplot plt"
   ]
  },
  {
   "cell_type": "code",
   "execution_count": 37,
   "id": "fb989b4b",
   "metadata": {},
   "outputs": [
    {
     "data": {
      "application/vnd.jupyter.widget-view+json": {
       "model_id": "ffa7283436d24063964ee623fcba2772",
       "version_major": 2,
       "version_minor": 0
      },
      "text/plain": [
       "VBox()"
      ]
     },
     "metadata": {},
     "output_type": "display_data"
    },
    {
     "data": {
      "application/vnd.jupyter.widget-view+json": {
       "model_id": "",
       "version_major": 2,
       "version_minor": 0
      },
      "text/plain": [
       "FloatProgress(value=0.0, bar_style='info', description='Progress:', layout=Layout(height='25px', width='50%'),…"
      ]
     },
     "metadata": {},
     "output_type": "display_data"
    },
    {
     "name": "stdout",
     "output_type": "stream",
     "text": [
      "+----------+-------------+\n",
      "|weekday_ts|countSessions|\n",
      "+----------+-------------+\n",
      "| Wednesday|        57703|\n",
      "|  Saturday|        32499|\n",
      "|   Tuesday|        57479|\n",
      "|    Monday|        53990|\n",
      "|    Sunday|        29359|\n",
      "|    Friday|        56242|\n",
      "|  Thursday|        55242|\n",
      "+----------+-------------+"
     ]
    }
   ],
   "source": [
    "# count sessions by day of the week\n",
    "session_by_weekday = df.groupBy([\"weekday_ts\"]).agg(countDistinct(\"sessionId\").alias(\"countSessions\"))\n",
    "session_by_weekday.show()"
   ]
  },
  {
   "cell_type": "code",
   "execution_count": 38,
   "id": "ee31472e",
   "metadata": {},
   "outputs": [
    {
     "data": {
      "application/vnd.jupyter.widget-view+json": {
       "model_id": "970b9ec8d88d4c34b659982ada654e4f",
       "version_major": 2,
       "version_minor": 0
      },
      "text/plain": [
       "VBox()"
      ]
     },
     "metadata": {},
     "output_type": "display_data"
    },
    {
     "data": {
      "application/vnd.jupyter.widget-view+json": {
       "model_id": "",
       "version_major": 2,
       "version_minor": 0
      },
      "text/plain": [
       "FloatProgress(value=0.0, bar_style='info', description='Progress:', layout=Layout(height='25px', width='50%'),…"
      ]
     },
     "metadata": {},
     "output_type": "display_data"
    },
    {
     "data": {
      "image/png": "[encoded data removed]",
      "text/plain": [
       "<IPython.core.display.Image object>"
      ]
     },
     "metadata": {},
     "output_type": "display_data"
    }
   ],
   "source": [
    "# visualize sessions by day of the week\n",
    "\n",
    "# rewrite data as pandas dataframe\n",
    "data_weekday = session_by_weekday.toPandas().sort_values(by=\"countSessions\",\n",
    "                                              ascending=False)\n",
    "\n",
    "# return the series having unique values\n",
    "x = data_weekday['weekday_ts'].unique()\n",
    "# return the series having frequency counts\n",
    "y = data_weekday['countSessions']\n",
    "\n",
    "# to avoid stacking plots\n",
    "plt.clf()\n",
    "\n",
    "# set figure size\n",
    "fig=plt.figure(figsize=(8,4))\n",
    "\n",
    "# plot the bar chart\n",
    "plt.bar(x, y)\n",
    "\n",
    "# label the axes\n",
    "plt.xlabel('')\n",
    "plt.ylabel('count')\n",
    "plt.xticks(data_weekday.index)\n",
    "\n",
    "# create the title\n",
    "plt.title(\"Distribution of Sessions by Day\");\n",
    "\n",
    "# display the plot\n",
    "%matplot plt"
   ]
  },
  {
   "cell_type": "code",
   "execution_count": 39,
   "id": "9a4bf860",
   "metadata": {},
   "outputs": [
    {
     "data": {
      "application/vnd.jupyter.widget-view+json": {
       "model_id": "168f45b2ca8d4a3babf79571d7d8c647",
       "version_major": 2,
       "version_minor": 0
      },
      "text/plain": [
       "VBox()"
      ]
     },
     "metadata": {},
     "output_type": "display_data"
    },
    {
     "data": {
      "application/vnd.jupyter.widget-view+json": {
       "model_id": "",
       "version_major": 2,
       "version_minor": 0
      },
      "text/plain": [
       "FloatProgress(value=0.0, bar_style='info', description='Progress:', layout=Layout(height='25px', width='50%'),…"
      ]
     },
     "metadata": {},
     "output_type": "display_data"
    },
    {
     "name": "stdout",
     "output_type": "stream",
     "text": [
      "+--------+-------------+\n",
      "|month_ts|countSessions|\n",
      "+--------+-------------+\n",
      "|      12|            2|\n",
      "|      11|       124271|\n",
      "|      10|       133289|\n",
      "+--------+-------------+"
     ]
    }
   ],
   "source": [
    "# count sessions by month\n",
    "session_by_month = df.groupBy([\"month_ts\"]).agg(countDistinct(\"sessionId\").alias(\"countSessions\"))\n",
    "session_by_month.show()"
   ]
  },
  {
   "cell_type": "code",
   "execution_count": 40,
   "id": "b424b133",
   "metadata": {},
   "outputs": [
    {
     "data": {
      "application/vnd.jupyter.widget-view+json": {
       "model_id": "a59d3ce3e38d45f4b16dad9200a2ad90",
       "version_major": 2,
       "version_minor": 0
      },
      "text/plain": [
       "VBox()"
      ]
     },
     "metadata": {},
     "output_type": "display_data"
    },
    {
     "data": {
      "application/vnd.jupyter.widget-view+json": {
       "model_id": "",
       "version_major": 2,
       "version_minor": 0
      },
      "text/plain": [
       "FloatProgress(value=0.0, bar_style='info', description='Progress:', layout=Layout(height='25px', width='50%'),…"
      ]
     },
     "metadata": {},
     "output_type": "display_data"
    },
    {
     "data": {
      "image/png": "[encoded data removed]",
      "text/plain": [
       "<IPython.core.display.Image object>"
      ]
     },
     "metadata": {},
     "output_type": "display_data"
    }
   ],
   "source": [
    "# visualize sessions by month\n",
    "\n",
    "# rewrite data as pandas dataframe\n",
    "data_month = session_by_month.toPandas().sort_values(by=\"countSessions\",\n",
    "                                              ascending=False)\n",
    "\n",
    "# return the series having unique values\n",
    "x = data_month['month_ts'].unique()\n",
    "# return the series having frequency counts\n",
    "y = data_month['countSessions']\n",
    "\n",
    "# to avoid stacking plots\n",
    "plt.clf()\n",
    "\n",
    "# set figure size\n",
    "fig=plt.figure(figsize=(8,4))\n",
    "\n",
    "# plot the bar chart\n",
    "plt.bar(x, y)\n",
    "\n",
    "# label the axes\n",
    "plt.xlabel('')\n",
    "plt.ylabel('count')\n",
    "\n",
    "plt.xticks(data_month.month_ts)\n",
    "\n",
    "# create the title\n",
    "plt.title(\"Distribution of Sessions by Month\");\n",
    "\n",
    "# display the plot\n",
    "%matplot plt"
   ]
  },
  {
   "cell_type": "markdown",
   "id": "78030b6e",
   "metadata": {},
   "source": [
    "### <font color='blue'>method Column</font>"
   ]
  },
  {
   "cell_type": "code",
   "execution_count": 41,
   "id": "5bc01a8b",
   "metadata": {},
   "outputs": [
    {
     "data": {
      "application/vnd.jupyter.widget-view+json": {
       "model_id": "cb28964929ff49dea00a265bb1d7be2e",
       "version_major": 2,
       "version_minor": 0
      },
      "text/plain": [
       "VBox()"
      ]
     },
     "metadata": {},
     "output_type": "display_data"
    },
    {
     "data": {
      "application/vnd.jupyter.widget-view+json": {
       "model_id": "",
       "version_major": 2,
       "version_minor": 0
      },
      "text/plain": [
       "FloatProgress(value=0.0, bar_style='info', description='Progress:', layout=Layout(height='25px', width='50%'),…"
      ]
     },
     "metadata": {},
     "output_type": "display_data"
    },
    {
     "name": "stdout",
     "output_type": "stream",
     "text": [
      "+------+--------+\n",
      "|method|   count|\n",
      "+------+--------+\n",
      "|   GET| 2389761|\n",
      "|   PUT|23869438|\n",
      "+------+--------+"
     ]
    }
   ],
   "source": [
    "# the HTTP request method initiated by user, counts and percentages \n",
    "df_method = df.groupBy(\"method\").count()\n",
    "df_method.show()"
   ]
  },
  {
   "cell_type": "code",
   "execution_count": 42,
   "id": "525a9bf6",
   "metadata": {},
   "outputs": [
    {
     "data": {
      "application/vnd.jupyter.widget-view+json": {
       "model_id": "96911ace636144e9b2759a7b1b847fc7",
       "version_major": 2,
       "version_minor": 0
      },
      "text/plain": [
       "VBox()"
      ]
     },
     "metadata": {},
     "output_type": "display_data"
    },
    {
     "data": {
      "application/vnd.jupyter.widget-view+json": {
       "model_id": "",
       "version_major": 2,
       "version_minor": 0
      },
      "text/plain": [
       "FloatProgress(value=0.0, bar_style='info', description='Progress:', layout=Layout(height='25px', width='50%'),…"
      ]
     },
     "metadata": {},
     "output_type": "display_data"
    },
    {
     "data": {
      "image/png": "[encoded data removed]",
      "text/plain": [
       "<IPython.core.display.Image object>"
      ]
     },
     "metadata": {},
     "output_type": "display_data"
    }
   ],
   "source": [
    "# visualize sessions by method\n",
    "\n",
    "# rewrite data as pandas dataframe\n",
    "data_method = df_method.toPandas().sort_values(by=\"count\",\n",
    "                                              ascending=False)\n",
    "\n",
    "# return the series having unique values\n",
    "x = data_method['method'].unique()\n",
    "# return the series having frequency counts\n",
    "y = data_method['count']\n",
    "\n",
    "# to avoid stacking plots\n",
    "plt.clf()\n",
    "\n",
    "# plot the bar chart\n",
    "plt.bar(x, y)\n",
    "\n",
    "# label the axes\n",
    "plt.xlabel('')\n",
    "plt.ylabel('count')\n",
    "\n",
    "plt.xticks(data_method.method)\n",
    "\n",
    "# create the title\n",
    "plt.title(\"Distribution of Method\");\n",
    "\n",
    "# display the plot\n",
    "%matplot plt"
   ]
  },
  {
   "cell_type": "markdown",
   "id": "9c20b23b",
   "metadata": {},
   "source": [
    "### <font color='blue'>status Column</font>"
   ]
  },
  {
   "cell_type": "code",
   "execution_count": 43,
   "id": "21ae3b4e",
   "metadata": {},
   "outputs": [
    {
     "data": {
      "application/vnd.jupyter.widget-view+json": {
       "model_id": "41ca1a0a204742b2926a2a596cd86b47",
       "version_major": 2,
       "version_minor": 0
      },
      "text/plain": [
       "VBox()"
      ]
     },
     "metadata": {},
     "output_type": "display_data"
    },
    {
     "data": {
      "application/vnd.jupyter.widget-view+json": {
       "model_id": "",
       "version_major": 2,
       "version_minor": 0
      },
      "text/plain": [
       "FloatProgress(value=0.0, bar_style='info', description='Progress:', layout=Layout(height='25px', width='50%'),…"
      ]
     },
     "metadata": {},
     "output_type": "display_data"
    },
    {
     "name": "stdout",
     "output_type": "stream",
     "text": [
      "+------+--------+\n",
      "|status|   count|\n",
      "+------+--------+\n",
      "|   200|23811992|\n",
      "|   404|   25962|\n",
      "|   307| 2421245|\n",
      "+------+--------+"
     ]
    }
   ],
   "source": [
    "# the HTTP status codes distribution\n",
    "df_status = df.groupBy(\"status\").count()\n",
    "df_status.show()"
   ]
  },
  {
   "cell_type": "code",
   "execution_count": 44,
   "id": "1913a6f3",
   "metadata": {},
   "outputs": [
    {
     "data": {
      "application/vnd.jupyter.widget-view+json": {
       "model_id": "ff09bdc6267b44c49b5a442c8765b41f",
       "version_major": 2,
       "version_minor": 0
      },
      "text/plain": [
       "VBox()"
      ]
     },
     "metadata": {},
     "output_type": "display_data"
    },
    {
     "data": {
      "application/vnd.jupyter.widget-view+json": {
       "model_id": "",
       "version_major": 2,
       "version_minor": 0
      },
      "text/plain": [
       "FloatProgress(value=0.0, bar_style='info', description='Progress:', layout=Layout(height='25px', width='50%'),…"
      ]
     },
     "metadata": {},
     "output_type": "display_data"
    },
    {
     "data": {
      "image/png": "[encoded data removed]",
      "text/plain": [
       "<IPython.core.display.Image object>"
      ]
     },
     "metadata": {},
     "output_type": "display_data"
    }
   ],
   "source": [
    "# visualize sessions by status\n",
    "\n",
    "# rewrite data as pandas dataframe\n",
    "data_status = df_status.toPandas().sort_values(by=\"count\",\n",
    "                                              ascending=False)\n",
    "\n",
    "# return the series having unique values\n",
    "x = data_status['status'].unique()\n",
    "# return the series having frequency counts\n",
    "y = data_status['count']\n",
    "\n",
    "# to avoid stacking plots\n",
    "plt.clf()\n",
    "\n",
    "# plot the bar chart\n",
    "plt.bar(x, y)\n",
    "\n",
    "# label the axes\n",
    "plt.xlabel('')\n",
    "plt.ylabel('count')\n",
    "\n",
    "plt.xticks(data_status.status)\n",
    "\n",
    "# create the title\n",
    "plt.title(\"Distribution of Sessions by Status\");\n",
    "\n",
    "# display the plot\n",
    "%matplot plt"
   ]
  },
  {
   "cell_type": "code",
   "execution_count": 45,
   "id": "fe9a8971",
   "metadata": {},
   "outputs": [
    {
     "data": {
      "application/vnd.jupyter.widget-view+json": {
       "model_id": "3be4776cd28f4ca0b91f73be3cc7396f",
       "version_major": 2,
       "version_minor": 0
      },
      "text/plain": [
       "VBox()"
      ]
     },
     "metadata": {},
     "output_type": "display_data"
    },
    {
     "data": {
      "application/vnd.jupyter.widget-view+json": {
       "model_id": "",
       "version_major": 2,
       "version_minor": 0
      },
      "text/plain": [
       "FloatProgress(value=0.0, bar_style='info', description='Progress:', layout=Layout(height='25px', width='50%'),…"
      ]
     },
     "metadata": {},
     "output_type": "display_data"
    },
    {
     "name": "stdout",
     "output_type": "stream",
     "text": [
      "-RECORD 0-----------------------------\n",
      " artist        | null                 \n",
      " auth          | Logged In            \n",
      " firstName     | Anthony              \n",
      " gender        | M                    \n",
      " itemInSession | 12                   \n",
      " lastName      | Diaz                 \n",
      " length        | null                 \n",
      " level         | paid                 \n",
      " location      | New York-Newark-J... \n",
      " method        | GET                  \n",
      " page          | Error                \n",
      " registration  | 1538045178000        \n",
      " sessionId     | 11807                \n",
      " song          | null                 \n",
      " status        | 404                  \n",
      " ts            | 1538352013000        \n",
      " userAgent     | \"Mozilla/5.0 (Mac... \n",
      " userId        | 1507202              \n",
      " city          | New York-Newark-J... \n",
      " state         |  NY-NJ-PA            \n",
      " event_ts      | 2018-10-01 00:00:13  \n",
      " date_reg      | 2018-09-27 10:46:18  \n",
      " day_ts        | 1                    \n",
      " day_reg       | 27                   \n",
      " weekday_ts    | Monday               \n",
      " weekday_reg   | Thursday             \n",
      " month_ts      | 10                   \n",
      " month_reg     | 9                    \n",
      " hour_ts       | 0                    \n",
      "only showing top 1 row"
     ]
    }
   ],
   "source": [
    "# take a look at the entries that have status 404\n",
    "df_error = df.filter(df[\"status\"] == 404)\n",
    "df_error.show(1, vertical=True)"
   ]
  },
  {
   "cell_type": "code",
   "execution_count": 46,
   "id": "274fd4c4",
   "metadata": {},
   "outputs": [
    {
     "data": {
      "application/vnd.jupyter.widget-view+json": {
       "model_id": "20ee69deec4d45eca1fe4c2a7ea401ef",
       "version_major": 2,
       "version_minor": 0
      },
      "text/plain": [
       "VBox()"
      ]
     },
     "metadata": {},
     "output_type": "display_data"
    },
    {
     "data": {
      "application/vnd.jupyter.widget-view+json": {
       "model_id": "",
       "version_major": 2,
       "version_minor": 0
      },
      "text/plain": [
       "FloatProgress(value=0.0, bar_style='info', description='Progress:', layout=Layout(height='25px', width='50%'),…"
      ]
     },
     "metadata": {},
     "output_type": "display_data"
    },
    {
     "name": "stdout",
     "output_type": "stream",
     "text": [
      "-RECORD 0--------------\n",
      " artist        | 0     \n",
      " auth          | 3     \n",
      " firstName     | 3618  \n",
      " gender        | 2     \n",
      " itemInSession | 713   \n",
      " lastName      | 998   \n",
      " length        | 0     \n",
      " level         | 2     \n",
      " location      | 807   \n",
      " method        | 1     \n",
      " page          | 1     \n",
      " registration  | 11261 \n",
      " sessionId     | 23070 \n",
      " song          | 0     \n",
      " status        | 1     \n",
      " ts            | 25894 \n",
      " userAgent     | 85    \n",
      " userId        | 11273 \n",
      " city          | 750   \n",
      " state         | 100   \n",
      " event_ts      | 25894 \n",
      " date_reg      | 11261 \n",
      " day_ts        | 31    \n",
      " day_reg       | 31    \n",
      " weekday_ts    | 7     \n",
      " weekday_reg   | 7     \n",
      " month_ts      | 2     \n",
      " month_reg     | 12    \n",
      " hour_ts       | 24"
     ]
    }
   ],
   "source": [
    "# a look at the other columns when status = 404, count distinct entries in each\n",
    "df_error.select([countDistinct(c) .alias(c) for c in df.columns]).show(vertical=True)"
   ]
  },
  {
   "cell_type": "code",
   "execution_count": 47,
   "id": "393fff45",
   "metadata": {},
   "outputs": [
    {
     "data": {
      "application/vnd.jupyter.widget-view+json": {
       "model_id": "d8a4aaa29ca14fbfb51fe3b4c3f550cb",
       "version_major": 2,
       "version_minor": 0
      },
      "text/plain": [
       "VBox()"
      ]
     },
     "metadata": {},
     "output_type": "display_data"
    },
    {
     "data": {
      "application/vnd.jupyter.widget-view+json": {
       "model_id": "",
       "version_major": 2,
       "version_minor": 0
      },
      "text/plain": [
       "FloatProgress(value=0.0, bar_style='info', description='Progress:', layout=Layout(height='25px', width='50%'),…"
      ]
     },
     "metadata": {},
     "output_type": "display_data"
    },
    {
     "name": "stdout",
     "output_type": "stream",
     "text": [
      "There are 25962 records where the HTTP status is 404, page not found."
     ]
    }
   ],
   "source": [
    "# print how many records have status 404\n",
    "print(\"There are {} records where the HTTP status is 404, page not found.\" \\\n",
    "      .format(df_error.count()))"
   ]
  },
  {
   "cell_type": "code",
   "execution_count": 48,
   "id": "a9011a55",
   "metadata": {},
   "outputs": [
    {
     "data": {
      "application/vnd.jupyter.widget-view+json": {
       "model_id": "7d1c7598db3746f09d600cd06d19601a",
       "version_major": 2,
       "version_minor": 0
      },
      "text/plain": [
       "VBox()"
      ]
     },
     "metadata": {},
     "output_type": "display_data"
    },
    {
     "data": {
      "application/vnd.jupyter.widget-view+json": {
       "model_id": "",
       "version_major": 2,
       "version_minor": 0
      },
      "text/plain": [
       "FloatProgress(value=0.0, bar_style='info', description='Progress:', layout=Layout(height='25px', width='50%'),…"
      ]
     },
     "metadata": {},
     "output_type": "display_data"
    },
    {
     "name": "stdout",
     "output_type": "stream",
     "text": [
      "-RECORD 0-----------------------------\n",
      " artist        | null                 \n",
      " auth          | Logged In            \n",
      " firstName     | Anthony              \n",
      " gender        | M                    \n",
      " itemInSession | 12                   \n",
      " lastName      | Diaz                 \n",
      " length        | null                 \n",
      " level         | paid                 \n",
      " location      | New York-Newark-J... \n",
      " method        | GET                  \n",
      " page          | Error                \n",
      " registration  | 1538045178000        \n",
      " sessionId     | 11807                \n",
      " song          | null                 \n",
      " status        | 404                  \n",
      " ts            | 1538352013000        \n",
      " userAgent     | \"Mozilla/5.0 (Mac... \n",
      " userId        | 1507202              \n",
      " city          | New York-Newark-J... \n",
      " state         |  NY-NJ-PA            \n",
      " event_ts      | 2018-10-01 00:00:13  \n",
      " date_reg      | 2018-09-27 10:46:18  \n",
      " day_ts        | 1                    \n",
      " day_reg       | 27                   \n",
      " weekday_ts    | Monday               \n",
      " weekday_reg   | Thursday             \n",
      " month_ts      | 10                   \n",
      " month_reg     | 9                    \n",
      " hour_ts       | 0                    \n",
      "only showing top 1 row"
     ]
    }
   ],
   "source": [
    "# take a look at a paid customers that has status 404\n",
    "df_error_paid = df_error.filter(df[\"level\"] == \"paid\")\n",
    "df_error_paid.show(1, vertical=True)"
   ]
  },
  {
   "cell_type": "markdown",
   "id": "d6c7fa4a",
   "metadata": {},
   "source": [
    "### <font color='blue'>auth Column</font>"
   ]
  },
  {
   "cell_type": "code",
   "execution_count": 49,
   "id": "aed8d0cd",
   "metadata": {},
   "outputs": [
    {
     "data": {
      "application/vnd.jupyter.widget-view+json": {
       "model_id": "e8b1f19bc87a4d96a93c3e987bcd778d",
       "version_major": 2,
       "version_minor": 0
      },
      "text/plain": [
       "VBox()"
      ]
     },
     "metadata": {},
     "output_type": "display_data"
    },
    {
     "data": {
      "application/vnd.jupyter.widget-view+json": {
       "model_id": "",
       "version_major": 2,
       "version_minor": 0
      },
      "text/plain": [
       "FloatProgress(value=0.0, bar_style='info', description='Progress:', layout=Layout(height='25px', width='50%'),…"
      ]
     },
     "metadata": {},
     "output_type": "display_data"
    },
    {
     "name": "stdout",
     "output_type": "stream",
     "text": [
      "+----------+--------+\n",
      "|      auth|   count|\n",
      "+----------+--------+\n",
      "|Logged Out|  774285|\n",
      "|     Guest|    4194|\n",
      "| Cancelled|    5003|\n",
      "| Logged In|25475717|\n",
      "+----------+--------+"
     ]
    }
   ],
   "source": [
    "# the entries in auth column indicate the activity type of the user\n",
    "df_auth = df.groupBy(\"auth\").count()\n",
    "df_auth.show()"
   ]
  },
  {
   "cell_type": "code",
   "execution_count": 50,
   "id": "d1d1fd04",
   "metadata": {},
   "outputs": [
    {
     "data": {
      "application/vnd.jupyter.widget-view+json": {
       "model_id": "1e91ad0a2ddf4a50af84666a0e15e10b",
       "version_major": 2,
       "version_minor": 0
      },
      "text/plain": [
       "VBox()"
      ]
     },
     "metadata": {},
     "output_type": "display_data"
    },
    {
     "data": {
      "application/vnd.jupyter.widget-view+json": {
       "model_id": "",
       "version_major": 2,
       "version_minor": 0
      },
      "text/plain": [
       "FloatProgress(value=0.0, bar_style='info', description='Progress:', layout=Layout(height='25px', width='50%'),…"
      ]
     },
     "metadata": {},
     "output_type": "display_data"
    },
    {
     "data": {
      "image/png": "[encoded data removed]",
      "text/plain": [
       "<IPython.core.display.Image object>"
      ]
     },
     "metadata": {},
     "output_type": "display_data"
    }
   ],
   "source": [
    "# visualize sessions by authorization\n",
    "\n",
    "# rewrite data as pandas dataframe\n",
    "data_auth = df_auth.toPandas().sort_values(by=\"count\",\n",
    "                                              ascending=False)\n",
    "\n",
    "# return the series having unique values\n",
    "x = data_auth['auth'].unique()\n",
    "# return the series having frequency counts\n",
    "y = data_auth['count']\n",
    "\n",
    "\n",
    "# avoid stacking plots\n",
    "plt.clf()\n",
    "\n",
    "# plot the bar chart\n",
    "plt.bar(x, y)\n",
    "\n",
    "# label the axes\n",
    "plt.xlabel('')\n",
    "plt.ylabel('count')\n",
    "\n",
    "plt.xticks(data_auth.auth)\n",
    "\n",
    "# create the title\n",
    "plt.title(\"Distribution of Authorization Type\");\n",
    "\n",
    "# display the plot\n",
    "%matplot plt"
   ]
  },
  {
   "cell_type": "code",
   "execution_count": 51,
   "id": "7175994b",
   "metadata": {},
   "outputs": [
    {
     "data": {
      "application/vnd.jupyter.widget-view+json": {
       "model_id": "ccb8fd5e1bdf44789974cd7b1266a8d2",
       "version_major": 2,
       "version_minor": 0
      },
      "text/plain": [
       "VBox()"
      ]
     },
     "metadata": {},
     "output_type": "display_data"
    },
    {
     "data": {
      "application/vnd.jupyter.widget-view+json": {
       "model_id": "",
       "version_major": 2,
       "version_minor": 0
      },
      "text/plain": [
       "FloatProgress(value=0.0, bar_style='info', description='Progress:', layout=Layout(height='25px', width='50%'),…"
      ]
     },
     "metadata": {},
     "output_type": "display_data"
    },
    {
     "name": "stdout",
     "output_type": "stream",
     "text": [
      "-RECORD 0-----------------------------\n",
      " artist        | null                 \n",
      " auth          | Cancelled            \n",
      " firstName     | Harrison             \n",
      " gender        | M                    \n",
      " itemInSession | 32                   \n",
      " lastName      | Turner               \n",
      " length        | null                 \n",
      " level         | paid                 \n",
      " location      | Dayton, OH           \n",
      " method        | GET                  \n",
      " page          | Cancellation Conf... \n",
      " registration  | 1536683985000        \n",
      " sessionId     | 24588                \n",
      " song          | null                 \n",
      " status        | 200                  \n",
      " ts            | 1538360145000        \n",
      " userAgent     | Mozilla/5.0 (Wind... \n",
      " userId        | 1768454              \n",
      " city          | Dayton               \n",
      " state         |  OH                  \n",
      " event_ts      | 2018-10-01 02:15:45  \n",
      " date_reg      | 2018-09-11 16:39:45  \n",
      " day_ts        | 1                    \n",
      " day_reg       | 11                   \n",
      " weekday_ts    | Monday               \n",
      " weekday_reg   | Tuesday              \n",
      " month_ts      | 10                   \n",
      " month_reg     | 9                    \n",
      " hour_ts       | 2                    \n",
      "only showing top 1 row"
     ]
    }
   ],
   "source": [
    "# take a look at an user that cancelled\n",
    "df_cancelled = df.filter(df[\"auth\"] == \"Cancelled\")\n",
    "df_cancelled.show(1, vertical=True)"
   ]
  },
  {
   "cell_type": "markdown",
   "id": "44bdc98f",
   "metadata": {},
   "source": [
    "### <font color='blue'>page Column</font>"
   ]
  },
  {
   "cell_type": "code",
   "execution_count": 52,
   "id": "6a5a3cd3",
   "metadata": {},
   "outputs": [
    {
     "data": {
      "application/vnd.jupyter.widget-view+json": {
       "model_id": "eb10fbf3a9fa4bfbbb1d2b9548bd71d1",
       "version_major": 2,
       "version_minor": 0
      },
      "text/plain": [
       "VBox()"
      ]
     },
     "metadata": {},
     "output_type": "display_data"
    },
    {
     "data": {
      "application/vnd.jupyter.widget-view+json": {
       "model_id": "",
       "version_major": 2,
       "version_minor": 0
      },
      "text/plain": [
       "FloatProgress(value=0.0, bar_style='info', description='Progress:', layout=Layout(height='25px', width='50%'),…"
      ]
     },
     "metadata": {},
     "output_type": "display_data"
    },
    {
     "name": "stdout",
     "output_type": "stream",
     "text": [
      "+--------------------+--------+\n",
      "|                page|   count|\n",
      "+--------------------+--------+\n",
      "|            NextSong|20850272|\n",
      "|                Home| 1343102|\n",
      "|           Thumbs Up| 1151465|\n",
      "|     Add to Playlist|  597921|\n",
      "|         Roll Advert|  385212|\n",
      "|          Add Friend|  381664|\n",
      "|               Login|  296350|\n",
      "|              Logout|  296005|\n",
      "|         Thumbs Down|  239212|\n",
      "|           Downgrade|  184240|\n",
      "|                Help|  155100|\n",
      "|            Settings|  147074|\n",
      "|               About|   92759|\n",
      "|             Upgrade|   50507|\n",
      "|       Save Settings|   29516|\n",
      "|               Error|   25962|\n",
      "|      Submit Upgrade|   15135|\n",
      "|    Submit Downgrade|    6494|\n",
      "|              Cancel|    5003|\n",
      "|Cancellation Conf...|    5003|\n",
      "|            Register|     802|\n",
      "| Submit Registration|     401|\n",
      "+--------------------+--------+"
     ]
    }
   ],
   "source": [
    "# most of the actions are on NextSong, then Home and ThumbsUp\n",
    "df.groupBy(\"page\").count().sort(desc(\"count\")).show(22)"
   ]
  },
  {
   "cell_type": "markdown",
   "id": "ead3f6cf",
   "metadata": {},
   "source": [
    "### <font color='blue'>length Column</font>\n",
    "\n",
    "It represents the length of a song, in seconds."
   ]
  },
  {
   "cell_type": "code",
   "execution_count": 53,
   "id": "f972c2d7",
   "metadata": {},
   "outputs": [
    {
     "data": {
      "application/vnd.jupyter.widget-view+json": {
       "model_id": "5a28c063481f44078fe2812d98129232",
       "version_major": 2,
       "version_minor": 0
      },
      "text/plain": [
       "VBox()"
      ]
     },
     "metadata": {},
     "output_type": "display_data"
    },
    {
     "data": {
      "application/vnd.jupyter.widget-view+json": {
       "model_id": "",
       "version_major": 2,
       "version_minor": 0
      },
      "text/plain": [
       "FloatProgress(value=0.0, bar_style='info', description='Progress:', layout=Layout(height='25px', width='50%'),…"
      ]
     },
     "metadata": {},
     "output_type": "display_data"
    },
    {
     "name": "stdout",
     "output_type": "stream",
     "text": [
      "+-------+------------------+\n",
      "|summary|            length|\n",
      "+-------+------------------+\n",
      "|  count|          20850272|\n",
      "|   mean|248.72543296748827|\n",
      "| stddev|  97.2871038707807|\n",
      "|    min|             0.522|\n",
      "|    max|        3024.66567|\n",
      "+-------+------------------+"
     ]
    }
   ],
   "source": [
    "# print descriptive statistics for songs length\n",
    "df.describe(\"length\").show()"
   ]
  },
  {
   "cell_type": "markdown",
   "id": "12cfe425",
   "metadata": {},
   "source": [
    "### <font color='blue'>itemInSession Column</font>"
   ]
  },
  {
   "cell_type": "code",
   "execution_count": 54,
   "id": "88d46e8e",
   "metadata": {},
   "outputs": [
    {
     "data": {
      "application/vnd.jupyter.widget-view+json": {
       "model_id": "c17d2d3961ef4736b03f6b0055432e24",
       "version_major": 2,
       "version_minor": 0
      },
      "text/plain": [
       "VBox()"
      ]
     },
     "metadata": {},
     "output_type": "display_data"
    },
    {
     "data": {
      "application/vnd.jupyter.widget-view+json": {
       "model_id": "",
       "version_major": 2,
       "version_minor": 0
      },
      "text/plain": [
       "FloatProgress(value=0.0, bar_style='info', description='Progress:', layout=Layout(height='25px', width='50%'),…"
      ]
     },
     "metadata": {},
     "output_type": "display_data"
    },
    {
     "name": "stdout",
     "output_type": "stream",
     "text": [
      "+-------+------------------+\n",
      "|summary|     itemInSession|\n",
      "+-------+------------------+\n",
      "|  count|          26259199|\n",
      "|   mean|106.56267561702853|\n",
      "| stddev|  117.658126175238|\n",
      "|    min|                 0|\n",
      "|    max|              1428|\n",
      "+-------+------------------+"
     ]
    }
   ],
   "source": [
    "# print descriptive statistics for itemInSession column\n",
    "df.describe(\"itemInSession\").show()"
   ]
  },
  {
   "cell_type": "code",
   "execution_count": 55,
   "id": "c92aa1ce",
   "metadata": {},
   "outputs": [
    {
     "data": {
      "application/vnd.jupyter.widget-view+json": {
       "model_id": "c166eeb598894ba99bb1ef2bbb74fdad",
       "version_major": 2,
       "version_minor": 0
      },
      "text/plain": [
       "VBox()"
      ]
     },
     "metadata": {},
     "output_type": "display_data"
    },
    {
     "data": {
      "application/vnd.jupyter.widget-view+json": {
       "model_id": "",
       "version_major": 2,
       "version_minor": 0
      },
      "text/plain": [
       "FloatProgress(value=0.0, bar_style='info', description='Progress:', layout=Layout(height='25px', width='50%'),…"
      ]
     },
     "metadata": {},
     "output_type": "display_data"
    },
    {
     "name": "stdout",
     "output_type": "stream",
     "text": [
      "306295"
     ]
    }
   ],
   "source": [
    "# create a dataframe for those data points with itemInSession=0\n",
    "itemInSession_zero = df.filter(df['itemInSession'] == 0)\n",
    "# find how many entries have itemInSession = 0\n",
    "itemInSession_zero.count()"
   ]
  },
  {
   "cell_type": "code",
   "execution_count": 56,
   "id": "c3cd31cc",
   "metadata": {},
   "outputs": [
    {
     "data": {
      "application/vnd.jupyter.widget-view+json": {
       "model_id": "be2d7ebcc01742189180f3d3121dbde5",
       "version_major": 2,
       "version_minor": 0
      },
      "text/plain": [
       "VBox()"
      ]
     },
     "metadata": {},
     "output_type": "display_data"
    },
    {
     "data": {
      "application/vnd.jupyter.widget-view+json": {
       "model_id": "",
       "version_major": 2,
       "version_minor": 0
      },
      "text/plain": [
       "FloatProgress(value=0.0, bar_style='info', description='Progress:', layout=Layout(height='25px', width='50%'),…"
      ]
     },
     "metadata": {},
     "output_type": "display_data"
    },
    {
     "name": "stdout",
     "output_type": "stream",
     "text": [
      "-RECORD 0-----------------------------\n",
      " artist        | Leona Lewis          \n",
      " auth          | Logged In            \n",
      " firstName     | Jennifer             \n",
      " gender        | F                    \n",
      " itemInSession | 0                    \n",
      " lastName      | Shelton              \n",
      " length        | 203.88526            \n",
      " level         | free                 \n",
      " location      | Pittsburgh, PA       \n",
      " method        | PUT                  \n",
      " page          | NextSong             \n",
      " registration  | 1536455539000        \n",
      " sessionId     | 25128                \n",
      " song          | Forgive Me           \n",
      " status        | 200                  \n",
      " ts            | 1538352006000        \n",
      " userAgent     | \"Mozilla/5.0 (Win... \n",
      " userId        | 1558463              \n",
      " city          | Pittsburgh           \n",
      " state         |  PA                  \n",
      " event_ts      | 2018-10-01 00:00:06  \n",
      " date_reg      | 2018-09-09 01:12:19  \n",
      " day_ts        | 1                    \n",
      " day_reg       | 9                    \n",
      " weekday_ts    | Monday               \n",
      " weekday_reg   | Sunday               \n",
      " month_ts      | 10                   \n",
      " month_reg     | 9                    \n",
      " hour_ts       | 0                    \n",
      "only showing top 1 row"
     ]
    }
   ],
   "source": [
    "# take a look at some of the data with 0 logs in session\n",
    "itemInSession_zero.show(1, vertical=True)"
   ]
  },
  {
   "cell_type": "code",
   "execution_count": 57,
   "id": "e62cb9ec",
   "metadata": {},
   "outputs": [
    {
     "data": {
      "application/vnd.jupyter.widget-view+json": {
       "model_id": "e4e44dbc749b4bfaa11b78034755260e",
       "version_major": 2,
       "version_minor": 0
      },
      "text/plain": [
       "VBox()"
      ]
     },
     "metadata": {},
     "output_type": "display_data"
    },
    {
     "data": {
      "application/vnd.jupyter.widget-view+json": {
       "model_id": "",
       "version_major": 2,
       "version_minor": 0
      },
      "text/plain": [
       "FloatProgress(value=0.0, bar_style='info', description='Progress:', layout=Layout(height='25px', width='50%'),…"
      ]
     },
     "metadata": {},
     "output_type": "display_data"
    },
    {
     "data": {
      "image/png": "[encoded data removed]",
      "text/plain": [
       "<IPython.core.display.Image object>"
      ]
     },
     "metadata": {},
     "output_type": "display_data"
    }
   ],
   "source": [
    "# plot the page usage distribution for zero itemInSession\n",
    "\n",
    "# create the count dataframe\n",
    "itemInSession_page = itemInSession_zero.groupby(\"page\").count().toPandas()\n",
    "\n",
    "# return the series having unique values\n",
    "x = itemInSession_page['page'].unique()\n",
    "# return the series having frequency counts\n",
    "y = itemInSession_page['count']\n",
    "\n",
    "\n",
    "# set figure size\n",
    "fig=plt.figure(figsize=(8,4))\n",
    "\n",
    "# to avoid overlapping plots\n",
    "plt.clf()\n",
    "\n",
    "# plot the bar chart\n",
    "plt.bar(x, y)\n",
    "\n",
    "# label the axes\n",
    "plt.xlabel('')\n",
    "plt.ylabel('count')\n",
    "\n",
    "plt.xticks(itemInSession_page.page)\n",
    "\n",
    "# create the title\n",
    "plt.title(\"Distribution of Item in Session 0 by Page\");\n",
    "\n",
    "# display the plot\n",
    "%matplot plt"
   ]
  },
  {
   "cell_type": "markdown",
   "id": "f06c8f8d",
   "metadata": {},
   "source": [
    "### <font color='blue'>sessionId Column</font>"
   ]
  },
  {
   "cell_type": "code",
   "execution_count": 58,
   "id": "59b4a3d9",
   "metadata": {},
   "outputs": [
    {
     "data": {
      "application/vnd.jupyter.widget-view+json": {
       "model_id": "096ff6c1a0824de09ba7015be6b8bdfb",
       "version_major": 2,
       "version_minor": 0
      },
      "text/plain": [
       "VBox()"
      ]
     },
     "metadata": {},
     "output_type": "display_data"
    },
    {
     "data": {
      "application/vnd.jupyter.widget-view+json": {
       "model_id": "",
       "version_major": 2,
       "version_minor": 0
      },
      "text/plain": [
       "FloatProgress(value=0.0, bar_style='info', description='Progress:', layout=Layout(height='25px', width='50%'),…"
      ]
     },
     "metadata": {},
     "output_type": "display_data"
    },
    {
     "name": "stdout",
     "output_type": "stream",
     "text": [
      "+---------+-------+-----+\n",
      "|sessionId| userId|count|\n",
      "+---------+-------+-----+\n",
      "|    47184|1554671| 1393|\n",
      "|    84971|1284420| 1385|\n",
      "|   128347|1805728| 1342|\n",
      "|    89129|1642682| 1329|\n",
      "|   143782|1545940| 1292|\n",
      "|   116166|1449246| 1257|\n",
      "|   125892|1036574| 1250|\n",
      "|   225739|1029304| 1198|\n",
      "|   185100|1190605| 1185|\n",
      "|    39741|1502571| 1164|\n",
      "+---------+-------+-----+\n",
      "only showing top 10 rows"
     ]
    }
   ],
   "source": [
    "# the distribution of sessions by userId\n",
    "df.groupby(\"sessionId\",\"userId\").count().orderBy(\"count\", ascending=False).show(10)"
   ]
  },
  {
   "cell_type": "code",
   "execution_count": 59,
   "id": "5dc2e7a6",
   "metadata": {},
   "outputs": [
    {
     "data": {
      "application/vnd.jupyter.widget-view+json": {
       "model_id": "c7fa9269a8454d2ebc8e655e074597f8",
       "version_major": 2,
       "version_minor": 0
      },
      "text/plain": [
       "VBox()"
      ]
     },
     "metadata": {},
     "output_type": "display_data"
    },
    {
     "data": {
      "application/vnd.jupyter.widget-view+json": {
       "model_id": "",
       "version_major": 2,
       "version_minor": 0
      },
      "text/plain": [
       "FloatProgress(value=0.0, bar_style='info', description='Progress:', layout=Layout(height='25px', width='50%'),…"
      ]
     },
     "metadata": {},
     "output_type": "display_data"
    },
    {
     "name": "stdout",
     "output_type": "stream",
     "text": [
      "+-------+---------+-----+\n",
      "| userId|sessionId|count|\n",
      "+-------+---------+-----+\n",
      "|1554671|    47184| 1393|\n",
      "|1284420|    84971| 1385|\n",
      "|1805728|   128347| 1342|\n",
      "|1642682|    89129| 1329|\n",
      "|1545940|   143782| 1292|\n",
      "|1449246|   116166| 1257|\n",
      "|1036574|   125892| 1250|\n",
      "|1029304|   225739| 1198|\n",
      "|1190605|   185100| 1185|\n",
      "|1502571|    39741| 1164|\n",
      "+-------+---------+-----+\n",
      "only showing top 10 rows"
     ]
    }
   ],
   "source": [
    "# count distinct userId per session Id\n",
    "df_sessions = df.groupBy(\"userId\", \"sessionId\").count().orderBy(\"count\", ascending=False)\n",
    "# sessions with more than one user - note this does not happen simultaneously\n",
    "df_sessions.where(df_sessions[\"count\"] != 1).show(10)"
   ]
  },
  {
   "cell_type": "code",
   "execution_count": 60,
   "id": "35f8f23f",
   "metadata": {},
   "outputs": [
    {
     "data": {
      "application/vnd.jupyter.widget-view+json": {
       "model_id": "8bebdb8ea2a64447bf5e7d35d9946b94",
       "version_major": 2,
       "version_minor": 0
      },
      "text/plain": [
       "VBox()"
      ]
     },
     "metadata": {},
     "output_type": "display_data"
    },
    {
     "data": {
      "application/vnd.jupyter.widget-view+json": {
       "model_id": "",
       "version_major": 2,
       "version_minor": 0
      },
      "text/plain": [
       "FloatProgress(value=0.0, bar_style='info', description='Progress:', layout=Layout(height='25px', width='50%'),…"
      ]
     },
     "metadata": {},
     "output_type": "display_data"
    },
    {
     "name": "stdout",
     "output_type": "stream",
     "text": [
      "+---------+-------+-----+\n",
      "|sessionId| userId|count|\n",
      "+---------+-------+-----+\n",
      "|    47184|1554671| 1393|\n",
      "|    84971|1284420| 1385|\n",
      "|   128347|1805728| 1342|\n",
      "|    89129|1642682| 1329|\n",
      "|   143782|1545940| 1292|\n",
      "|   116166|1449246| 1257|\n",
      "+---------+-------+-----+\n",
      "only showing top 6 rows"
     ]
    }
   ],
   "source": [
    "# the distribution of sessions by userId\n",
    "df.groupby(\"sessionId\",\"userId\").count().orderBy(\"count\", ascending=False).show(6)"
   ]
  },
  {
   "cell_type": "code",
   "execution_count": 61,
   "id": "b2b57f55",
   "metadata": {},
   "outputs": [
    {
     "data": {
      "application/vnd.jupyter.widget-view+json": {
       "model_id": "3320a826e4e24f169fa217f730457f81",
       "version_major": 2,
       "version_minor": 0
      },
      "text/plain": [
       "VBox()"
      ]
     },
     "metadata": {},
     "output_type": "display_data"
    },
    {
     "data": {
      "application/vnd.jupyter.widget-view+json": {
       "model_id": "",
       "version_major": 2,
       "version_minor": 0
      },
      "text/plain": [
       "FloatProgress(value=0.0, bar_style='info', description='Progress:', layout=Layout(height='25px', width='50%'),…"
      ]
     },
     "metadata": {},
     "output_type": "display_data"
    },
    {
     "name": "stdout",
     "output_type": "stream",
     "text": [
      "+-------+---------------+-------------------+\n",
      "| userId|           page|           event_ts|\n",
      "+-------+---------------+-------------------+\n",
      "|1765220|       NextSong|2018-10-09 15:53:40|\n",
      "|1765220|       NextSong|2018-10-09 15:56:53|\n",
      "|1765220|       NextSong|2018-10-09 16:00:51|\n",
      "|1765220|       NextSong|2018-10-09 16:04:23|\n",
      "|1765220|       NextSong|2018-10-09 16:09:27|\n",
      "|1765220|Add to Playlist|2018-10-09 16:09:43|\n",
      "+-------+---------------+-------------------+\n",
      "only showing top 6 rows"
     ]
    }
   ],
   "source": [
    "# example of a sessionId with more than one user associated to it\n",
    "df.where(df.sessionId==\"3\").select(\"userId\", \"page\", \"event_ts\").show(6)"
   ]
  },
  {
   "cell_type": "code",
   "execution_count": null,
   "id": "1d30ec7f",
   "metadata": {},
   "outputs": [],
   "source": []
  }
 ],
 "metadata": {
  "kernelspec": {
   "display_name": "PySpark",
   "language": "",
   "name": "pysparkkernel"
  },
  "language_info": {
   "codemirror_mode": {
    "name": "python",
    "version": 3
   },
   "mimetype": "text/x-python",
   "name": "pyspark",
   "pygments_lexer": "python3"
  }
 },
 "nbformat": 4,
 "nbformat_minor": 5
}
