{
 "cells": [
  {
   "cell_type": "markdown",
   "id": "b47a7375",
   "metadata": {},
   "source": [
    "# <font color='darkblue'> Sparkify Project Workspace - Small Dataset</font>\n",
    "\n",
    "This workspace contains a tiny subset (128MB) of the full dataset available (12GB). Feel free to use this workspace to build your project, or to explore a smaller subset with Spark before deploying your cluster on the cloud. Instructions for setting up your Spark cluster is included in the last lesson of the Extracurricular Spark Course content.\n",
    "\n",
    "You can follow the steps below to guide your data analysis and model building portion of this project."
   ]
  },
  {
   "cell_type": "markdown",
   "id": "8c40a332",
   "metadata": {},
   "source": [
    "## <font color='blue'>Set Environment</font>"
   ]
  },
  {
   "cell_type": "code",
   "execution_count": 1,
   "id": "df2a358d",
   "metadata": {},
   "outputs": [],
   "source": [
    "# import neccessary libraries and packages\n",
    "\n",
    "import datetime\n",
    "import time\n",
    "\n",
    "import numpy as np\n",
    "import pandas as pd\n",
    "\n",
    "import matplotlib.pyplot as plt\n",
    "%matplotlib inline\n",
    "import seaborn as sns\n",
    "sns.set_style(\"darkgrid\")\n",
    "\n",
    "import pyspark\n",
    "from pyspark import SparkContext\n",
    "from pyspark import SparkConf\n",
    "\n",
    "from pyspark.sql import SparkSession\n",
    "from pyspark.sql.window import Window as W\n",
    "\n",
    "from pyspark.sql.types import (\n",
    "    StringType,\n",
    "    IntegerType, \n",
    "    DateType, \n",
    "    TimestampType,\n",
    "    )\n",
    "\n",
    "from pyspark.sql.functions import (\n",
    "    min as Fmin, max as Fmax, \n",
    "    sum as Fsum, round as Fround, \n",
    "    \n",
    "    col, lit, split,\n",
    "    first, last, \n",
    "    desc, asc,\n",
    "    avg,\n",
    "    count, countDistinct, approx_count_distinct,\n",
    "    when, \n",
    "    isnull, isnan,\n",
    "    from_unixtime, date_format, datediff,\n",
    "    dayofmonth, month, hour, to_date,\n",
    "    )\n",
    "\n",
    "# libraries and packages for modeling\n",
    "\n",
    "from pyspark.ml import Pipeline\n",
    "\n",
    "from pyspark.ml.feature import (\n",
    "    StringIndexer, \n",
    "    OneHotEncoder, \n",
    "    VectorAssembler, \n",
    "    StandardScaler\n",
    ")\n",
    "from pyspark.ml.feature import (\n",
    "    OneHotEncoder, \n",
    "    OneHotEncoderModel\n",
    ")\n",
    "\n",
    "from pyspark.ml.classification import (\n",
    "    LogisticRegression,\n",
    "    DecisionTreeClassifier,\n",
    "    RandomForestClassifier,\n",
    "    GBTClassifier,\n",
    "    MultilayerPerceptronClassifier,\n",
    "    LinearSVC\n",
    ")\n",
    "\n",
    "from pyspark.ml.evaluation import BinaryClassificationEvaluator\n",
    "from pyspark.ml.tuning import CrossValidator, ParamGridBuilder"
   ]
  },
  {
   "cell_type": "code",
   "execution_count": 2,
   "id": "38be1286",
   "metadata": {},
   "outputs": [
    {
     "name": "stderr",
     "output_type": "stream",
     "text": [
      "21/12/23 17:28:20 WARN Utils: Your hostname, greg resolves to a loopback address: 127.0.1.1; using 192.168.0.21 instead (on interface wlp82s0)\n",
      "21/12/23 17:28:20 WARN Utils: Set SPARK_LOCAL_IP if you need to bind to another address\n",
      "WARNING: An illegal reflective access operation has occurred\n",
      "WARNING: Illegal reflective access by org.apache.spark.unsafe.Platform (file:/home/silvia/anaconda3/envs/pysparkenv/lib/python3.9/site-packages/pyspark/jars/spark-unsafe_2.12-3.1.2.jar) to constructor java.nio.DirectByteBuffer(long,int)\n",
      "WARNING: Please consider reporting this to the maintainers of org.apache.spark.unsafe.Platform\n",
      "WARNING: Use --illegal-access=warn to enable warnings of further illegal reflective access operations\n",
      "WARNING: All illegal access operations will be denied in a future release\n",
      "21/12/23 17:28:21 WARN NativeCodeLoader: Unable to load native-hadoop library for your platform... using builtin-java classes where applicable\n",
      "Using Spark's default log4j profile: org/apache/spark/log4j-defaults.properties\n",
      "Setting default log level to \"WARN\".\n",
      "To adjust logging level use sc.setLogLevel(newLevel). For SparkR, use setLogLevel(newLevel).\n"
     ]
    }
   ],
   "source": [
    "# build a Spark session using the SparkSession APIs\n",
    "\n",
    "spark = (SparkSession\n",
    "        .builder\n",
    "        .appName(\"SparkifySmallData\")\n",
    "        .getOrCreate())\n",
    "\n",
    "sc = spark.sparkContext\n",
    "sc.setLogLevel(\"WARN\")"
   ]
  },
  {
   "cell_type": "code",
   "execution_count": 3,
   "id": "8cbf18ea",
   "metadata": {},
   "outputs": [],
   "source": [
    "# create a path variable for the minidataset file\n",
    "mini_path = \"data/mini_sparkify_event_data.json\""
   ]
  },
  {
   "cell_type": "markdown",
   "id": "e2ee5859",
   "metadata": {},
   "source": [
    "## <font color='blue'>Load and Clean Dataset</font>\n",
    "\n",
    "In this workspace, the mini-dataset file is `mini_sparkify_event_data.json`. Load and clean the dataset, checking for invalid or missing data - for example, records without userids or sessionids. "
   ]
  },
  {
   "cell_type": "code",
   "execution_count": 4,
   "id": "e1c6df21",
   "metadata": {},
   "outputs": [],
   "source": [
    "def load_data(file_path):\n",
    "    \"\"\"\n",
    "    Loads the raw dataset in Spark.\n",
    "    \n",
    "    INPUT:\n",
    "            (str) - path for datafile\n",
    "    OUTPUT:\n",
    "            (PySpark dataframe) - dataframe of raw data\n",
    "    \n",
    "    \"\"\"\n",
    "    \n",
    "    print(\"Loading the dataset ...\")\n",
    "    df = spark.read.json(file_path)\n",
    "    \n",
    "    return df\n"
   ]
  },
  {
   "cell_type": "code",
   "execution_count": 5,
   "id": "9f4903da",
   "metadata": {},
   "outputs": [],
   "source": [
    "def clean_data(df):\n",
    "    \"\"\"\n",
    "    Performs basic cleaning operations on the raw data.def load_data(file_path):\n",
    "        - removes entries with missing userId\n",
    "        - split the location column in two columns: city and state\n",
    "        - parses timestamp columns\n",
    "    \n",
    "    INPUT:\n",
    "            (PySpark dataframe) - dataframe of raw data\n",
    "    OUTPUT:\n",
    "            (PySpark dataframe) - dataframe of cleaned data\n",
    "    \"\"\"\n",
    "    \n",
    "    # print message to indicate the start of the process\n",
    "    print(\"Cleaning the data ...\")\n",
    "    \n",
    "    # print a count of rows before cleaning\n",
    "    initial_records = df.count()\n",
    "    print(\"Dataset has {} rows initially.\".format(initial_records))\n",
    "    \n",
    "    # filter out all the records without userId\n",
    "    df = df.filter(df.userId != \"\")\n",
    "    \n",
    "    # split the location column in two columns: city and state\n",
    "    df = df.withColumn(\"city\", split(df[\"location\"], \",\").getItem(0)) \\\n",
    "           .withColumn(\"state\", split(df[\"location\"], \",\").getItem(1))\n",
    "\n",
    "    # drop the location column\n",
    "    df.drop(df.location)\n",
    "    \n",
    "    # parse the timestamp columns: registration and ts\n",
    "    df = df.withColumn(\"event_ts\", from_unixtime(col(\"ts\")/1000.0))\n",
    "    df = df.withColumn(\"reg_ts\", from_unixtime(col(\"registration\")/1000.0))\n",
    "    \n",
    "    # print end of process message\n",
    "    print(\"Finished cleaning the data ...\")\n",
    "    \n",
    "    # print a count of rows after cleaning\n",
    "    removed_rows = initial_records - df.count()\n",
    "    print(\"Cleaned dataset has {} rows, {} rows were removed\". \\\n",
    "        format(df.count(), initial_records - df.count()))\n",
    "    \n",
    "    return df\n",
    "    "
   ]
  },
  {
   "cell_type": "code",
   "execution_count": 6,
   "id": "1c6706d0",
   "metadata": {},
   "outputs": [
    {
     "name": "stdout",
     "output_type": "stream",
     "text": [
      "Loading the dataset ...\n"
     ]
    },
    {
     "name": "stderr",
     "output_type": "stream",
     "text": [
      "                                                                                \r"
     ]
    },
    {
     "name": "stdout",
     "output_type": "stream",
     "text": [
      "Cleaning the data ...\n",
      "Dataset has 286500 rows initially.\n",
      "Finished cleaning the data ...\n",
      "Cleaned dataset has 278154 rows, 8346 rows were removed\n"
     ]
    }
   ],
   "source": [
    "# read the mini dataset\n",
    "mini_sparkify = load_data(mini_path)\n",
    "# clean the mini dataset\n",
    "df = clean_data(mini_sparkify)"
   ]
  },
  {
   "cell_type": "code",
   "execution_count": 7,
   "id": "667d8399",
   "metadata": {},
   "outputs": [
    {
     "data": {
      "text/plain": [
       "DataFrame[artist: string, auth: string, firstName: string, gender: string, itemInSession: bigint, lastName: string, length: double, level: string, location: string, method: string, page: string, registration: bigint, sessionId: bigint, song: string, status: bigint, ts: bigint, userAgent: string, userId: string, city: string, state: string, event_ts: string, reg_ts: string]"
      ]
     },
     "execution_count": 7,
     "metadata": {},
     "output_type": "execute_result"
    }
   ],
   "source": [
    "# save to storage level 'MEMORY_AND_DISK'\n",
    "df.cache()"
   ]
  },
  {
   "cell_type": "markdown",
   "id": "f1429b52",
   "metadata": {},
   "source": [
    "## <font color='blue'>Preprocess Dataset</font>"
   ]
  },
  {
   "cell_type": "code",
   "execution_count": 8,
   "id": "afc981ec",
   "metadata": {},
   "outputs": [],
   "source": [
    "def preprocess_data(df):\n",
    "    \n",
    "    \"\"\"\n",
    "    Prepare the data for modeling via creating several features.\n",
    "     - firstevent_ts (timestamp) - first time an user is active\n",
    "     - lastevent_ts (timestamp) - last time an user is active\n",
    "     - date_ts (date type) - date from timestamp\n",
    "     - date_reg (timestamp) - registration date\n",
    "     - init_days_interv (int) - days between registration and first activity\n",
    "     - tenure_days_interv (int) - days between registration and last activity\n",
    "     - active_days (int) - days the user has some activity on the platform\n",
    "     - session_h (float) - session's duration in hours\n",
    "     \n",
    "     INPUT:\n",
    "         df (PySpark dataframe) - cleaned dataframe\n",
    "     OUTPUT:\n",
    "         df (PySpark dataframe) - dataframe with the listed features added\n",
    "    \"\"\"\n",
    "    \n",
    "    # create window: data grouped by userId, time ordered     \n",
    "    win_user = (W.partitionBy(\"userId\")\n",
    "            .orderBy(\"event_ts\")\n",
    "            .rangeBetween(W.unboundedPreceding, W.unboundedFollowing))\n",
    "    # create window: data grouped by sessionId and userId, time ordered\n",
    "    win_user_session = (W.partitionBy(\"sessionId\", \"userId\")\n",
    "                    .orderBy(\"event_ts\")\n",
    "                    .rangeBetween(W.unboundedPreceding, W.unboundedFollowing))\n",
    "    \n",
    "    # record the first time an user is active\n",
    "    df = df.withColumn(\"firstevent_ts\", first(col(\"event_ts\")).over(win_user))\n",
    "    # record the last time an user is active\n",
    "    df = df.withColumn(\"lastevent_ts\", last(col(\"event_ts\")).over(win_user))\n",
    "\n",
    "    # extract date from \"ts\" record\n",
    "    df = df.withColumn(\"date_ts\",to_date(\"event_ts\")) \n",
    "    # extract \"registration\" date\n",
    "    df = df.withColumn(\"date_reg\",to_date(\"reg_ts\")) \n",
    "\n",
    "    # warmup time = registration time to first event in days\n",
    "    df = df.withColumn(\"init_days_interv\", datediff(col(\"firstevent_ts\"), col(\"reg_ts\")))\n",
    "    # tenure time = registration time to last event in days\n",
    "    df = df.withColumn(\"tenure_days_interv\", datediff(col(\"lastevent_ts\"), col(\"reg_ts\")))\n",
    "    # active time =  days between the first event and the last event \n",
    "    df = df.withColumn(\"active_days\", approx_count_distinct(col(\"date_ts\")).over(win_user))\n",
    "\n",
    "    # create column that records the individual session's duration in hours\n",
    "    df = df.withColumn(\"session_h\",\n",
    "                     (last(df.ts).over(win_user_session) - first(df.ts) \\\n",
    "                      .over(win_user_session))/(1000*3600))  \n",
    "    \n",
    "    return df"
   ]
  },
  {
   "cell_type": "code",
   "execution_count": 9,
   "id": "1fddcbe8",
   "metadata": {},
   "outputs": [],
   "source": [
    "# preprocess mini dataset\n",
    "df_proc = preprocess_data(df)"
   ]
  },
  {
   "cell_type": "code",
   "execution_count": 10,
   "id": "877ca7f1",
   "metadata": {},
   "outputs": [
    {
     "name": "stdout",
     "output_type": "stream",
     "text": [
      "root\n",
      " |-- artist: string (nullable = true)\n",
      " |-- auth: string (nullable = true)\n",
      " |-- firstName: string (nullable = true)\n",
      " |-- gender: string (nullable = true)\n",
      " |-- itemInSession: long (nullable = true)\n",
      " |-- lastName: string (nullable = true)\n",
      " |-- length: double (nullable = true)\n",
      " |-- level: string (nullable = true)\n",
      " |-- location: string (nullable = true)\n",
      " |-- method: string (nullable = true)\n",
      " |-- page: string (nullable = true)\n",
      " |-- registration: long (nullable = true)\n",
      " |-- sessionId: long (nullable = true)\n",
      " |-- song: string (nullable = true)\n",
      " |-- status: long (nullable = true)\n",
      " |-- ts: long (nullable = true)\n",
      " |-- userAgent: string (nullable = true)\n",
      " |-- userId: string (nullable = true)\n",
      " |-- city: string (nullable = true)\n",
      " |-- state: string (nullable = true)\n",
      " |-- event_ts: string (nullable = true)\n",
      " |-- reg_ts: string (nullable = true)\n",
      " |-- firstevent_ts: string (nullable = true)\n",
      " |-- lastevent_ts: string (nullable = true)\n",
      " |-- date_ts: date (nullable = true)\n",
      " |-- date_reg: date (nullable = true)\n",
      " |-- init_days_interv: integer (nullable = true)\n",
      " |-- tenure_days_interv: integer (nullable = true)\n",
      " |-- active_days: long (nullable = false)\n",
      " |-- session_h: double (nullable = true)\n",
      "\n"
     ]
    }
   ],
   "source": [
    "# the features in the preprocessed dataframe\n",
    "df_proc.printSchema()"
   ]
  },
  {
   "cell_type": "markdown",
   "id": "40b423e8",
   "metadata": {},
   "source": [
    "## <font color='blue'>Feature Engineering</font>\n",
    "\n",
    "Once you've done some preliminary analysis, create a column `Churn` to use as the label for your model. I suggest using the `Cancellation Confirmation` events to define your churn, which happen for both paid and free users. As a bonus task, you can also look into the `Downgrade` events.\n",
    "\n",
    "Once you've familiarized yourself with the data, build out the features you find promising to train your model on. To work with the full dataset, you can follow the following steps.\n",
    "- Write a script to extract the necessary features from the smaller subset of data\n",
    "- Ensure that your script is scalable, using the best practices discussed in Lesson 3\n",
    "- Try your script on the full data set, debugging your script if necessary\n",
    "\n",
    "If you are working in the classroom workspace, you can just extract features based on the small subset of data contained here. Be sure to transfer over this work to the larger dataset when you work on your Spark cluster."
   ]
  },
  {
   "cell_type": "code",
   "execution_count": 11,
   "id": "5dd0cbc3",
   "metadata": {},
   "outputs": [],
   "source": [
    "def build_features(df):\n",
    "    \n",
    "    \"\"\"\n",
    "    Feature engineering to be used in modelling.\n",
    "    - nr_songs (int) - total number of songs user listened to\n",
    "    - nr_likes (int) - total number of \"Thumbs Up\" of the user\n",
    "    - nr_dislikes (int) - total number of \"Thumbs Down\" of the user\n",
    "    - nr_playlist (int) - number of songs added to the playlist\n",
    "    - nr_friends (int) - number of friends added through \"Add Friend\"\n",
    "    - nr_downgrades (int) - total number of visits to \"Downgrade\" page by the user\n",
    "    - nr_upgrades (int) - total number of visits to \"Upgrade\" page by the user\n",
    "    - nr_home (int) - total number of visits to \"Home\" page by the user\n",
    "    - nr_error (int) - total number of errors encountered by the user\n",
    "    - nr_settings (int) - total number of visits to \"Settings\" page by the user\n",
    "    - nr_ads (int) - total number of ads the user got\n",
    "    - nr_sessions (int) - number of sessions of the user\n",
    "    - n_acts (int) - total number of actions taken by the user\n",
    "    - avg_sess_h (float) - average session length in hours\n",
    "    - acts_per_session (float) - average number of actions per session for the user\n",
    "    - songs_per_session (float) - average numer of songs listened per session by the user\n",
    "    - ads_per_session (float) - average number of ads per session, received by user\n",
    "    - init_days_interv (int) - time interval in days from registration to the first action of the user\n",
    "    - tenure_days_interv (int) - time interval in days from registration to the last action of the user\n",
    "    - active_days (int) - number of days the user was active on the platform\n",
    "    \n",
    "    - gender (binary) - 1 for F (female), 0 for M (male)\n",
    "    - level (binary) - 1 for paid, 0 for free\n",
    "    - downgrade (binary) - 1 for \"Submit Downgrade\" page visit, 0 otherwise \n",
    "    - churn (binary) - 1 for \"CAncellation Confirmation\" page visit, 0 otherwise\n",
    "    \n",
    "    INPUT:\n",
    "        df (PySpark dataframe) - preprocessed dataframe\n",
    "        df_feats (PySpark datafrane) - dataframe that contains engineered features\n",
    "    \"\"\"\n",
    "    \n",
    "    df_feats = df.groupBy(\"userId\") \\\n",
    "        .agg(\n",
    "    \n",
    "            # count user's individual actions using all page visits\n",
    "    \n",
    "            count(when(col(\"page\") == \"NextSong\", True)).alias(\"nr_songs\"),\n",
    "    \n",
    "            count(when(col(\"page\") == \"Thumbs Up\", True)).alias(\"nr_likes\"),\n",
    "            count(when(col(\"page\") == \"Thumbs Down\", True)).alias(\"nr_dislikes\"),\n",
    "    \n",
    "            count(when(col(\"page\") == \"Add to Playlist\", True)).alias(\"nr_playlist\"),\n",
    "            count(when(col(\"page\") == \"Add Friend\", True)).alias(\"nr_friends\"),\n",
    "    \n",
    "            count(when(col(\"page\") == \"Downgrade\", True)).alias(\"nr_downgrades\"),\n",
    "            count(when(col(\"page\") == \"Upgrade\", True)).alias(\"nr_upgrades\"),\n",
    "    \n",
    "            count(when(col(\"page\") == \"Home\", True)).alias(\"nr_home\"),\n",
    "            count(when(col(\"page\") == \"Error\", True)).alias(\"nr_error\"),\n",
    "            count(when(col(\"page\") == \"Settings\", True)).alias(\"nr_settings\"),\n",
    "    \n",
    "            count(when(col(\"page\") == \"Roll Advert\", True)).alias(\"nr_ads\"),\n",
    "    \n",
    "            # compute the number of sessions a user is in\n",
    "            countDistinct(\"sessionId\").alias(\"nr_sessions\"),\n",
    "    \n",
    "            # find the total number of actions a user took\n",
    "            countDistinct(\"itemInSession\").alias(\"n_acts\"),\n",
    "    \n",
    "            # compute the average session length in hours\n",
    "            avg(col(\"session_h\")).alias(\"avg_sess_h\"),\n",
    "    \n",
    "            # compute the average number of page actions per sesssion\n",
    "            (countDistinct(\"itemInSession\")/countDistinct(\"sessionId\")).alias(\"acts_per_session\"),\n",
    "    \n",
    "            # compute the average number of songs per session\n",
    "            (count(when(col(\"page\") == \"NextSong\",\n",
    "                        True))/countDistinct(\"sessionId\")).alias(\"songs_per_session\"),\n",
    "    \n",
    "            # compute the average number of ads per session\n",
    "             (count(when(col(\"page\") == \"Roll Advert\",\n",
    "                         True))/countDistinct(\"sessionId\")).alias(\"ads_per_session\"),\n",
    "        \n",
    "            # days between registration and first activity\n",
    "            first(col(\"init_days_interv\")).alias(\"init_days_interv\"),\n",
    "            # the tenure time on the platform: from registration to last event in days\n",
    "            first(col(\"tenure_days_interv\")).alias(\"tenure_days_interv\"),\n",
    "            # number of days user visited the platform  \n",
    "            first(col(\"active_days\")).alias(\"active_days\"),\n",
    "    \n",
    "            # encode the gender 1 for F and 0 for M\n",
    "            first(when(col(\"gender\") == \"F\", 1).otherwise(0)).alias(\"gender\"),\n",
    "    \n",
    "            # encode the level (paid/free) according to the last record\n",
    "            last(when(col(\"level\") == \"paid\", 1).otherwise(0)).alias(\"level\"),\n",
    "    \n",
    "            # flag those users that downgraded \n",
    "            last(when(col(\"page\") == \"Downgrade\", 1).otherwise(0)).alias(\"downgrade\"),\n",
    "    \n",
    "            # create the churn column that records if the user cancelled \n",
    "            last(when(col(\"page\") == \"Cancellation Confirmation\", 1).otherwise(0)).alias(\"churn\"),\n",
    "            )\n",
    "    # drop the column \"userId\" \n",
    "    df_feats = df_feats.drop(\"userId\")       \n",
    "    \n",
    "    return df_feats"
   ]
  },
  {
   "cell_type": "code",
   "execution_count": 12,
   "id": "3115a0e1",
   "metadata": {},
   "outputs": [
    {
     "name": "stdout",
     "output_type": "stream",
     "text": [
      "root\n",
      " |-- nr_songs: long (nullable = false)\n",
      " |-- nr_likes: long (nullable = false)\n",
      " |-- nr_dislikes: long (nullable = false)\n",
      " |-- nr_playlist: long (nullable = false)\n",
      " |-- nr_friends: long (nullable = false)\n",
      " |-- nr_downgrades: long (nullable = false)\n",
      " |-- nr_upgrades: long (nullable = false)\n",
      " |-- nr_home: long (nullable = false)\n",
      " |-- nr_error: long (nullable = false)\n",
      " |-- nr_settings: long (nullable = false)\n",
      " |-- nr_ads: long (nullable = false)\n",
      " |-- nr_sessions: long (nullable = false)\n",
      " |-- n_acts: long (nullable = false)\n",
      " |-- avg_sess_h: double (nullable = true)\n",
      " |-- acts_per_session: double (nullable = true)\n",
      " |-- songs_per_session: double (nullable = true)\n",
      " |-- ads_per_session: double (nullable = true)\n",
      " |-- init_days_interv: integer (nullable = true)\n",
      " |-- tenure_days_interv: integer (nullable = true)\n",
      " |-- active_days: long (nullable = true)\n",
      " |-- gender: integer (nullable = true)\n",
      " |-- level: integer (nullable = true)\n",
      " |-- downgrade: integer (nullable = true)\n",
      " |-- churn: integer (nullable = true)\n",
      "\n"
     ]
    }
   ],
   "source": [
    "# build the features dataframe for mini dataset\n",
    "df_feats = build_features(df_proc)\n",
    "df_feats.printSchema()"
   ]
  },
  {
   "cell_type": "markdown",
   "id": "85e12a0d",
   "metadata": {},
   "source": [
    "### <font color='blue'>Investigate missing and null values</font>"
   ]
  },
  {
   "cell_type": "code",
   "execution_count": 13,
   "id": "53c65f1b",
   "metadata": {},
   "outputs": [
    {
     "name": "stderr",
     "output_type": "stream",
     "text": [
      "21/12/23 17:28:28 WARN package: Truncated the string representation of a plan since it was too large. This behavior can be adjusted by setting 'spark.sql.debug.maxToStringFields'.\n",
      "[Stage 11:============================================>        (169 + 12) / 200]\r"
     ]
    },
    {
     "name": "stdout",
     "output_type": "stream",
     "text": [
      "-RECORD 0-----------------\n",
      " nr_songs           | 0   \n",
      " nr_likes           | 0   \n",
      " nr_dislikes        | 0   \n",
      " nr_playlist        | 0   \n",
      " nr_friends         | 0   \n",
      " nr_downgrades      | 0   \n",
      " nr_upgrades        | 0   \n",
      " nr_home            | 0   \n",
      " nr_error           | 0   \n",
      " nr_settings        | 0   \n",
      " nr_ads             | 0   \n",
      " nr_sessions        | 0   \n",
      " n_acts             | 0   \n",
      " avg_sess_h         | 0   \n",
      " acts_per_session   | 0   \n",
      " songs_per_session  | 0   \n",
      " ads_per_session    | 0   \n",
      " init_days_interv   | 0   \n",
      " tenure_days_interv | 0   \n",
      " active_days        | 0   \n",
      " gender             | 0   \n",
      " level              | 0   \n",
      " downgrade          | 0   \n",
      " churn              | 0   \n",
      "\n"
     ]
    },
    {
     "name": "stderr",
     "output_type": "stream",
     "text": [
      "\r",
      "[Stage 12:====================================================> (195 + 5) / 200]\r",
      "\r",
      "                                                                                \r"
     ]
    }
   ],
   "source": [
    "# count null and nan values in each column\n",
    "df_feats.select([count(when(isnan(c) | col(c).isNull(), c)) \\\n",
    "           .alias(c) for c in df_feats.columns]) \\\n",
    "           .show(vertical=True)"
   ]
  },
  {
   "cell_type": "markdown",
   "id": "919462a5",
   "metadata": {},
   "source": [
    "## <font color='blue'>Exploratory Data Analysis on Engineered Features</font>\n",
    "\n",
    "Once you've defined churn, perform some exploratory data analysis to observe the behavior for users who stayed vs users who churned. You can start by exploring aggregates on these two groups of users, observing how much of a specific action they experienced per a certain time unit or number of songs played.\n",
    "\n",
    "### <font color='blue'>Distribution of Churn on Gender</font>"
   ]
  },
  {
   "cell_type": "code",
   "execution_count": 14,
   "id": "dc73d63b",
   "metadata": {},
   "outputs": [
    {
     "name": "stdout",
     "output_type": "stream",
     "text": [
      "+------------+---+---+\n",
      "|churn_gender|  0|  1|\n",
      "+------------+---+---+\n",
      "|           0| 89| 84|\n",
      "|           1| 32| 20|\n",
      "+------------+---+---+\n",
      "\n"
     ]
    }
   ],
   "source": [
    "# counts of churn/non_churn users grouped by gender\n",
    "df_feats.crosstab(\"churn\", \"gender\").sort(\"churn_gender\").show()"
   ]
  },
  {
   "cell_type": "code",
   "execution_count": 15,
   "id": "85d20f8c",
   "metadata": {},
   "outputs": [
    {
     "name": "stderr",
     "output_type": "stream",
     "text": [
      "                                                                                \r"
     ]
    },
    {
     "data": {
      "image/png": "[encoded data removed]",
      "text/plain": [
       "<Figure size 432x288 with 1 Axes>"
      ]
     },
     "metadata": {},
     "output_type": "display_data"
    }
   ],
   "source": [
    "# adjust figure size and font size\n",
    "sns.set(rc = {\"figure.figsize\":(6,4)})\n",
    "sns.set(font_scale=1)\n",
    "\n",
    "# plot the churn distribution \n",
    "ax = sns.countplot(x=\"churn\", data=df_feats.toPandas(), hue=\"gender\",\n",
    "                  palette='PuBuGn_r')\n",
    "\n",
    "# pad margins so that markers don't get clipped by the axes\n",
    "plt.margins(x=0.02, y=0.1, tight=True);\n",
    "\n",
    "# create labels and ticks\n",
    "for container in ax.containers:\n",
    "    ax.bar_label(container)\n",
    "ax.set(xticklabels =[\"Not Churned\", \"Churned\"])\n",
    "ax.legend(labels=[\"M\", \"F\"])\n",
    "plt.xlabel(\"\")\n",
    "\n",
    "# create title\n",
    "plt.title(\"Churn Distribution by Gender\");\n"
   ]
  },
  {
   "cell_type": "markdown",
   "id": "3e134e20",
   "metadata": {},
   "source": [
    "### <font color='blue'>Distribution of Churn on Level</font>"
   ]
  },
  {
   "cell_type": "code",
   "execution_count": 16,
   "id": "66a4abc6",
   "metadata": {},
   "outputs": [
    {
     "name": "stdout",
     "output_type": "stream",
     "text": [
      "+-----------+---+---+\n",
      "|churn_level|  0|  1|\n",
      "+-----------+---+---+\n",
      "|          0| 59|114|\n",
      "|          1| 21| 31|\n",
      "+-----------+---+---+\n",
      "\n"
     ]
    }
   ],
   "source": [
    "# counts of churn/non_churn users grouped by level\n",
    "df_feats.crosstab(\"churn\", \"level\").sort(\"churn_level\").show()"
   ]
  },
  {
   "cell_type": "code",
   "execution_count": 17,
   "id": "909aa79b",
   "metadata": {},
   "outputs": [
    {
     "data": {
      "image/png": "[encoded data removed]",
      "text/plain": [
       "<Figure size 432x288 with 1 Axes>"
      ]
     },
     "metadata": {},
     "output_type": "display_data"
    }
   ],
   "source": [
    "# adjust figure size and font size\n",
    "sns.set(rc = {\"figure.figsize\":(6,4)})\n",
    "sns.set(font_scale=1)\n",
    "\n",
    "# plot the churn distribution \n",
    "ax = sns.countplot(x=\"churn\", data=df_feats.toPandas(), hue=\"level\",\n",
    "                  palette='PuBuGn_r')\n",
    "\n",
    "# pad margins so that markers don't get clipped by the axes\n",
    "plt.margins(x=0.02, y=0.1, tight=True);\n",
    "\n",
    "# create labels and ticks\n",
    "for container in ax.containers:\n",
    "    ax.bar_label(container)\n",
    "ax.set(xticklabels =[\"Not Churned\", \"Churned\"])\n",
    "ax.legend(labels=[\"free\", \"paid\"])\n",
    "plt.xlabel(\"\")\n",
    "\n",
    "# create title\n",
    "plt.title(\"Churn Distribution by Level\");"
   ]
  },
  {
   "cell_type": "markdown",
   "id": "4591e3c4",
   "metadata": {},
   "source": [
    "### <font color='blue'>Songs per Session for Churn and Not Churned</font>"
   ]
  },
  {
   "cell_type": "code",
   "execution_count": 19,
   "id": "4ee08d8b",
   "metadata": {},
   "outputs": [
    {
     "name": "stdout",
     "output_type": "stream",
     "text": [
      "+-------+-----------------+\n",
      "|summary|songs_per_session|\n",
      "+-------+-----------------+\n",
      "|  count|              225|\n",
      "|   mean| 69.0023306588992|\n",
      "| stddev|42.32095423081715|\n",
      "|    min|              3.0|\n",
      "|    max|286.6666666666667|\n",
      "+-------+-----------------+\n",
      "\n"
     ]
    }
   ],
   "source": [
    "# display statistics for songs played per session\n",
    "df_feats.describe(\"songs_per_session\").show()"
   ]
  },
  {
   "cell_type": "code",
   "execution_count": 20,
   "id": "cc637f40",
   "metadata": {},
   "outputs": [
    {
     "data": {
      "image/png": "[encoded data removed]",
      "text/plain": [
       "<Figure size 576x432 with 1 Axes>"
      ]
     },
     "metadata": {},
     "output_type": "display_data"
    }
   ],
   "source": [
    "# adding labels to medians from:\n",
    "# https://pretagteam.com/question/labeling-boxplot-in-seaborn-with-median-value\n",
    "\n",
    "# adjust figure size and font size\n",
    "sns.set(rc = {\"figure.figsize\":(8,6)})\n",
    "sns.set(font_scale=1)\n",
    "\n",
    "# plot two boxplots\n",
    "ax = sns.boxplot(x='churn', y = 'songs_per_session', \n",
    "                 data = df_feats.toPandas(),\n",
    "                 palette='PuBuGn_r')\n",
    "\n",
    "# label the median lines\n",
    "medians = round(df_feats.toPandas().groupby(['churn'])['songs_per_session'].median(), 2)\n",
    "vertical_offset = df_feats.toPandas()['songs_per_session'].median() * 0.1 # offset from median\n",
    "\n",
    "for xtick in ax.get_xticks():\n",
    "    ax.text(xtick, medians[xtick] + vertical_offset, medians[xtick],\n",
    "      horizontalalignment = \"center\", color = \"w\", weight = \"bold\")\n",
    "\n",
    "# create title and labels\n",
    "plt.title('Average Number of Songs Played per Session')\n",
    "ax.set(xticklabels=['Not Churned', 'Churned'])\n",
    "ax.set_xlabel(\"\")\n",
    "ax.set_ylabel(\"Count of Songs\");"
   ]
  },
  {
   "cell_type": "markdown",
   "id": "ca1bcaff",
   "metadata": {},
   "source": [
    "### <font color='blue'>Actions per Session for Churn and Not Churned</font>"
   ]
  },
  {
   "cell_type": "code",
   "execution_count": 21,
   "id": "492053af",
   "metadata": {},
   "outputs": [
    {
     "name": "stdout",
     "output_type": "stream",
     "text": [
      "+-------+------------------+\n",
      "|summary|  acts_per_session|\n",
      "+-------+------------------+\n",
      "|  count|               225|\n",
      "|   mean|31.053040008799456|\n",
      "| stddev|32.154811754538564|\n",
      "|    min|3.6315789473684212|\n",
      "|    max|             259.0|\n",
      "+-------+------------------+\n",
      "\n"
     ]
    }
   ],
   "source": [
    "# display statistics for actions played per session\n",
    "df_feats.describe(\"acts_per_session\").show()"
   ]
  },
  {
   "cell_type": "code",
   "execution_count": 22,
   "id": "505f0586",
   "metadata": {},
   "outputs": [
    {
     "data": {
      "image/png": "[encoded data removed]",
      "text/plain": [
       "<Figure size 720x432 with 1 Axes>"
      ]
     },
     "metadata": {},
     "output_type": "display_data"
    }
   ],
   "source": [
    "# adjust figure size and font size\n",
    "sns.set(rc = {\"figure.figsize\":(10,6)})\n",
    "sns.set(font_scale=1)\n",
    "\n",
    "# plot two boxplots\n",
    "ax = sns.boxplot(x='churn', y = 'acts_per_session', \n",
    "                 data = df_feats.toPandas(),\n",
    "                 palette='PuBuGn_r')\n",
    "\n",
    "# label the median lines\n",
    "medians = round(df_feats.toPandas().groupby(['churn'])['acts_per_session'].median(), 2)\n",
    "vertical_offset = df_feats.toPandas()['acts_per_session'].median() * 0.25 # offset from median\n",
    "\n",
    "for xtick in ax.get_xticks():\n",
    "    ax.text(xtick, medians[xtick] + vertical_offset, medians[xtick],\n",
    "      horizontalalignment = \"center\", color = \"w\", weight = \"bold\")\n",
    "\n",
    "# create title and labels\n",
    "plt.title('Average Number of Actions per Session')\n",
    "ax.set(xticklabels=['Not Churned', 'Churned'])\n",
    "ax.set_xlabel(\"\")\n",
    "ax.set_ylabel(\"Count of Actions\");"
   ]
  },
  {
   "cell_type": "markdown",
   "id": "80ed6738",
   "metadata": {},
   "source": [
    "### <font color='blue'>Received Ads per Session for Churn and Not Churned</font>"
   ]
  },
  {
   "cell_type": "code",
   "execution_count": 23,
   "id": "c050b727",
   "metadata": {},
   "outputs": [
    {
     "name": "stdout",
     "output_type": "stream",
     "text": [
      "+-------+------------------+\n",
      "|summary|   ads_per_session|\n",
      "+-------+------------------+\n",
      "|  count|               225|\n",
      "|   mean|1.6459133170325297|\n",
      "| stddev|1.7879873057253297|\n",
      "|    min|               0.0|\n",
      "|    max|              14.0|\n",
      "+-------+------------------+\n",
      "\n"
     ]
    }
   ],
   "source": [
    "# display statistics for average number of ads received per session\n",
    "df_feats.describe(\"ads_per_session\").show()"
   ]
  },
  {
   "cell_type": "code",
   "execution_count": 24,
   "id": "f12880f8",
   "metadata": {},
   "outputs": [
    {
     "data": {
      "image/png": "[encoded data removed]",
      "text/plain": [
       "<Figure size 576x432 with 1 Axes>"
      ]
     },
     "metadata": {},
     "output_type": "display_data"
    }
   ],
   "source": [
    "# adjust figure size and font size\n",
    "sns.set(rc = {\"figure.figsize\":(8,6)})\n",
    "sns.set(font_scale=1)\n",
    "\n",
    "# plot two boxplots\n",
    "ax = sns.boxplot(x='churn', y = 'ads_per_session', \n",
    "                 data = df_feats.toPandas(),\n",
    "                 palette='PuBuGn_r')\n",
    "\n",
    "# label the median lines\n",
    "medians = round(df_feats.toPandas().groupby(['churn'])['ads_per_session'].median(), 2)\n",
    "vertical_offset = df_feats.toPandas()['ads_per_session'].median() * 0.25 # offset from median\n",
    "\n",
    "for xtick in ax.get_xticks():\n",
    "    ax.text(xtick, medians[xtick] + vertical_offset, medians[xtick],\n",
    "      horizontalalignment = \"center\", color = \"w\", weight = \"bold\")\n",
    "\n",
    "# create title and labels\n",
    "plt.title('Average Number of Ads per Session')\n",
    "ax.set(xticklabels=['Not Churned', 'Churned'])\n",
    "ax.set_xlabel(\"\")\n",
    "ax.set_ylabel(\"Count of Ads\");"
   ]
  },
  {
   "cell_type": "markdown",
   "id": "9712ffb8",
   "metadata": {},
   "source": [
    "### <font color='blue'>Likes, Dislikes, Upgrades and Downgrades vs. Churn</font>"
   ]
  },
  {
   "cell_type": "code",
   "execution_count": 25,
   "id": "1acb71f4",
   "metadata": {},
   "outputs": [
    {
     "name": "stdout",
     "output_type": "stream",
     "text": [
      "+-------+------------------+------------------+------------------+------------------+\n",
      "|summary|          nr_likes|       nr_dislikes|       nr_upgrades|     nr_downgrades|\n",
      "+-------+------------------+------------------+------------------+------------------+\n",
      "|  count|               225|               225|               225|               225|\n",
      "|   mean|55.782222222222224|11.315555555555555|2.2177777777777776| 9.133333333333333|\n",
      "| stddev| 65.47792460907043|13.077481251105503|2.5585369082956606|11.734412152785014|\n",
      "|    min|                 0|                 0|                 0|                 0|\n",
      "|    max|               437|                75|                15|                73|\n",
      "+-------+------------------+------------------+------------------+------------------+\n",
      "\n"
     ]
    }
   ],
   "source": [
    "# statistics for the four features\n",
    "df_feats.describe([\"nr_likes\", \"nr_dislikes\", \"nr_upgrades\", \"nr_downgrades\"]).show()"
   ]
  },
  {
   "cell_type": "code",
   "execution_count": 26,
   "id": "ff1843cd",
   "metadata": {},
   "outputs": [
    {
     "data": {
      "image/png": "[encoded data removed]",
      "text/plain": [
       "<Figure size 864x720 with 4 Axes>"
      ]
     },
     "metadata": {},
     "output_type": "display_data"
    }
   ],
   "source": [
    "# adjust figure size and font size\n",
    "sns.set(rc = {\"figure.figsize\":(12,10)})\n",
    "sns.set(font_scale=1)\n",
    "\n",
    "# tick labels for x-axis\n",
    "xticklabels = ['Not Churned', 'Churned'];\n",
    "\n",
    "# plot on first row on left\n",
    "plt.subplot(2,2,1)\n",
    "ax1=sns.violinplot(data=df_feats.toPandas(), x=\"churn\", y=\"nr_likes\",  palette='PuBuGn_r');\n",
    "\n",
    "plt.title(\"Distribution of Likes\");\n",
    "plt.xlabel(\"\")\n",
    "plt.ylabel(\"\");\n",
    "ax1.set_xticks([0, 1])\n",
    "ax1.set_xticklabels(xticklabels);\n",
    "\n",
    "# plot on first row on right\n",
    "plt.subplot(2,2,2)\n",
    "ax2=sns.violinplot(data=df_feats.toPandas(), x=\"churn\", y=\"nr_dislikes\", palette='PuBuGn_r');\n",
    "\n",
    "plt.title(\"Distribution of Dislikes\");\n",
    "plt.xlabel(\"\")\n",
    "plt.ylabel(\"\");\n",
    "ax2.set_xticks([0, 1])\n",
    "ax2.set_xticklabels(xticklabels);\n",
    "\n",
    "# plot on second row on left\n",
    "plt.subplot(2,2,3)\n",
    "ax3=sns.violinplot(data=df_feats.toPandas(), x='churn', y='nr_upgrades', palette='PuBuGn_r');\n",
    "\n",
    "plt.title(\"Distribution of Upgrades\");\n",
    "plt.xlabel(\"\")\n",
    "plt.ylabel(\"\");\n",
    "ax3.set_xticks([0, 1])\n",
    "ax3.set_xticklabels(xticklabels);\n",
    "\n",
    "# plot on second row on right\n",
    "plt.subplot(2,2,4)\n",
    "ax4=sns.violinplot(data=df_feats.toPandas(), x=\"churn\", y='nr_downgrades', palette='PuBuGn_r');\n",
    "\n",
    "plt.title(\"Distribution of Downgrades\");\n",
    "plt.xlabel(\"\")\n",
    "plt.ylabel(\"\");\n",
    "ax4.set_xticks([0, 1])\n",
    "ax4.set_xticklabels(xticklabels);"
   ]
  },
  {
   "cell_type": "code",
   "execution_count": 27,
   "id": "61f72f4b",
   "metadata": {},
   "outputs": [
    {
     "name": "stderr",
     "output_type": "stream",
     "text": [
      "                                                                                \r"
     ]
    },
    {
     "data": {
      "image/png": "[encoded data removed]",
      "text/plain": [
       "<Figure size 1080x864 with 9 Axes>"
      ]
     },
     "metadata": {},
     "output_type": "display_data"
    }
   ],
   "source": [
    "# adjust figure size and font size\n",
    "sns.set(rc = {\"figure.figsize\":(16,14)})\n",
    "sns.set(font_scale=1)\n",
    "\n",
    "# choose the individual plots figure properties\n",
    "ncols = 3\n",
    "nrows = 3\n",
    "figsize = (ncols * 5, nrows * 4)\n",
    "\n",
    "# assign fig and axes\n",
    "fig, axes = plt.subplots(nrows=nrows, ncols=ncols, figsize=figsize)\n",
    "fig.suptitle(\"Total Actions per Page\")\n",
    "\n",
    "# data as pandas dataframe\n",
    "data = df_feats.select(\"churn\", \"nr_songs\", \"nr_playlist\", \"nr_friends\", \n",
    "                       \"nr_home\", \"nr_error\", \"nr_settings\",\n",
    "                       \"nr_ads\", \"nr_sessions\", \"n_acts\").toPandas()\n",
    "\n",
    "\n",
    "# list of columns to plot\n",
    "ylabels = data.columns[1:]\n",
    "\n",
    "# create a loop to plot each column\n",
    "for i, y in enumerate(ylabels):\n",
    "    sns.histplot(ax=axes[divmod(i, ncols)], data=data, x=y, hue=\"churn\", \n",
    "                 hue_order=[1,0],  palette='PuBuGn_r')"
   ]
  },
  {
   "cell_type": "markdown",
   "id": "36acb77a",
   "metadata": {},
   "source": [
    "### <font color='blue'>Feature Relevance</font>"
   ]
  },
  {
   "cell_type": "code",
   "execution_count": 28,
   "id": "d0e36bb8",
   "metadata": {},
   "outputs": [],
   "source": [
    "def median_diff(df, col, bincol):\n",
    "    \n",
    "    \"\"\"\n",
    "    Given the values in a column, computes the normalized difference between the medians \n",
    "    of the subsets based on values in a categorical column.\n",
    "    \n",
    "    INPUT:\n",
    "        df (Pandas dataframe) - dataframe that contains both columns\n",
    "        col (Pandas series) - column in df, of integer, float type\n",
    "        bincol (Pandas series) - column in df, with entries 0, 1\n",
    "    OUTPUT:\n",
    "        dictionary: key = nd_col, value = normalized_diff\n",
    "    \"\"\"\n",
    "    median_one = abs(df[df[bincol]==1][col].median())\n",
    "    median_zero = abs(df[df[bincol]==0][col].median())\n",
    "    normalized_difference = (median_zero - median_one)/max(median_zero, median_one)\n",
    "    return {\"column\": f\"nd_{col}\",\n",
    "            \"normal_diff\": normalized_difference}    "
   ]
  },
  {
   "cell_type": "code",
   "execution_count": 29,
   "id": "8c80697e",
   "metadata": {},
   "outputs": [],
   "source": [
    "# list of numerical columns to investigate\n",
    "num_cols = df_feats.toPandas().columns[:20]\n",
    "\n",
    "# create a Pandas dataframe with the normalized median differences\n",
    "df_medians = pd.DataFrame(list(map(lambda col: median_diff(df_feats.toPandas(), col, \"churn\"), num_cols)))\n",
    "df_medians = df_medians.sort_values([\"normal_diff\"], ascending = False).reset_index(drop = True)"
   ]
  },
  {
   "cell_type": "code",
   "execution_count": 30,
   "id": "c8a0e116",
   "metadata": {},
   "outputs": [
    {
     "data": {
      "image/png": "[encoded data removed]",
      "text/plain": [
       "<Figure size 720x288 with 1 Axes>"
      ]
     },
     "metadata": {},
     "output_type": "display_data"
    }
   ],
   "source": [
    "# adjust figure size and font size\n",
    "sns.set(rc = {\"figure.figsize\":(10,4)})\n",
    "\n",
    "sns.set(font_scale=1)\n",
    "ax = df_medians.plot.bar(x='column', y='normal_diff', rot=85)\n",
    "\n",
    "# create title and labels\n",
    "plt.title(\"Normalized Median Differences Churn vs Not Churn\")\n",
    "ax.set_xlabel(\"\");\n",
    "ax.set_ylabel(\"\");"
   ]
  },
  {
   "cell_type": "markdown",
   "id": "cfe8895e",
   "metadata": {},
   "source": [
    "## <font color='blue'>Modeling</font>\n",
    "\n",
    "Split the full dataset into train, test, and validation sets. Test out several of the machine learning methods you learned. Evaluate the accuracy of the various models, tuning parameters as necessary. Determine your winning model based on test accuracy and report results on the validation set. Since the churned users are a fairly small subset, I suggest using F1 score as the metric to optimize."
   ]
  },
  {
   "cell_type": "markdown",
   "id": "79d91227",
   "metadata": {},
   "source": [
    "### <font color='blue'>Split the Data</font>\n",
    "\n"
   ]
  },
  {
   "cell_type": "code",
   "execution_count": 31,
   "id": "8ecde529",
   "metadata": {},
   "outputs": [],
   "source": [
    "SPLIT_VALS = [.7, .3]\n",
    "\n",
    "# split the data into train and test sets\n",
    "\n",
    "def split_data (df):\n",
    "    \n",
    "    \"\"\"\n",
    "    Split the dataset into training set and test set.\n",
    "    \"\"\"\n",
    "    train_set, test_set = df.randomSplit(SPLIT_VALS,seed=1234)\n",
    "    \n",
    "    return train_set, test_set"
   ]
  },
  {
   "cell_type": "markdown",
   "id": "1c147aee",
   "metadata": {},
   "source": [
    "### <font color='blue'>Build Pipeline</font>"
   ]
  },
  {
   "cell_type": "code",
   "execution_count": 32,
   "id": "361da05f",
   "metadata": {},
   "outputs": [],
   "source": [
    "# split the features and the label\n",
    "CAT_FEATURES = [\"gender\", \"level\", \"downgrade\"]\n",
    "CONT_FEATURES = [\"nr_songs\", \"nr_likes\", \"nr_dislikes\", \"nr_playlist\", \"nr_friends\", \"nr_downgrades\",\n",
    "                \"nr_upgrades\", \"nr_home\", \"nr_error\", \"nr_settings\", \"nr_ads\", \"nr_sessions\",\n",
    "                \"n_acts\", \"avg_sess_h\", \"acts_per_session\", \"songs_per_session\", \"ads_per_session\",\n",
    "                \"init_days_interv\", \"tenure_days_interv\", \"active_days\"]\n",
    "CHURN_LABEL = \"churn\"\n",
    "\n",
    "\n",
    "def build_pipeline(classifier):\n",
    "    \"\"\"\n",
    "    Combines all the stages of the processing data. \n",
    "    \"\"\"\n",
    "    # stages in the pipeline\n",
    "    stages = [] \n",
    "    \n",
    "    # encode the labels\n",
    "    label_indexer =  StringIndexer(inputCol=CHURN_LABEL, outputCol=\"label\")\n",
    "    stages += [label_indexer]\n",
    "    \n",
    "    # encode the binary features\n",
    "    bin_assembler = VectorAssembler(inputCols=CAT_FEATURES, outputCol=\"bin_features\")\n",
    "    stages += [bin_assembler]\n",
    "    \n",
    "    # encode the continuous features\n",
    "    cont_assembler = VectorAssembler(inputCols = CONT_FEATURES, outputCol=\"cont_features\")\n",
    "    stages += [cont_assembler]\n",
    "    # normalize the continuous features\n",
    "    cont_scaler = StandardScaler(inputCol=\"cont_features\", outputCol=\"cont_scaler\", \n",
    "                                 withStd=True , withMean=True)\n",
    "    stages += [cont_scaler]\n",
    "    \n",
    "    # pass all to the vector assembler to create a single sparse vector\n",
    "    all_assembler = VectorAssembler(inputCols=[\"bin_features\", \"cont_scaler\"],  \n",
    "                            outputCol=\"features\")\n",
    "    stages += [all_assembler]\n",
    "    \n",
    "    # add the model to the pipeline\n",
    "    stages += [classifier]\n",
    "    \n",
    "    # create a pipeline\n",
    "    pipeline = Pipeline(stages=stages)\n",
    "    \n",
    "    return pipeline"
   ]
  },
  {
   "cell_type": "markdown",
   "id": "1f50124f",
   "metadata": {},
   "source": [
    "### <font color='blue'>Build Individual ML Pipelines</font>"
   ]
  },
  {
   "cell_type": "code",
   "execution_count": null,
   "id": "7fc56dac",
   "metadata": {},
   "outputs": [],
   "source": [
    "# train a Logistic Regression model\n",
    "def logistic_regression_pipeline():\n",
    "    lr_classifier = LogisticRegression(labelCol = \"label\",\n",
    "                                       featuresCol = \"features\")\n",
    "    return build_pipeline(lr_classifier)\n",
    "\n",
    "# train a Decision Tree model\n",
    "def decision_tree_pipeline():\n",
    "    dt_classifier = DecisionTreeClassifier(labelCol = \"label\",\n",
    "                                           featuresCol = \"features\",\n",
    "                                           seed=1234)\n",
    "    return build_pipeline(dt_classifier)\n",
    "\n",
    "# train a Random Forest model\n",
    "def random_forest_pipeline():\n",
    "    rf_classifier = RandomForestClassifier(labelCol = \"label\",\n",
    "                                           featuresCol = \"features\", \n",
    "                                           seed=1234)\n",
    "    return build_pipeline(rf_classifier)\n",
    "\n",
    "# train a Gradient-boosted Tree model\n",
    "def gradient_boosted_pipeline():\n",
    "    gbt_classifier = GBTClassifier(labelCol = \"label\",\n",
    "                                   featuresCol = \"features\",\n",
    "                                   seed=1234)\n",
    "    return build_pipeline(gbt_classifier)\n",
    "\n",
    "# train a Multilayer Perceptron Classifier\n",
    "def multilayer_perceptron_pipeline():\n",
    "    # specify layers: 23 (features), two intermediate (8, 4), output 2 (classes)\n",
    "    layers=[23, 8, 4, 2]\n",
    "    # create the trainer and set its parameters\n",
    "    mlpc_classifier = MultilayerPerceptronClassifier(labelCol = \"label\",\n",
    "                                                     featuresCol = \"features\",\n",
    "                                                     layers=layers,\n",
    "                                                     seed=1234)\n",
    "    return build_pipeline(mlpc_classifier)"
   ]
  },
  {
   "cell_type": "markdown",
   "id": "bee47b01",
   "metadata": {},
   "source": [
    "### <font color='blue'>Build K-Fold Cross Validation and Grid Search Pipelines</font>"
   ]
  },
  {
   "cell_type": "code",
   "execution_count": 34,
   "id": "5a6de972",
   "metadata": {},
   "outputs": [],
   "source": [
    "# implement K-fold cross validation and grid search \n",
    "\n",
    "def grid_search_model(pipeline, param):\n",
    "    \"\"\"\n",
    "    Creates a cross validation object.\n",
    "    \n",
    "    INPUT:\n",
    "        param = grid of parameter\n",
    "        pipeline = model pipeline \n",
    "    \n",
    "    OUTPUT:\n",
    "        cv = cross validation object\n",
    "    \"\"\"\n",
    "    evaluator = BinaryClassificationEvaluator()\n",
    "    cv = CrossValidator(estimator=pipeline,\n",
    "                    estimatorParamMaps=param,\n",
    "                    evaluator=evaluator,\n",
    "                    numFolds=5,\n",
    "                    parallelism=2)\n",
    "    return cv"
   ]
  },
  {
   "cell_type": "code",
   "execution_count": 51,
   "id": "44ff4ad2",
   "metadata": {},
   "outputs": [],
   "source": [
    "# model_name = \"Logistic_Regression\"\n",
    "def lr_grid_search(pipeline):\n",
    "    \n",
    "    model = pipeline.getStages()[-1]\n",
    "\n",
    "    # create a list of parameters for Logistic Regression\n",
    "    param_lr = ParamGridBuilder()\n",
    "    param_lr = param_lr.addGrid(model.regParam, [.1, .5, 2]) #[.01])\n",
    "    param_lr = param_lr.addGrid(model.elasticNetParam,  [.1, 1]) #[.5])\n",
    "    param_lr = param_lr.build()\n",
    "    \n",
    "    print(f\"Models trained: {len(param_lr)}\")\n",
    "    \n",
    "    return grid_search_model(pipeline, param_lr)\n",
    "\n",
    "\n",
    "# model_name = \"Decision Trees\"\n",
    "def dt_grid_search(pipeline):\n",
    "    \n",
    "    model = pipeline.getStages()[-1]\n",
    "\n",
    "    # create a list of parameters for Logistic Regression\n",
    "    param_dt = ParamGridBuilder()\n",
    "    param_dt = param_dt.addGrid(model.maxDepth, [5, 10, 15, 25]) #[25]) \n",
    "    param_dt = param_dt.addGrid(model.maxBins, [8, 16, 32]) # [32]) \n",
    "    param_dt = param_dt.build()\n",
    "    \n",
    "    print(f\"Models trained: {len(param_dt)}\")\n",
    "    \n",
    "    return grid_search_model(pipeline, param_dt)\n",
    "\n",
    "\n",
    "# model_name = \"Random Forest\"\n",
    "def rf_grid_search(pipeline):\n",
    "    \n",
    "    model = pipeline.getStages()[-1]\n",
    "\n",
    "    # create a list of parameters for Logistic Regression\n",
    "    param_rf = ParamGridBuilder()\n",
    "    param_rf = param_rf.addGrid(model.maxDepth, [10, 15, 25]) #[15]) \n",
    "    param_rf = param_rf.addGrid(model.maxBins, [8, 16, 32]) # [32]) \n",
    "    param_rf = param_rf.addGrid(model.numTrees, [20, 40, 60]) #[60])\n",
    "    param_rf = param_rf.build()\n",
    "    \n",
    "    print(f\"Models trained: {len(param_rf)}\")\n",
    "    \n",
    "    return grid_search_model(pipeline, param_rf)\n",
    "\n",
    "\n",
    "# model_name = \"Gradient Boosted Trees\"\n",
    "def gbt_grid_search(pipeline):\n",
    "    \n",
    "    model = pipeline.getStages()[-1]\n",
    "\n",
    "    # create a list of parameters for Logistic Regression\n",
    "    param_gbt = ParamGridBuilder()\n",
    "    param_gbt = param_gbt.addGrid(model.maxDepth, [10, 15, 25]) #[15])\n",
    "    param_gbt = param_gbt.addGrid(model.maxIter, [10, 20, 30]) #[20]) \n",
    "    param_gbt = param_gbt.addGrid(model.stepSize, [.05, .1]) #[.1])\n",
    "    param_gbt = param_gbt.build()\n",
    "    \n",
    "    print(f\"Models trained: {len(param_gbt)}\")\n",
    "    \n",
    "    return grid_search_model(pipeline, param_gbt)\n",
    "\n",
    "\n",
    "# model_name = \"Multilayer Perceptron Classifier\"\n",
    "def mlpc_grid_search(pipeline):\n",
    "    \n",
    "    model = pipeline.getStages()[-1]\n",
    "\n",
    "    # create a list of parameters for Logistic Regression\n",
    "    param_mlpc = ParamGridBuilder()\n",
    "    param_mlpc = param_mlpc.addGrid(model.stepSize, [.01, .02,.05]) #[.02])\n",
    "    param_mlpc = param_mlpc.addGrid(model.maxIter, [32, 64, 128, 256]) #[128])\n",
    "    param_mlpc = param_mlpc.build()\n",
    "    \n",
    "    print(f\"Models trained: {len(param_mlpc)}\")\n",
    "    \n",
    "    return grid_search_model(pipeline, param_mlpc)"
   ]
  },
  {
   "cell_type": "markdown",
   "id": "06bd4b3e",
   "metadata": {},
   "source": [
    "### <font color='blue'>Build Models Evaluators</font>"
   ]
  },
  {
   "cell_type": "code",
   "execution_count": 43,
   "id": "b55ea7b0",
   "metadata": {},
   "outputs": [],
   "source": [
    "# function to compute relevant metrics for binary classification\n",
    "def conf_metrics(dataset):\n",
    "    \n",
    "    \"\"\"\n",
    "        Calculates the metrics associated to the confusion matrix.\n",
    "\n",
    "        INPUT:\n",
    "            dataset (pyspark.sql.DataFrame) - a dataset that contains\n",
    "                                labels and predictions\n",
    "        OUTPUT:\n",
    "            accuracy (float) - metric\n",
    "            precision (float) - metric\n",
    "            recall (float) - metric\n",
    "            F1 (float) - metric\n",
    "    \"\"\"\n",
    "   \n",
    "\n",
    "    # calculate the elements of the confusion matrix\n",
    "    tn = dataset.where((dataset[labelCol]==0) & (dataset[predCol]==0)).count()\n",
    "    tp = dataset.where((dataset[labelCol]==1) & (dataset[predCol]==1)).count()                   \n",
    "    fn = dataset.where((dataset[labelCol]==1) & (dataset[predCol]==0)).count()                   \n",
    "    fp = dataset.where((dataset[labelCol]==0) & (dataset[predCol]==1)).count()\n",
    "    \n",
    "    # calculate accuracy, precision, recall, and F1-score\n",
    "    accuracy = (tn + tp) / (tn + tp + fn + fp)\n",
    "    precision = tp / (tp + fp)\n",
    "    recall = tp / (tp + fn)\n",
    "    f1 =  2 * (precision*recall) / (precision + recall)\n",
    "    \n",
    "    return accuracy, precision, recall, f1"
   ]
  },
  {
   "cell_type": "code",
   "execution_count": 44,
   "id": "5cc242b8",
   "metadata": {},
   "outputs": [],
   "source": [
    "def display_metrics(dataset, roc_cl, pr_cl):\n",
    "    \n",
    "    \"\"\"\n",
    "    Prints evaluation metrics for the model. \n",
    "    \n",
    "    INPUT:\n",
    "         dataset (pyspark.sql.DataFrame) - a dataset that contains\n",
    "                                labels and predictions\n",
    "    \n",
    "    \"\"\"\n",
    "    \n",
    "    accuracy = conf_metrics(dataset)[0]\n",
    "    precision = conf_metrics(dataset)[1]\n",
    "    recall = conf_metrics(dataset)[2]\n",
    "    f1 = conf_metrics(dataset)[3]\n",
    "    \n",
    "    print(\"\")\n",
    "    print(\"Confusion Matrix\")\n",
    "    dataset.groupBy(dataset[labelCol], dataset[predCol]).count().show()\n",
    "    print(\"\")\n",
    "    print(\"accuracy...............%6.3f\" % accuracy)\n",
    "    print(\"precision..............%6.3f\" % precision)\n",
    "    print(\"recall.................%6.3f\" % recall)\n",
    "    print(\"F1.....................%6.3f\" % f1)\n",
    "    print(\"auc_roc................%6.3f\" % roc_cl)\n",
    "    print(\"auc_pr.................%6.3f\" % pr_cl)\n"
   ]
  },
  {
   "cell_type": "markdown",
   "id": "dce3c8bc",
   "metadata": {},
   "source": [
    "## <font color='blue'>Train, Tune and Evaluate the Classifiers</font>"
   ]
  },
  {
   "cell_type": "code",
   "execution_count": 38,
   "id": "dad5d2f0",
   "metadata": {},
   "outputs": [],
   "source": [
    "# split the data in training set and test set\n",
    "train_set, test_set = split_data(df_feats)"
   ]
  },
  {
   "cell_type": "code",
   "execution_count": 39,
   "id": "1dc5dd5a",
   "metadata": {},
   "outputs": [
    {
     "data": {
      "text/plain": [
       "(DataFrame[nr_songs: bigint, nr_likes: bigint, nr_dislikes: bigint, nr_playlist: bigint, nr_friends: bigint, nr_downgrades: bigint, nr_upgrades: bigint, nr_home: bigint, nr_error: bigint, nr_settings: bigint, nr_ads: bigint, nr_sessions: bigint, n_acts: bigint, avg_sess_h: double, acts_per_session: double, songs_per_session: double, ads_per_session: double, init_days_interv: int, tenure_days_interv: int, active_days: bigint, gender: int, level: int, downgrade: int, churn: int],\n",
       " DataFrame[nr_songs: bigint, nr_likes: bigint, nr_dislikes: bigint, nr_playlist: bigint, nr_friends: bigint, nr_downgrades: bigint, nr_upgrades: bigint, nr_home: bigint, nr_error: bigint, nr_settings: bigint, nr_ads: bigint, nr_sessions: bigint, n_acts: bigint, avg_sess_h: double, acts_per_session: double, songs_per_session: double, ads_per_session: double, init_days_interv: int, tenure_days_interv: int, active_days: bigint, gender: int, level: int, downgrade: int, churn: int])"
      ]
     },
     "execution_count": 39,
     "metadata": {},
     "output_type": "execute_result"
    }
   ],
   "source": [
    "train_set.persist(), test_set.persist()"
   ]
  },
  {
   "cell_type": "markdown",
   "id": "ef1aaf35",
   "metadata": {},
   "source": [
    "### <font color='blue'>Combine All Steps</font>"
   ]
  },
  {
   "cell_type": "code",
   "execution_count": 40,
   "id": "e7a0e942",
   "metadata": {},
   "outputs": [],
   "source": [
    "def train_evaluate_tune(model_name, classifier_pipeline, cv_pipeline):\n",
    "    \n",
    "    \"\"\"\n",
    "    The following steps are performed:\n",
    "        - build the classifier,\n",
    "        - run a grid search with cross validation, \n",
    "        - train the classifier on the train set,\n",
    "        - build predictions on the test set,\n",
    "        - compute and print training time and evaluation metrics\n",
    "        \n",
    "    INPUT:\n",
    "        model_name (str)\n",
    "        classifier_pipeline (pipeline object)\n",
    "        cv_pipeline (cross validator)\n",
    "    \n",
    "    \"\"\"\n",
    "    \n",
    "    print(\"\")\n",
    "    print(\"Training .....{}.\".format(model_name))\n",
    "    print(\"\")\n",
    "    \n",
    "    # name the relevant columns\n",
    "    predCol=\"prediction\"\n",
    "    labelCol=\"label\"\n",
    "    \n",
    "    # build specific pipeline\n",
    "    pipeline = classifier_pipeline()\n",
    "    \n",
    "    # choose an evaluator\n",
    "    evaluator = BinaryClassificationEvaluator()\n",
    "    evaluator.setLabelCol(labelCol)\n",
    "    \n",
    "    # build the grid search pipeline\n",
    "    cv = cv_pipeline(pipeline)\n",
    "    \n",
    "    # start time\n",
    "    start_time = time.time()\n",
    "    \n",
    "    # train the model\n",
    "    model = cv.fit(train_set)\n",
    "    \n",
    "    # stop timer\n",
    "    end_time = time.time()\n",
    "    \n",
    "    # evaluate the trainining time in minutes \n",
    "    train_time = (end_time - start_time)/60\n",
    "    \n",
    "    # print the training time\n",
    "    print(\"\")\n",
    "    print(\"Training time.........%6.2f min\" % train_time)\n",
    "    \n",
    "    # create the predictions dataset\n",
    "    results = model.bestModel.transform(test_set)\n",
    "    \n",
    "    # calculate auc metric\n",
    "    roc = evaluator.evaluate(results, {evaluator.metricName: \"areaUnderROC\"})\n",
    "    pr = evaluator.evaluate(results, {evaluator.metricName: \"areaUnderPR\"})\n",
    "    \n",
    "    # print all other evaluation metrics\n",
    "    print(\"\")\n",
    "    display_metrics(results)\n",
    "    print(\"\")"
   ]
  },
  {
   "cell_type": "code",
   "execution_count": 41,
   "id": "da5e54fe",
   "metadata": {},
   "outputs": [],
   "source": [
    "models_info = [[\"LOGISTIC REGRESSION CLASSIFIER\", logistic_regression_pipeline, lr_grid_search],\n",
    "          [\"DECISION TREE CLASSIFIER\", decision_tree_pipeline, dt_grid_search],\n",
    "          [\"RANDOM FOREST CLASSIFIER\", random_forest_pipeline, rf_grid_search],\n",
    "          [\"GRADIENT BOOSTED TREES\", gradient_boosted_pipeline, gbt_grid_search],\n",
    "          [\"MULTILAYER PERCEPTRON CLASSIFIER\", multilayer_perceptron_pipeline, mlpc_grid_search]]"
   ]
  },
  {
   "cell_type": "markdown",
   "id": "d8461eef",
   "metadata": {},
   "source": [
    "### <font color='blue'>Logistic Regression Classifier</font>"
   ]
  },
  {
   "cell_type": "code",
   "execution_count": 45,
   "id": "9b591c6f",
   "metadata": {},
   "outputs": [
    {
     "name": "stdout",
     "output_type": "stream",
     "text": [
      "\n",
      "Training LOGISTIC REGRESSION CLASSIFIER\n",
      "\n",
      "Models trained: 1\n"
     ]
    },
    {
     "name": "stderr",
     "output_type": "stream",
     "text": [
      "21/12/23 15:21:21 WARN BLAS: Failed to load implementation from: com.github.fommil.netlib.NativeSystemBLAS\n",
      "21/12/23 15:21:21 WARN BLAS: Failed to load implementation from: com.github.fommil.netlib.NativeRefBLAS\n"
     ]
    },
    {
     "name": "stdout",
     "output_type": "stream",
     "text": [
      "\n",
      "Training time......... 2.908 min\n"
     ]
    },
    {
     "name": "stderr",
     "output_type": "stream",
     "text": [
      "                                                                                \r"
     ]
    },
    {
     "name": "stdout",
     "output_type": "stream",
     "text": [
      "\n",
      "\n",
      "Confusion Matrix\n",
      "+-----+----------+-----+\n",
      "|label|prediction|count|\n",
      "+-----+----------+-----+\n",
      "|  1.0|       1.0|    9|\n",
      "|  0.0|       1.0|    4|\n",
      "|  1.0|       0.0|    4|\n",
      "|  0.0|       0.0|   42|\n",
      "+-----+----------+-----+\n",
      "\n",
      "\n",
      "accuracy............... 0.864\n",
      "precision.............. 0.692\n",
      "recall................. 0.692\n",
      "F1..................... 0.692\n",
      "auc_roc................ 0.851\n",
      "auc_pr................. 0.698\n",
      "\n",
      "The best hyperparameter values from the grid:\n",
      "regNetParam:.......... 0.01\n",
      "elasticNetParam:...... 0.5\n"
     ]
    }
   ],
   "source": [
    "print(\"\")\n",
    "print(f\"Training LOGISTIC REGRESSION CLASSIFIER\")\n",
    "print(\"\")\n",
    "\n",
    "predCol=\"prediction\"\n",
    "labelCol=\"label\"\n",
    "\n",
    "# build specific pipeline\n",
    "pipeline = logistic_regression_pipeline()\n",
    "\n",
    "# choose an evaluator\n",
    "evaluator = BinaryClassificationEvaluator()\n",
    "evaluator.setLabelCol(labelCol)\n",
    "\n",
    "# build the grid search pipeline\n",
    "lr = lr_grid_search(pipeline)\n",
    "\n",
    "# start timer\n",
    "start_time = time.time()\n",
    "\n",
    "# train the model\n",
    "model_lr = lr.fit(train_set)\n",
    "\n",
    "# stop timer\n",
    "end_time = time.time()\n",
    "\n",
    "# evaluate the trainining time in minutes \n",
    "train_time = (end_time - start_time)/60\n",
    "\n",
    "# print the training time\n",
    "print(\"\")\n",
    "print(\"Training time.........%6.3f min\" % train_time)\n",
    "\n",
    "# create the predictions dataset\n",
    "predictions_lr = model_lr.bestModel.transform(test_set)\n",
    "\n",
    "# calculate auc metrics\n",
    "roc_lr = evaluator.evaluate(predictions_lr, {evaluator.metricName: \"areaUnderROC\"})\n",
    "pr_lr = evaluator.evaluate(predictions_lr, {evaluator.metricName: \"areaUnderPR\"})\n",
    "\n",
    "# record the confusion matrix metrics\n",
    "acc_lr, prec_lr, rec_lr, f1_lr = conf_metrics(predictions_lr)\n",
    "\n",
    "# print all evaluation metrics\n",
    "print(\"\")\n",
    "display_metrics(predictions_lr, roc_lr, pr_lr)\n",
    "print(\"\")\n",
    "\n",
    "# print the best parameters from the grid\n",
    "best_model_lr = model_lr.bestModel.stages[-1]\n",
    "param_lr1 = best_model_lr.getRegParam()\n",
    "param_lr2 = best_model_lr.getElasticNetParam()\n",
    "print(\"The best hyperparameter values from the grid:\")\n",
    "print(\"regNetParam:..........\", param_lr1)\n",
    "print(\"elasticNetParam:......\", param_lr2)"
   ]
  },
  {
   "cell_type": "markdown",
   "id": "30f85bac",
   "metadata": {},
   "source": [
    "### <font color='blue'>Decision Trees Classifier</font>"
   ]
  },
  {
   "cell_type": "code",
   "execution_count": 46,
   "id": "78eb4d7a",
   "metadata": {},
   "outputs": [
    {
     "name": "stdout",
     "output_type": "stream",
     "text": [
      "\n",
      "Training DECISION TREES CLASSIFIER\n",
      "\n",
      "Models trained: 1\n",
      "\n",
      "Training time......... 0.389 min\n",
      "\n",
      "\n",
      "Confusion Matrix\n",
      "+-----+----------+-----+\n",
      "|label|prediction|count|\n",
      "+-----+----------+-----+\n",
      "|  1.0|       1.0|    6|\n",
      "|  0.0|       1.0|   12|\n",
      "|  1.0|       0.0|    7|\n",
      "|  0.0|       0.0|   34|\n",
      "+-----+----------+-----+\n",
      "\n",
      "\n",
      "accuracy............... 0.678\n",
      "precision.............. 0.333\n",
      "recall................. 0.462\n",
      "F1..................... 0.387\n",
      "auc_roc................ 0.622\n",
      "auc_pr................. 0.387\n",
      "\n",
      "The best hyperparameter values from the grid:\n",
      "maxDepth:.......... 25\n",
      "maxBins:........... 32\n"
     ]
    }
   ],
   "source": [
    "print(\"\")\n",
    "print(f\"Training DECISION TREES CLASSIFIER\")\n",
    "print(\"\")\n",
    "\n",
    "predCol=\"prediction\"\n",
    "labelCol=\"label\"\n",
    "\n",
    "# build specific pipeline\n",
    "pipeline = decision_tree_pipeline()\n",
    "\n",
    "# choose an evaluator\n",
    "evaluator = BinaryClassificationEvaluator()\n",
    "evaluator.setLabelCol(labelCol)\n",
    "\n",
    "# build the grid search pipeline\n",
    "dt = dt_grid_search(pipeline)\n",
    "\n",
    "# start timer\n",
    "start_time = time.time()\n",
    "\n",
    "# train the model\n",
    "model_dt = dt.fit(train_set)\n",
    "\n",
    "# stop timer\n",
    "end_time = time.time()\n",
    "\n",
    "# evaluate the trainining time in minutes \n",
    "train_time = (end_time - start_time)/60\n",
    "\n",
    "# print the training time\n",
    "print(\"\")\n",
    "print(\"Training time.........%6.3f min\" % train_time)\n",
    "\n",
    "# create the predictions dataset\n",
    "predictions_dt = model_dt.bestModel.transform(test_set)\n",
    "\n",
    "# calculate auc metrics\n",
    "roc_dt = evaluator.evaluate(predictions_dt, {evaluator.metricName: \"areaUnderROC\"})\n",
    "pr_dt = evaluator.evaluate(predictions_dt, {evaluator.metricName: \"areaUnderPR\"})\n",
    "\n",
    "# record the confusion matrix metrics\n",
    "acc_dt, prec_dt, rec_dt, f1_dt = conf_metrics(predictions_dt)\n",
    "\n",
    "# print all evaluation metrics\n",
    "print(\"\")\n",
    "display_metrics(predictions_dt, roc_dt, pr_dt)\n",
    "print(\"\")\n",
    "\n",
    "# print the best parameters from the grid\n",
    "best_model_dt = model_dt.bestModel.stages[-1]\n",
    "param_dt1 = best_model_dt.getMaxDepth()\n",
    "param_dt2 = best_model_dt.getMaxBins()\n",
    "print(\"The best hyperparameter values from the grid:\")\n",
    "print(\"maxDepth:..........\", param_dt1)\n",
    "print(\"maxBins:...........\", param_dt2)"
   ]
  },
  {
   "cell_type": "markdown",
   "id": "5d4c3700",
   "metadata": {},
   "source": [
    "### <font color='blue'>Random Forest Classifier</font>"
   ]
  },
  {
   "cell_type": "code",
   "execution_count": 47,
   "id": "1f94c2a6",
   "metadata": {},
   "outputs": [
    {
     "name": "stdout",
     "output_type": "stream",
     "text": [
      "\n",
      "Training RANDOM FOREST CLASSIFIER\n",
      "\n",
      "Models trained: 1\n"
     ]
    },
    {
     "name": "stderr",
     "output_type": "stream",
     "text": [
      "                                                                                \r"
     ]
    },
    {
     "name": "stdout",
     "output_type": "stream",
     "text": [
      "\n",
      "Training time......... 1.196 min\n",
      "\n"
     ]
    },
    {
     "name": "stderr",
     "output_type": "stream",
     "text": [
      "\r",
      "[Stage 5631:============================================>      (174 + 12) / 200]\r",
      "\r",
      "                                                                                \r"
     ]
    },
    {
     "name": "stdout",
     "output_type": "stream",
     "text": [
      "\n",
      "Confusion Matrix\n"
     ]
    },
    {
     "name": "stderr",
     "output_type": "stream",
     "text": [
      "\r",
      "[Stage 5666:===========================================>       (172 + 12) / 200]\r",
      "\r",
      "                                                                                \r"
     ]
    },
    {
     "name": "stdout",
     "output_type": "stream",
     "text": [
      "+-----+----------+-----+\n",
      "|label|prediction|count|\n",
      "+-----+----------+-----+\n",
      "|  1.0|       1.0|    5|\n",
      "|  1.0|       0.0|    8|\n",
      "|  0.0|       0.0|   46|\n",
      "+-----+----------+-----+\n",
      "\n",
      "\n",
      "accuracy............... 0.864\n",
      "precision.............. 1.000\n",
      "recall................. 0.385\n",
      "F1..................... 0.556\n",
      "auc_roc................ 0.746\n",
      "auc_pr................. 0.645\n",
      "\n",
      "The best hyperparameter values from the grid:\n",
      "maxDepth:.......... 15\n",
      "maxBins:........... 32\n",
      "numTrees:.......... 60\n"
     ]
    }
   ],
   "source": [
    "print(\"\")\n",
    "print(f\"Training RANDOM FOREST CLASSIFIER\")\n",
    "print(\"\")\n",
    "\n",
    "predCol=\"prediction\"\n",
    "labelCol=\"label\"\n",
    "\n",
    "# build specific pipeline\n",
    "pipeline = random_forest_pipeline()\n",
    "\n",
    "# choose an evaluator\n",
    "evaluator = BinaryClassificationEvaluator()\n",
    "evaluator.setLabelCol(labelCol)\n",
    "\n",
    "# build the grid search pipeline\n",
    "rf = rf_grid_search(pipeline)\n",
    "\n",
    "# start timer\n",
    "start_time = time.time()\n",
    "\n",
    "# train the model\n",
    "model_rf = rf.fit(train_set)\n",
    "\n",
    "# stop timer\n",
    "end_time = time.time()\n",
    "\n",
    "# evaluate the trainining time in minutes \n",
    "train_time = (end_time - start_time)/60\n",
    "\n",
    "# print the training time\n",
    "print(\"\")\n",
    "print(\"Training time.........%6.3f min\" % train_time)\n",
    "\n",
    "# create the predictions dataset\n",
    "predictions_rf = model_rf.bestModel.transform(test_set)\n",
    "\n",
    "# calculate auc metrics\n",
    "roc_rf = evaluator.evaluate(predictions_rf, {evaluator.metricName: \"areaUnderROC\"})\n",
    "pr_rf = evaluator.evaluate(predictions_rf, {evaluator.metricName: \"areaUnderPR\"})\n",
    "\n",
    "# record the confusion matrix metrics\n",
    "acc_rf, prec_rf, rec_rf, f1_rf = conf_metrics(predictions_rf)\n",
    "\n",
    "# print all evaluation metrics\n",
    "print(\"\")\n",
    "display_metrics(predictions_rf, roc_rf, pr_rf)\n",
    "print(\"\")\n",
    "\n",
    "best_param_rf = list(model_rf.getEstimatorParamMaps()[np.argmax(model_rf.avgMetrics)].values())\n",
    "print(\"The best hyperparameter values from the grid:\")\n",
    "print(\"maxDepth:..........\", best_param_rf[0])\n",
    "print(\"maxBins:...........\", best_param_rf[1])\n",
    "print(\"numTrees:..........\", best_param_rf[2])"
   ]
  },
  {
   "cell_type": "markdown",
   "id": "5c09ea7c",
   "metadata": {},
   "source": [
    "### <font color='blue'>Gradient Boosted Trees</font>"
   ]
  },
  {
   "cell_type": "code",
   "execution_count": 48,
   "id": "aea9598c",
   "metadata": {},
   "outputs": [
    {
     "name": "stdout",
     "output_type": "stream",
     "text": [
      "\n",
      "Training GRADIENT BOOSTED TREES\n",
      "\n",
      "Models trained: 1\n",
      "\n",
      "Training time......... 5.043 min\n",
      "\n",
      "\n",
      "Confusion Matrix\n",
      "+-----+----------+-----+\n",
      "|label|prediction|count|\n",
      "+-----+----------+-----+\n",
      "|  1.0|       1.0|    6|\n",
      "|  0.0|       1.0|   12|\n",
      "|  1.0|       0.0|    7|\n",
      "|  0.0|       0.0|   34|\n",
      "+-----+----------+-----+\n",
      "\n",
      "\n",
      "accuracy............... 0.678\n",
      "precision.............. 0.333\n",
      "recall................. 0.462\n",
      "F1..................... 0.387\n",
      "auc_roc................ 0.650\n",
      "auc_pr................. 0.288\n",
      "\n",
      "The best hyperparameter values from the grid:\n",
      "maxDepth:.......... 15\n",
      "maxIter:........... 20\n",
      "stepSize:.......... 0.1\n"
     ]
    }
   ],
   "source": [
    "print(\"\")\n",
    "print(f\"Training GRADIENT BOOSTED TREES\")\n",
    "print(\"\")\n",
    "\n",
    "predCol=\"prediction\"\n",
    "labelCol=\"label\"\n",
    "\n",
    "# build specific pipeline\n",
    "pipeline = gradient_boosted_pipeline()\n",
    "\n",
    "# choose an evaluator\n",
    "evaluator = BinaryClassificationEvaluator()\n",
    "evaluator.setLabelCol(labelCol)\n",
    "\n",
    "# build the grid search pipeline\n",
    "gbt = gbt_grid_search(pipeline)\n",
    "\n",
    "# start timer\n",
    "start_time = time.time()\n",
    "\n",
    "# train the model\n",
    "model_gbt = gbt.fit(train_set)\n",
    "\n",
    "# stop timer\n",
    "end_time = time.time()\n",
    "\n",
    "# evaluate the trainining time in minutes \n",
    "train_time = (end_time - start_time)/60\n",
    "\n",
    "# print the training time\n",
    "print(\"\")\n",
    "print(\"Training time.........%6.3f min\" % train_time)\n",
    "\n",
    "# create the predictions dataset\n",
    "predictions_gbt = model_gbt.bestModel.transform(test_set)\n",
    "\n",
    "# calculate auc metrics\n",
    "roc_gbt = evaluator.evaluate(predictions_gbt, {evaluator.metricName: \"areaUnderROC\"})\n",
    "pr_gbt = evaluator.evaluate(predictions_gbt, {evaluator.metricName: \"areaUnderPR\"})\n",
    "\n",
    "# record the confusion matrix metrics\n",
    "acc_gbt, prec_gbt, rec_gbt, f1_gbt = conf_metrics(predictions_gbt)\n",
    "\n",
    "# print all evaluation metrics\n",
    "print(\"\")\n",
    "display_metrics(predictions_gbt, roc_gbt, pr_gbt)\n",
    "print(\"\")\n",
    "\n",
    "# print the best parameters from the grid\n",
    "best_model_gbt = model_gbt.bestModel.stages[-1]\n",
    "param_gbt1 = best_model_gbt.getMaxDepth()\n",
    "param_gbt2 = best_model_gbt.getMaxIter()\n",
    "param_gbt3 = best_model_gbt.getStepSize()\n",
    "print(\"The best hyperparameter values from the grid:\")\n",
    "print(\"maxDepth:..........\", param_gbt1)\n",
    "print(\"maxIter:...........\", param_gbt2)\n",
    "print(\"stepSize:..........\", param_gbt3)"
   ]
  },
  {
   "cell_type": "markdown",
   "id": "9fc397ba",
   "metadata": {},
   "source": [
    "### <font color='blue'>Multilayer Perceptron Classifier</font>"
   ]
  },
  {
   "cell_type": "code",
   "execution_count": 49,
   "id": "a9c932fc",
   "metadata": {},
   "outputs": [
    {
     "name": "stdout",
     "output_type": "stream",
     "text": [
      "\n",
      "Training MULTILAYER PERCEPTRON CLASSIFIER\n",
      "\n",
      "Models trained: 1\n",
      "\n",
      "Training time......... 3.065 min\n",
      "\n",
      "\n",
      "Confusion Matrix\n",
      "+-----+----------+-----+\n",
      "|label|prediction|count|\n",
      "+-----+----------+-----+\n",
      "|  1.0|       1.0|    7|\n",
      "|  0.0|       1.0|   10|\n",
      "|  1.0|       0.0|    6|\n",
      "|  0.0|       0.0|   36|\n",
      "+-----+----------+-----+\n",
      "\n",
      "\n",
      "accuracy............... 0.729\n",
      "precision.............. 0.412\n",
      "recall................. 0.538\n",
      "F1..................... 0.467\n",
      "auc_roc................ 0.724\n",
      "auc_pr................. 0.411\n",
      "\n",
      "The best hyperparameter values from the grid:\n",
      "stepSize:.......... 0.02\n",
      "maxIter:........... 128\n",
      "blockSize:......... 128\n"
     ]
    }
   ],
   "source": [
    "print(\"\")\n",
    "print(f\"Training MULTILAYER PERCEPTRON CLASSIFIER\")\n",
    "print(\"\")\n",
    "\n",
    "predCol=\"prediction\"\n",
    "labelCol=\"label\"\n",
    "\n",
    "# build specific pipeline\n",
    "pipeline = multilayer_perceptron_pipeline()\n",
    "\n",
    "# choose an evaluator\n",
    "evaluator = BinaryClassificationEvaluator()\n",
    "evaluator.setLabelCol(labelCol)\n",
    "\n",
    "# build the grid search pipeline\n",
    "mlpc = mlpc_grid_search(pipeline)\n",
    "\n",
    "# start timer\n",
    "start_time = time.time()\n",
    "\n",
    "# train the model\n",
    "model_mlpc = mlpc.fit(train_set)\n",
    "\n",
    "# stop timer\n",
    "end_time = time.time()\n",
    "\n",
    "# evaluate the trainining time in minutes \n",
    "train_time = (end_time - start_time)/60\n",
    "\n",
    "# print the training time\n",
    "print(\"\")\n",
    "print(\"Training time.........%6.3f min\" % train_time)\n",
    "\n",
    "# create the predictions dataset\n",
    "predictions_mlpc = model_mlpc.bestModel.transform(test_set)\n",
    "\n",
    "# calculate auc metrics\n",
    "roc_mlpc = evaluator.evaluate(predictions_mlpc, {evaluator.metricName: \"areaUnderROC\"})\n",
    "pr_mlpc = evaluator.evaluate(predictions_mlpc, {evaluator.metricName: \"areaUnderPR\"})\n",
    "\n",
    "# record the confusion matrix metrics\n",
    "acc_mlpc, prec_mlpc, rec_mlpc, f1_mlpc = conf_metrics(predictions_mlpc)\n",
    "\n",
    "# print all evaluation metrics\n",
    "print(\"\")\n",
    "display_metrics(predictions_mlpc, roc_mlpc, pr_mlpc)\n",
    "print(\"\")\n",
    "\n",
    "# print the best parameters from the grid\n",
    "best_model_mlpc = model_mlpc.bestModel.stages[-1]\n",
    "param_mlpc1 = best_model_mlpc.getStepSize()\n",
    "param_mlpc2 = best_model_mlpc.getMaxIter()\n",
    "param_mlpc3 = best_model_mlpc.getBlockSize()\n",
    "print(\"The best hyperparameter values from the grid:\")\n",
    "print(\"stepSize:..........\", param_mlpc1)\n",
    "print(\"maxIter:...........\", param_mlpc2)\n",
    "print(\"blockSize:.........\", param_mlpc3)"
   ]
  },
  {
   "cell_type": "markdown",
   "id": "9c450777",
   "metadata": {},
   "source": []
  },
  {
   "cell_type": "markdown",
   "id": "389d5d37",
   "metadata": {},
   "source": [
    "## <font color='blue'>Discuss the Best Model</font>"
   ]
  },
  {
   "cell_type": "code",
   "execution_count": 53,
   "id": "27ebf49b",
   "metadata": {},
   "outputs": [
    {
     "data": {
      "text/html": [
       "<div>\n",
       "<style scoped>\n",
       "    .dataframe tbody tr th:only-of-type {\n",
       "        vertical-align: middle;\n",
       "    }\n",
       "\n",
       "    .dataframe tbody tr th {\n",
       "        vertical-align: top;\n",
       "    }\n",
       "\n",
       "    .dataframe thead th {\n",
       "        text-align: right;\n",
       "    }\n",
       "</style>\n",
       "<table border=\"1\" class=\"dataframe\">\n",
       "  <thead>\n",
       "    <tr style=\"text-align: right;\">\n",
       "      <th></th>\n",
       "      <th>LinReg</th>\n",
       "      <th>DecTrees</th>\n",
       "      <th>RandForest</th>\n",
       "      <th>GradBoost</th>\n",
       "      <th>MultiLPerceptron</th>\n",
       "    </tr>\n",
       "    <tr>\n",
       "      <th>list_metrics</th>\n",
       "      <th></th>\n",
       "      <th></th>\n",
       "      <th></th>\n",
       "      <th></th>\n",
       "      <th></th>\n",
       "    </tr>\n",
       "  </thead>\n",
       "  <tbody>\n",
       "    <tr>\n",
       "      <th>accuracy</th>\n",
       "      <td>0.864</td>\n",
       "      <td>0.678</td>\n",
       "      <td>0.864</td>\n",
       "      <td>0.678</td>\n",
       "      <td>0.729</td>\n",
       "    </tr>\n",
       "    <tr>\n",
       "      <th>precision</th>\n",
       "      <td>0.692</td>\n",
       "      <td>0.333</td>\n",
       "      <td>1.000</td>\n",
       "      <td>0.333</td>\n",
       "      <td>0.412</td>\n",
       "    </tr>\n",
       "    <tr>\n",
       "      <th>recall</th>\n",
       "      <td>0.692</td>\n",
       "      <td>0.462</td>\n",
       "      <td>0.385</td>\n",
       "      <td>0.462</td>\n",
       "      <td>0.538</td>\n",
       "    </tr>\n",
       "    <tr>\n",
       "      <th>f1_score</th>\n",
       "      <td>0.692</td>\n",
       "      <td>0.387</td>\n",
       "      <td>0.556</td>\n",
       "      <td>0.387</td>\n",
       "      <td>0.467</td>\n",
       "    </tr>\n",
       "    <tr>\n",
       "      <th>auc_roc</th>\n",
       "      <td>0.851</td>\n",
       "      <td>0.622</td>\n",
       "      <td>0.746</td>\n",
       "      <td>0.650</td>\n",
       "      <td>0.724</td>\n",
       "    </tr>\n",
       "    <tr>\n",
       "      <th>auc_pr</th>\n",
       "      <td>0.698</td>\n",
       "      <td>0.387</td>\n",
       "      <td>0.645</td>\n",
       "      <td>0.288</td>\n",
       "      <td>0.411</td>\n",
       "    </tr>\n",
       "  </tbody>\n",
       "</table>\n",
       "</div>"
      ],
      "text/plain": [
       "              LinReg  DecTrees  RandForest  GradBoost  MultiLPerceptron\n",
       "list_metrics                                                           \n",
       "accuracy       0.864     0.678       0.864      0.678             0.729\n",
       "precision      0.692     0.333       1.000      0.333             0.412\n",
       "recall         0.692     0.462       0.385      0.462             0.538\n",
       "f1_score       0.692     0.387       0.556      0.387             0.467\n",
       "auc_roc        0.851     0.622       0.746      0.650             0.724\n",
       "auc_pr         0.698     0.387       0.645      0.288             0.411"
      ]
     },
     "execution_count": 53,
     "metadata": {},
     "output_type": "execute_result"
    }
   ],
   "source": [
    "# create Pandas dataframe with metrics\n",
    "dict_metrics = {\"LinReg\": [acc_lr, prec_lr, rec_lr, f1_lr, roc_lr, pr_lr],\n",
    "                \"DecTrees\": [acc_dt, prec_dt, rec_dt, f1_dt, roc_dt, pr_dt], \n",
    "                \"RandForest\": [acc_rf, prec_rf, rec_rf, f1_rf, roc_rf, pr_rf],\n",
    "                \"GradBoost\": [acc_gbt, prec_gbt, rec_gbt, f1_gbt, roc_gbt, pr_gbt],\n",
    "                \"MultiLPerceptron\": [acc_mlpc, prec_mlpc, rec_mlpc, f1_mlpc, roc_mlpc, pr_mlpc],\n",
    "                \"list_metrics\" : [\"accuracy\", \"precision\", \"recall\", \"f1_score\", \"auc_roc\", \"auc_pr\"]\n",
    "               }\n",
    "df_mets = pd.DataFrame.from_dict(dict_metrics).set_index(\"list_metrics\")\n",
    "df_mets.round(3)"
   ]
  },
  {
   "cell_type": "code",
   "execution_count": 54,
   "id": "4f805cd4",
   "metadata": {},
   "outputs": [
    {
     "data": {
      "image/png": "[encoded data removed]",
      "text/plain": [
       "<Figure size 1152x288 with 1 Axes>"
      ]
     },
     "metadata": {},
     "output_type": "display_data"
    }
   ],
   "source": [
    "# adjust figure size and font size\n",
    "sns.set(rc = {\"figure.figsize\":(16,4)})\n",
    "\n",
    "sns.set(font_scale=1)\n",
    "ax = df_mets.plot.bar(y=[\"LinReg\", \"DecTrees\", \"RandForest\", \"GradBoost\", \"MultiLPerceptron\"], rot=0)\n",
    "\n",
    "# create title and labels\n",
    "plt.title(\"Confusion Matrix Metrics For Sparkify Small Dataset\")\n",
    "ax.set_xlabel(\"\");\n",
    "ax.set_ylabel(\"\");"
   ]
  }
 ],
 "metadata": {
  "kernelspec": {
   "display_name": "Python 3 (ipykernel)",
   "language": "python",
   "name": "python3"
  },
  "language_info": {
   "codemirror_mode": {
    "name": "ipython",
    "version": 3
   },
   "file_extension": ".py",
   "mimetype": "text/x-python",
   "name": "python",
   "nbconvert_exporter": "python",
   "pygments_lexer": "ipython3",
   "version": "3.9.7"
  },
  "toc": {
   "base_numbering": 1,
   "nav_menu": {},
   "number_sections": true,
   "sideBar": true,
   "skip_h1_title": true,
   "title_cell": "Table of Contents",
   "title_sidebar": "Contents",
   "toc_cell": false,
   "toc_position": {},
   "toc_section_display": true,
   "toc_window_display": false
  }
 },
 "nbformat": 4,
 "nbformat_minor": 5
}
