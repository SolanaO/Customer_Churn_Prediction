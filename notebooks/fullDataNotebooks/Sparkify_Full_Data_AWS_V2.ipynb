{
 "cells": [
  {
   "cell_type": "code",
   "execution_count": 1,
   "id": "23f84cc3",
   "metadata": {},
   "outputs": [
    {
     "data": {
      "text/html": [
       "Current session configs: <tt>{'conf': {'spark.pyspark.python': '/home/hadoop/path/to/venv/bin/python3'}, 'proxyUser': 'user_Solana', 'kind': 'pyspark'}</tt><br>"
      ],
      "text/plain": [
       "<IPython.core.display.HTML object>"
      ]
     },
     "metadata": {},
     "output_type": "display_data"
    },
    {
     "data": {
      "text/html": [
       "No active sessions."
      ],
      "text/plain": [
       "<IPython.core.display.HTML object>"
      ]
     },
     "metadata": {},
     "output_type": "display_data"
    }
   ],
   "source": [
    "%%configure -f\n",
    "{\"conf\": {\"spark.pyspark.python\":\"/home/hadoop/path/to/venv/bin/python3\"}}"
   ]
  },
  {
   "cell_type": "markdown",
   "id": "47acb5c0",
   "metadata": {},
   "source": [
    "# <font color='blue'>Churn Prediction Data Modeling</font>"
   ]
  },
  {
   "cell_type": "markdown",
   "id": "54677087",
   "metadata": {},
   "source": [
    "<div class=\"alert alert-block alert-info\">\n",
    "\n",
    "This notebook is dedicated to the following tasks:\n",
    "    <li>load and clean data</li>\n",
    "    <li>pre-process data and create new features</li>\n",
    "    <li>stratified split features dataset into train and test sets</li>\n",
    "    <li>spot check 6 classifiers with default parameters on the train set</li>\n",
    "    <li>tune hyperparameters for the best classifier</li>\n",
    "    <li>evaluate metrics and display all the results</li>\n",
    "</div>"
   ]
  },
  {
   "cell_type": "markdown",
   "id": "7f7b9a52",
   "metadata": {},
   "source": [
    "## <font color='blue'>Build the Workspace</font>"
   ]
  },
  {
   "cell_type": "code",
   "execution_count": 2,
   "id": "a790bac4",
   "metadata": {},
   "outputs": [
    {
     "data": {
      "application/vnd.jupyter.widget-view+json": {
       "model_id": "9fa34da8e1da4b85864622c15ec67ee3",
       "version_major": 2,
       "version_minor": 0
      },
      "text/plain": [
       "VBox()"
      ]
     },
     "metadata": {},
     "output_type": "display_data"
    },
    {
     "name": "stdout",
     "output_type": "stream",
     "text": [
      "Starting Spark application\n"
     ]
    },
    {
     "data": {
      "text/html": [
       "<table>\n",
       "<tr><th>ID</th><th>YARN Application ID</th><th>Kind</th><th>State</th><th>Spark UI</th><th>Driver log</th><th>Current session?</th></tr><tr><td>0</td><td>application_1644234991316_0001</td><td>pyspark</td><td>idle</td><td><a target=\"_blank\" href=\"http://ip-172-31-0-250.us-east-2.compute.internal:20888/proxy/application_1644234991316_0001/\" class=\"emr-proxy-link\" emr-resource=\"j-2XXZEOVXGPNC3\n",
       "\" application-id=\"application_1644234991316_0001\">Link</a></td><td><a target=\"_blank\" href=\"http://ip-172-31-10-41.us-east-2.compute.internal:8042/node/containerlogs/container_1644234991316_0001_01_000001/livy\" >Link</a></td><td>✔</td></tr></table>"
      ],
      "text/plain": [
       "<IPython.core.display.HTML object>"
      ]
     },
     "metadata": {},
     "output_type": "display_data"
    },
    {
     "data": {
      "application/vnd.jupyter.widget-view+json": {
       "model_id": "",
       "version_major": 2,
       "version_minor": 0
      },
      "text/plain": [
       "FloatProgress(value=0.0, bar_style='info', description='Progress:', layout=Layout(height='25px', width='50%'),…"
      ]
     },
     "metadata": {},
     "output_type": "display_data"
    },
    {
     "name": "stdout",
     "output_type": "stream",
     "text": [
      "SparkSession available as 'spark'.\n"
     ]
    },
    {
     "data": {
      "application/vnd.jupyter.widget-view+json": {
       "model_id": "",
       "version_major": 2,
       "version_minor": 0
      },
      "text/plain": [
       "FloatProgress(value=0.0, bar_style='info', description='Progress:', layout=Layout(height='25px', width='50%'),…"
      ]
     },
     "metadata": {},
     "output_type": "display_data"
    }
   ],
   "source": [
    "# import PySpark libraries and packages\n",
    "\n",
    "import pyspark\n",
    "from pyspark import SparkContext\n",
    "from pyspark import SparkConf\n",
    "\n",
    "from pyspark.sql import SparkSession\n",
    "from pyspark.sql.window import Window as W\n",
    "\n",
    "from pyspark.sql.types import (\n",
    "    StringType,\n",
    "    IntegerType, \n",
    "    DateType, \n",
    "    TimestampType,\n",
    "    )\n",
    "\n",
    "from pyspark.sql.functions import (\n",
    "    min as Fmin, max as Fmax, \n",
    "    sum as Fsum, round as Fround, \n",
    "    \n",
    "    col, lit, \n",
    "    first, last, \n",
    "    desc, asc,\n",
    "    avg, count, countDistinct, \n",
    "    when, isnull, isnan,\n",
    "    from_unixtime, \n",
    "    datediff,\n",
    "    )\n",
    "\n",
    "# libraries and packages for modeling\n",
    "\n",
    "from pyspark.ml import Pipeline\n",
    "\n",
    "from pyspark.ml.feature import (\n",
    "    StringIndexer, \n",
    "    OneHotEncoder, \n",
    "    VectorAssembler, \n",
    "    StandardScaler\n",
    ")\n",
    "from pyspark.ml.feature import (\n",
    "    OneHotEncoder, \n",
    "    OneHotEncoderModel\n",
    ")\n",
    "\n",
    "from pyspark.ml.classification import (\n",
    "    LogisticRegression,\n",
    "    DecisionTreeClassifier,\n",
    "    RandomForestClassifier,\n",
    "    GBTClassifier,\n",
    "    MultilayerPerceptronClassifier,\n",
    "    LinearSVC,\n",
    "    NaiveBayes\n",
    ")\n",
    "\n",
    "from pyspark.ml.evaluation import BinaryClassificationEvaluator\n",
    "from pyspark.ml.tuning import CrossValidator, ParamGridBuilder"
   ]
  },
  {
   "cell_type": "code",
   "execution_count": 3,
   "id": "01cabb26",
   "metadata": {},
   "outputs": [
    {
     "data": {
      "application/vnd.jupyter.widget-view+json": {
       "model_id": "60eb9e345c8447339d0eebcb4432dcf2",
       "version_major": 2,
       "version_minor": 0
      },
      "text/plain": [
       "VBox()"
      ]
     },
     "metadata": {},
     "output_type": "display_data"
    },
    {
     "data": {
      "application/vnd.jupyter.widget-view+json": {
       "model_id": "",
       "version_major": 2,
       "version_minor": 0
      },
      "text/plain": [
       "FloatProgress(value=0.0, bar_style='info', description='Progress:', layout=Layout(height='25px', width='50%'),…"
      ]
     },
     "metadata": {},
     "output_type": "display_data"
    }
   ],
   "source": [
    "# build a Spark session using the SparkSession APIs\n",
    "\n",
    "spark = (SparkSession\n",
    "        .builder\n",
    "        .appName(\"Sparkify\")\n",
    "        .getOrCreate())\n",
    "\n",
    "#spark.sparkContext.setLogLevel(\"ERROR\")"
   ]
  },
  {
   "cell_type": "code",
   "execution_count": 4,
   "id": "21f320c0",
   "metadata": {},
   "outputs": [
    {
     "data": {
      "application/vnd.jupyter.widget-view+json": {
       "model_id": "c12c2f3500354a69aeed5346f1d81192",
       "version_major": 2,
       "version_minor": 0
      },
      "text/plain": [
       "VBox()"
      ]
     },
     "metadata": {},
     "output_type": "display_data"
    },
    {
     "data": {
      "application/vnd.jupyter.widget-view+json": {
       "model_id": "",
       "version_major": 2,
       "version_minor": 0
      },
      "text/plain": [
       "FloatProgress(value=0.0, bar_style='info', description='Progress:', layout=Layout(height='25px', width='50%'),…"
      ]
     },
     "metadata": {},
     "output_type": "display_data"
    },
    {
     "name": "stdout",
     "output_type": "stream",
     "text": [
      "Available AWS-EMR Memory: 2048M"
     ]
    }
   ],
   "source": [
    "# check the available memory in the cluster, uncomment on AWS\n",
    "print('Available AWS-EMR Memory: {}'.format(spark.sparkContext\n",
    "                                    .getConf().get('spark.driver.memory')))"
   ]
  },
  {
   "cell_type": "code",
   "execution_count": 5,
   "id": "96881f54",
   "metadata": {},
   "outputs": [
    {
     "data": {
      "application/vnd.jupyter.widget-view+json": {
       "model_id": "0f08d68322fb47f7876f831ed69e2fab",
       "version_major": 2,
       "version_minor": 0
      },
      "text/plain": [
       "VBox()"
      ]
     },
     "metadata": {},
     "output_type": "display_data"
    },
    {
     "data": {
      "application/vnd.jupyter.widget-view+json": {
       "model_id": "",
       "version_major": 2,
       "version_minor": 0
      },
      "text/plain": [
       "FloatProgress(value=0.0, bar_style='info', description='Progress:', layout=Layout(height='25px', width='50%'),…"
      ]
     },
     "metadata": {},
     "output_type": "display_data"
    }
   ],
   "source": [
    "# import python libraries\n",
    "\n",
    "import time\n",
    "import numpy as np\n",
    "import pandas as pd\n",
    "import matplotlib.pyplot as plt\n",
    "\n",
    "# import sklearn metrics related packages\n",
    "\n",
    "from sklearn.metrics import classification_report, confusion_matrix, ConfusionMatrixDisplay\n",
    "from sklearn.metrics import precision_recall_curve\n",
    "from sklearn.metrics import f1_score\n",
    "from sklearn.metrics import auc, roc_curve, roc_auc_score\n",
    "\n",
    "# import library for enhanced plotting\n",
    "\n",
    "import seaborn as sns\n",
    "sns.set_style(\"darkgrid\")\n",
    "colors = sns.color_palette('PuBuGn_r')"
   ]
  },
  {
   "cell_type": "markdown",
   "id": "e8769f26",
   "metadata": {},
   "source": [
    "## <font color='blue'>Load, Preprocess, Process and Split Dataset Functions</font>"
   ]
  },
  {
   "cell_type": "code",
   "execution_count": 6,
   "id": "a58589a3",
   "metadata": {},
   "outputs": [
    {
     "data": {
      "application/vnd.jupyter.widget-view+json": {
       "model_id": "beddf2dc3a3b4c00a81e9ad254e7aca1",
       "version_major": 2,
       "version_minor": 0
      },
      "text/plain": [
       "VBox()"
      ]
     },
     "metadata": {},
     "output_type": "display_data"
    },
    {
     "data": {
      "application/vnd.jupyter.widget-view+json": {
       "model_id": "",
       "version_major": 2,
       "version_minor": 0
      },
      "text/plain": [
       "FloatProgress(value=0.0, bar_style='info', description='Progress:', layout=Layout(height='25px', width='50%'),…"
      ]
     },
     "metadata": {},
     "output_type": "display_data"
    }
   ],
   "source": [
    "def load_data(file_path):\n",
    "    \"\"\"\n",
    "    Loads the raw dataset in Spark.\n",
    "    \n",
    "    INPUT:\n",
    "            (str) - path for datafile\n",
    "    OUTPUT:\n",
    "            (PySpark dataframe) - dataframe of raw dat\n",
    "    \n",
    "    \"\"\"\n",
    "    \n",
    "    print(\"Loading the dataset ...\")\n",
    "    df = spark.read.json(file_path)\n",
    "    print(\"Dataset is loaded...\")\n",
    "    \n",
    "    return df\n",
    "\n",
    "\n",
    "def save_data(df, data_path):\n",
    "    \"\"\"\n",
    "    Saves the PySpark dataframe to a file.\n",
    "    \n",
    "    INPUT:\n",
    "            df (PySpark dataframe) - data to be saved\n",
    "            data_path (str) - path for datafile\n",
    "    OUTPUT:\n",
    "            none\n",
    "    \n",
    "    \"\"\"\n",
    "    \n",
    "    df.write.json(data_path)\n",
    "    \n",
    "    \n",
    "def clean_data(df):\n",
    "    \"\"\"\n",
    "    Performs basic cleaning operations on the raw data:\n",
    "        - removes entries with missing userId\n",
    "        - rescale timestamp columns to seconds\n",
    "        - drop unnecesary columns\n",
    "            - personal information columns\n",
    "            - song information columns\n",
    "            - web and browser information\n",
    "            - timestamp columns in miliseconds\n",
    "\n",
    "    INPUT:\n",
    "        (PySpark dataframe) - dataframe of raw data\n",
    "    OUTPUT:\n",
    "        (PySpark dataframe) - dataframe of cleaned data\n",
    "    \"\"\"\n",
    "\n",
    "    # print message to indicate the start of the process\n",
    "    print(\"Cleaning the data ...\")\n",
    "\n",
    "    # print a count of rows before cleaning\n",
    "    initial_records = df.count()\n",
    "    print(\"Dataset has {} rows initially.\".format(initial_records))\n",
    "\n",
    "    # filter out all the records without userId\n",
    "    df = df.where(df.userId != \"\")\n",
    "\n",
    "    # rescale the timestamp to seconds (initially in miliseconds)\n",
    "    df = df.withColumn(\"log_ts\", df.ts/1000.0)\n",
    "    df = df.withColumn(\"reg_ts\", df.registration/1000.0)\n",
    "\n",
    "    # drop several unnecessary columns\n",
    "    cols_to_drop = (\"firstName\", \"lastName\", \"location\",\n",
    "                    \"artist\", \"song\", \"length\",\n",
    "                    \"userAgent\", \"method\", \"status\",\n",
    "                    \"ts\", \"registration\"\n",
    "                   )\n",
    "    df = df.drop(*cols_to_drop)\n",
    "\n",
    "\n",
    "    # print end of process message\n",
    "    print(\"Finished cleaning the data ...\")\n",
    "\n",
    "    # print a count of rows after cleaning\n",
    "    removed_rows = initial_records - df.count()\n",
    "\n",
    "    print(\"Cleaned dataset has {} rows, {} rows were removed\". \\\n",
    "        format(df.count(), initial_records - df.count()))\n",
    "\n",
    "    return df\n",
    "\n",
    "def preprocess_data(df):\n",
    "\n",
    "    \"\"\"\n",
    "    Prepare the data for modeling via creating several features.\n",
    "\n",
    "        - reg_date (date) - month-year of the registration\n",
    "\n",
    "        - create windows grouped on userId and sessionId\n",
    "\n",
    "         - firstevent_ts (timestamp) - first time an user is active\n",
    "         - lastevent_ts (timestamp) - last time an user is active\n",
    "\n",
    "         - init_days_interv (float) - days between registration and first activity\n",
    "         - tenure_days_interv (float) - days between registration and last activity\n",
    "         - active_days (float) - days the user has some activity on the platform\n",
    "         - session_h (float) - session's duration in hours\n",
    "\n",
    "     INPUT:\n",
    "         df (PySpark dataframe) - cleaned dataframe\n",
    "     OUTPUT:\n",
    "         df (PySpark dataframe) - dataframe with the listed features added\n",
    "    \"\"\"\n",
    "\n",
    "    # extract registration month and year from timestamp\n",
    "    df = df.withColumn(\"reg_date\", from_unixtime(col(\"reg_ts\"), \"MM-yyyy\"))\n",
    "\n",
    "    # create window: data grouped by userId, time ordered\n",
    "    win_user = (W.partitionBy(\"userId\")\n",
    "            .orderBy(\"log_ts\")\n",
    "            .rangeBetween(W.unboundedPreceding, W.unboundedFollowing))\n",
    "\n",
    "    # create window: data grouped by sessionId and userId, time ordered\n",
    "    win_user_session = (W.partitionBy(\"sessionId\", \"userId\")\n",
    "                        .orderBy(\"log_ts\")\n",
    "                        .rangeBetween(W.unboundedPreceding, W.unboundedFollowing))\n",
    "\n",
    "    # record the first time an user is active\n",
    "    df = df.withColumn(\"firstevent_ts\", first(col(\"log_ts\")).over(win_user))\n",
    "    # record the last time an user is active\n",
    "    df = df.withColumn(\"lastevent_ts\", last(col(\"log_ts\")).over(win_user))\n",
    "\n",
    "    # warmup time = registration time to first event in days\n",
    "    df = df.withColumn(\"init_days_interv\",\n",
    "                       (col(\"firstevent_ts\").cast(\"long\")-col(\"reg_ts\").cast(\"long\"))/(24*3600))\n",
    "\n",
    "    # tenure time = registration time to last event in days\n",
    "    df = df.withColumn(\"tenure_days_interv\",\n",
    "                       (col(\"lastevent_ts\").cast(\"long\")-col(\"reg_ts\").cast(\"long\"))/(24*3600))\n",
    "\n",
    "    # active time =  days between the first event and the last event in days\n",
    "    df = df.withColumn(\"active_days\",\n",
    "                       (col(\"lastevent_ts\").cast(\"long\")-col(\"firstevent_ts\").cast(\"long\"))/(24*3600))\n",
    "\n",
    "    # create column that records the individual session's duration in hours\n",
    "    df = df.withColumn(\"session_h\",\n",
    "                    (last(df.log_ts).over(win_user_session) \\\n",
    "                     - first(df.log_ts).over(win_user_session))/3600)\n",
    "\n",
    "    # drop columns\n",
    "    df = df.drop(\"reg_ts\", \"log_ts\")\n",
    "\n",
    "    return df\n",
    "\n",
    "\n",
    "def build_features(df):\n",
    "\n",
    "    \"\"\"\n",
    "    Features engineered to be used in modelling.\n",
    "\n",
    "        - nr_songs (int) - total number of songs user listened to\n",
    "        - nr_playlist (int) - number of songs added to the playlist\n",
    "\n",
    "        - nr_friends (int) - number of friends added through \"Add Friend\"\n",
    "\n",
    "        - nr_likes (int) - total number of \"Thumbs Up\" of the user\n",
    "        - nr_dislikes (int) - total number of \"Thumbs Down\" of the user\n",
    "\n",
    "        - nr_downgrades (int) - total number of visits to \"Downgrade\" page by the user\n",
    "        - nr_upgrades (int) - total number of visits to \"Upgrade\" page by the user\n",
    "\n",
    "        - nr_home (int) - total number of visits to \"Home\" page by the user\n",
    "        - nr_settings (int) - total number of visits to \"Settings\" page by the user\n",
    "\n",
    "        - nr_error (int) - total number of errors encountered by the user\n",
    "\n",
    "        - nr_ads (int) - total number of ads the user got\n",
    "        - nr_sessions (int) - number of sessions of the user\n",
    "        - n_acts (int) - total number of actions taken by the user\n",
    "\n",
    "        - avg_sess_h (float) - average session length in hours\n",
    "        - acts_per_session (float) - average number of actions per session for the user\n",
    "        - songs_per_session (float) - average numer of songs listened per session by the user\n",
    "        - ads_per_session (float) - average number of ads per session, received by user\n",
    "\n",
    "        - init_days_interv (int) - time interval in days from registration to the first action of the user\n",
    "        - tenure_days_interv (int) - time interval in days from registration to the last action of the user\n",
    "        - active_days (int) - number of days the user was active on the platform\n",
    "\n",
    "        - gender (binary) - 1 for F (female), 0 for M (male)\n",
    "        - level (binary) - 1 for paid, 0 for free\n",
    "\n",
    "        - churn (binary) - 1 for \"Cancellation Confirmation\" page visit, 0 otherwise\n",
    "\n",
    "    INPUT:\n",
    "        df (PySpark dataframe) - preprocessed dataframe\n",
    "    OUTPUT:\n",
    "        df_feats (PySpark dataframe) - dataframe that contains engineered features\n",
    "    \"\"\"\n",
    "\n",
    "    df_feats = df.groupBy(\"userId\") \\\n",
    "        .agg(\n",
    "\n",
    "            # count user's individual actions using all page visits\n",
    "\n",
    "            count(when(col(\"page\") == \"NextSong\", True)).alias(\"nr_songs\"),\n",
    "            count(when(col(\"page\") == \"Add to Playlist\", True)).alias(\"nr_playlist\"),\n",
    "\n",
    "            count(when(col(\"page\") == \"Add Friend\", True)).alias(\"nr_friends\"),\n",
    "\n",
    "            count(when(col(\"page\") == \"Thumbs Up\", True)).alias(\"nr_likes\"),\n",
    "            count(when(col(\"page\") == \"Thumbs Down\", True)).alias(\"nr_dislikes\"),\n",
    "\n",
    "            count(when(col(\"page\") == \"Downgrade\", True)).alias(\"nr_downgrades\"),\n",
    "            count(when(col(\"page\") == \"Upgrade\", True)).alias(\"nr_upgrades\"),\n",
    "\n",
    "            count(when(col(\"page\") == \"Home\", True)).alias(\"nr_home\"),\n",
    "            count(when(col(\"page\") == \"Settings\", True)).alias(\"nr_settings\"),\n",
    "\n",
    "            count(when(col(\"page\") == \"Error\", True)).alias(\"nr_error\"),\n",
    "\n",
    "            count(when(col(\"page\") == \"Roll Advert\", True)).alias(\"nr_ads\"),\n",
    "\n",
    "            # compute the number of sessions a user is in\n",
    "            countDistinct(\"sessionId\").alias(\"nr_sessions\"),\n",
    "\n",
    "            # find the total number of actions a user took\n",
    "            countDistinct(\"itemInSession\").alias(\"n_acts\"),\n",
    "\n",
    "            # compute the average session length in hours\n",
    "            avg(col(\"session_h\")).alias(\"avg_sess_h\"),\n",
    "\n",
    "            # compute the average number of page actions per sesssion - i.e. items in session\n",
    "            (countDistinct(\"itemInSession\")/countDistinct(\"sessionId\")).alias(\"acts_per_session\"),\n",
    "\n",
    "            # compute the average number of songs per session\n",
    "            (count(when(col(\"page\") == \"NextSong\",\n",
    "                        True))/countDistinct(\"sessionId\")).alias(\"songs_per_session\"),\n",
    "\n",
    "            # compute the average number of ads per session\n",
    "             (count(when(col(\"page\") == \"Roll Advert\",\n",
    "                         True))/countDistinct(\"sessionId\")).alias(\"ads_per_session\"),\n",
    "\n",
    "            # days between registration and first activity\n",
    "            first(col(\"init_days_interv\")).alias(\"init_days_interv\"),\n",
    "            # the tenure time on the platform: from registration to last event in days\n",
    "            first(col(\"tenure_days_interv\")).alias(\"tenure_days_interv\"),\n",
    "            # number of days user visited the platform, is active on the platform\n",
    "            first(col(\"active_days\")).alias(\"active_days\"),\n",
    "\n",
    "            # encode the gender 1 for F and 0 for M\n",
    "            first(when(col(\"gender\") == \"F\", 1).otherwise(0)).alias(\"gender\"),\n",
    "\n",
    "            # encode the level (paid/free) according to the last record\n",
    "            last(when(col(\"level\") == \"paid\", 1).otherwise(0)).alias(\"level\"),\n",
    "\n",
    "            # flag those users that downgraded\n",
    "            #last(when(col(\"page\") == \"Downgrade\", 1).otherwise(0)).alias(\"downgrade\"),\n",
    "\n",
    "            # create the churn column that records if the user cancelled\n",
    "            last(when(col(\"page\") == \"Cancellation Confirmation\", 1).otherwise(0)).alias(\"churn\"),\n",
    "            )\n",
    "\n",
    "    # columns to drop\n",
    "    drop_cols = (\"userId\", \"gender\", \"avg_sess_h\",\n",
    "                 \"nr_playlist\", \"nr_home\")\n",
    "    # drop the columns\n",
    "    df_feats = df_feats.drop(*drop_cols)\n",
    "\n",
    "    # drop the null values\n",
    "    df_feats=df_feats.na.drop()\n",
    "\n",
    "    return df_feats\n",
    "\n",
    "\n",
    "SPLIT_VALS = [.7, .3]\n",
    "\n",
    "# split the data into train and test sets\n",
    "\n",
    "def split_data (df):\n",
    "\n",
    "    \"\"\"\n",
    "    Split the dataset into training set and test set.\n",
    "    Use a stratified sampling method.\n",
    "\n",
    "    INPUT:\n",
    "        df (PySpark dataframe) - dataframe\n",
    "    OUTPUT:\n",
    "        train_set, test_set (PySpark dataframes) - percentage split based on the provided values\n",
    "    \"\"\"\n",
    "\n",
    "    # split dataframes between 0s and 1s\n",
    "    zeros = df.filter(df[\"churn\"]==0)\n",
    "    ones = df.filter(df[\"churn\"]==1)\n",
    "\n",
    "    # split dataframes into training and testing\n",
    "    train0, test0 = zeros.randomSplit(SPLIT_VALS, seed=1234)\n",
    "    train1, test1 = ones.randomSplit(SPLIT_VALS, seed=1234)\n",
    "\n",
    "    # stack datasets back together\n",
    "    train_set = train0.union(train1)\n",
    "    test_set = test0.union(test1)\n",
    "\n",
    "    return train_set, test_set"
   ]
  },
  {
   "cell_type": "markdown",
   "id": "9f48af1d",
   "metadata": {},
   "source": [
    "## <font color='blue'>Metrics Evaluators Functions</font>"
   ]
  },
  {
   "cell_type": "code",
   "execution_count": 7,
   "id": "ac33df5f",
   "metadata": {},
   "outputs": [
    {
     "data": {
      "application/vnd.jupyter.widget-view+json": {
       "model_id": "1c9578d91cd84c6ba4f6fd8d8a47f995",
       "version_major": 2,
       "version_minor": 0
      },
      "text/plain": [
       "VBox()"
      ]
     },
     "metadata": {},
     "output_type": "display_data"
    },
    {
     "data": {
      "application/vnd.jupyter.widget-view+json": {
       "model_id": "",
       "version_major": 2,
       "version_minor": 0
      },
      "text/plain": [
       "FloatProgress(value=0.0, bar_style='info', description='Progress:', layout=Layout(height='25px', width='50%'),…"
      ]
     },
     "metadata": {},
     "output_type": "display_data"
    }
   ],
   "source": [
    "# function to compute relevant metrics for binary classification\n",
    "def conf_metrics(dataset):\n",
    "    \n",
    "    \"\"\"\n",
    "        Calculates the metrics associated to the confusion matrix.\n",
    "\n",
    "        INPUT:\n",
    "            dataset (pyspark.sql.DataFrame) - a dataset that contains\n",
    "                                labels and predictions\n",
    "        OUTPUT:\n",
    "            accuracy (float) - metric\n",
    "            precision (float) - metric\n",
    "            recall (float) - metric\n",
    "            F1 (float) - metric\n",
    "    \"\"\"\n",
    "   \n",
    "\n",
    "    # calculate the elements of the confusion matrix\n",
    "    tn = dataset.where((dataset[labelCol]==0) & (dataset[predCol]==0)).count()\n",
    "    tp = dataset.where((dataset[labelCol]==1) & (dataset[predCol]==1)).count()                   \n",
    "    fn = dataset.where((dataset[labelCol]==1) & (dataset[predCol]==0)).count()                   \n",
    "    fp = dataset.where((dataset[labelCol]==0) & (dataset[predCol]==1)).count()\n",
    "    \n",
    "    # calculate accuracy, precision, recall, and F1-score\n",
    "    accuracy = (tn + tp) / (tn + tp + fn + fp)\n",
    "    precision = tp / (tp + fp)\n",
    "    recall = tp / (tp + fn)\n",
    "    f1 =  2 * (precision*recall) / (precision + recall)\n",
    "    \n",
    "    return accuracy, precision, recall, f1\n",
    "\n",
    "# function to display the metrics of interest\n",
    "def display_metrics(dataset, roc_cl, pr_cl):\n",
    "    \n",
    "    \"\"\"\n",
    "    Prints evaluation metrics for the model. \n",
    "    \n",
    "    INPUT:\n",
    "         dataset (pyspark.sql.DataFrame) - a dataset that contains\n",
    "                                labels and predictions\n",
    "        roc_cl, pr_cl (float) - ROC and PR scores for the evaluate classifier cl\n",
    "    OUTPUT:\n",
    "        none - table of metrics are displayed\n",
    "    \n",
    "    \"\"\"\n",
    "    \n",
    "    accuracy = conf_metrics(dataset)[0]\n",
    "    precision = conf_metrics(dataset)[1]\n",
    "    recall = conf_metrics(dataset)[2]\n",
    "    f1 = conf_metrics(dataset)[3]\n",
    "    \n",
    "    print(\"\")\n",
    "    print(\"Confusion Matrix\")\n",
    "    dataset.groupBy(dataset[labelCol], dataset[predCol]).count().show()\n",
    "    print(\"\")\n",
    "    print(\"accuracy...............%6.3f\" % accuracy)\n",
    "    print(\"precision..............%6.3f\" % precision)\n",
    "    print(\"recall.................%6.3f\" % recall)\n",
    "    print(\"F1.....................%6.3f\" % f1)\n",
    "    print(\"auc_roc................%6.3f\" % roc_cl)\n",
    "    print(\"auc_pr.................%6.3f\" % pr_cl)\n",
    "\n",
    "# function to plot the roc and pr curves side by side (uses Pandas)\n",
    "def plot_roc_pr_curves(predictions, model_name):\n",
    "    \n",
    "    \"\"\"\n",
    "    Calculates ROC-AUC and PR-AUC scores and plots the ROC and PR curves.\n",
    "    \n",
    "    INPUT:\n",
    "        predictions (PySpark dataframe) - contains probability predictions, label column\n",
    "        model_name (str) - classifier name\n",
    "        \n",
    "    OUTPUT:\n",
    "        none - two plots are displayed\n",
    "        \n",
    "    \"\"\"\n",
    "    \n",
    "    # transform predictions PySpark dataframe into Pandas dataframe\n",
    "    pred_pandas = predictions.select(predictions.label, predictions.probability).toPandas()\n",
    "    \n",
    "    # calculate roc_auc score\n",
    "    roc_auc = roc_auc_score(pred_pandas.label, pred_pandas.probability.str[1])\n",
    "    # generate a no skill prediction (majority class)\n",
    "    ns_probs = [0 for _ in range(len(pred_pandas.label))]\n",
    "    # calculate roc curves\n",
    "    fpr, tpr, _ = roc_curve(pred_pandas.label, pred_pandas.probability.str[1])\n",
    "    ns_fpr, ns_tpr, _ = roc_curve(pred_pandas.label, ns_probs)\n",
    "    \n",
    "    # calculate precision, recall for each threshold\n",
    "    precision, recall, _ = precision_recall_curve(pred_pandas.label, pred_pandas.probability.str[1])\n",
    "    # calculate pr auc score\n",
    "    pr_auc = auc(recall, precision)\n",
    "    \n",
    "    # create figure which contains two subplots\n",
    "    plt.figure(figsize=[12,6])\n",
    "    \n",
    "    plt.subplot(121)\n",
    "    \n",
    "    # plot the roc curve for the model\n",
    "    plt.plot(ns_fpr, ns_tpr, linestyle='--', label='No Skill')\n",
    "    plt.plot(fpr, tpr, marker='.', color=\"firebrick\", label='ROC AUC = %.3f' % (roc_auc))\n",
    "    \n",
    "    # axis labels\n",
    "    plt.xlabel('False Positive Rate')\n",
    "    plt.ylabel('True Positive Rate')\n",
    "    # show the legend\n",
    "    plt.legend()\n",
    "    # figure title\n",
    "    plt.title(\"ROC Curve:\" + model_name)\n",
    "    \n",
    "    plt.subplot(122)\n",
    "    \n",
    "    # plot the precision-recall curves\n",
    "    \n",
    "    ns_line = len(pred_pandas[pred_pandas.label==1]) / len(pred_pandas.label)\n",
    "    plt.plot([0, 1], [ns_line, ns_line], linestyle='--', label='No Skill')\n",
    "    plt.plot(recall, precision, marker='.', color=\"firebrick\", label='PR AUC = %.3f' % (pr_auc))\n",
    "    \n",
    "    # axis labels\n",
    "    plt.xlabel('Recall')\n",
    "    plt.ylabel('Precision')\n",
    "    # show the legend\n",
    "    plt.legend()\n",
    "    # figure title\n",
    "    plt.title(\"Precision-Recall Curve:\" + model_name)\n",
    "    "
   ]
  },
  {
   "cell_type": "markdown",
   "id": "41d1f335",
   "metadata": {},
   "source": [
    "## <font color='blue'>Build Pipelines</font>"
   ]
  },
  {
   "cell_type": "code",
   "execution_count": 8,
   "id": "a60220a3",
   "metadata": {},
   "outputs": [
    {
     "data": {
      "application/vnd.jupyter.widget-view+json": {
       "model_id": "851ffe77bf49435eaad7c45d664d1ebd",
       "version_major": 2,
       "version_minor": 0
      },
      "text/plain": [
       "VBox()"
      ]
     },
     "metadata": {},
     "output_type": "display_data"
    },
    {
     "data": {
      "application/vnd.jupyter.widget-view+json": {
       "model_id": "",
       "version_major": 2,
       "version_minor": 0
      },
      "text/plain": [
       "FloatProgress(value=0.0, bar_style='info', description='Progress:', layout=Layout(height='25px', width='50%'),…"
      ]
     },
     "metadata": {},
     "output_type": "display_data"
    }
   ],
   "source": [
    "# split the features and the label\n",
    "CAT_FEATURES = [\"level\"]\n",
    "CONT_FEATURES = [\"nr_songs\", \"nr_likes\", \"nr_dislikes\", \"nr_friends\", \"nr_downgrades\",\n",
    "                \"nr_upgrades\", \"nr_error\", \"nr_settings\", \"nr_ads\", \"nr_sessions\",\n",
    "                \"n_acts\", \"acts_per_session\", \"songs_per_session\", \"ads_per_session\",\n",
    "                \"init_days_interv\", \"tenure_days_interv\", \"active_days\"]\n",
    "CHURN_LABEL = \"churn\"\n",
    "\n",
    "# create labels and features\n",
    "predCol=\"prediction\"\n",
    "labelCol=\"label\"\n",
    "featuresCol = \"features\"\n",
    "\n",
    "def build_full_pipeline(classifier):\n",
    "    \"\"\"\n",
    "    Combines all the stages of the processing and the classifier.\n",
    "    \"\"\"\n",
    "    # stages in the pipeline\n",
    "    stages = [] \n",
    "    \n",
    "    # encode the labels\n",
    "    label_indexer =  StringIndexer(inputCol=CHURN_LABEL, outputCol=\"label\")\n",
    "    stages += [label_indexer]\n",
    "    \n",
    "    # encode the binary features\n",
    "    bin_assembler = VectorAssembler(inputCols=CAT_FEATURES, outputCol=\"bin_features\")\n",
    "    stages += [bin_assembler]\n",
    "    \n",
    "    # encode the continuous features\n",
    "    cont_assembler = VectorAssembler(inputCols = CONT_FEATURES, outputCol=\"cont_features\")\n",
    "    stages += [cont_assembler]\n",
    "    # normalize the continuous features\n",
    "    cont_scaler = StandardScaler(inputCol=\"cont_features\", outputCol=\"cont_scaler\", \n",
    "                                 withStd=True , withMean=True)\n",
    "    stages += [cont_scaler]\n",
    "    \n",
    "    # pass all to the vector assembler to create a single sparse vector\n",
    "    all_assembler = VectorAssembler(inputCols=[\"bin_features\", \"cont_scaler\"],  \n",
    "                            outputCol=\"features\")\n",
    "    stages += [all_assembler]\n",
    "    \n",
    "    # add the model to the pipeline\n",
    "    stages += [classifier]\n",
    "    \n",
    "    # create a pipeline\n",
    "    pipeline = Pipeline(stages=stages)\n",
    "    \n",
    "    return pipeline\n",
    "\n",
    "# implement K-fold cross validation and grid search \n",
    "def grid_search_model(pipeline, paramGrid):\n",
    "    \"\"\"\n",
    "    Creates a cross validation object and performs grid search\n",
    "    over a set of parameters.\n",
    "    \n",
    "    INPUT:\n",
    "        param = grid of parameters\n",
    "        pipeline = model pipeline \n",
    "    \n",
    "    OUTPUT:\n",
    "        cv = cross validation object\n",
    "    \"\"\"\n",
    "    \n",
    "    # choose an evaluator\n",
    "    evaluator = BinaryClassificationEvaluator()\n",
    "    evaluator.setLabelCol(labelCol)\n",
    "    \n",
    "    # create the cross-validation object\n",
    "    cv = CrossValidator(estimator=pipeline,\n",
    "                    estimatorParamMaps=paramGrid,\n",
    "                    evaluator=evaluator,\n",
    "                    numFolds=5,\n",
    "                    parallelism=2)\n",
    "    return cv"
   ]
  },
  {
   "cell_type": "markdown",
   "id": "d6f370f0",
   "metadata": {},
   "source": [
    "## <font color='blue'>Load and Clean Data, Create Feature Dataset and Split Data</font>"
   ]
  },
  {
   "cell_type": "code",
   "execution_count": 9,
   "id": "7f417004",
   "metadata": {},
   "outputs": [
    {
     "data": {
      "application/vnd.jupyter.widget-view+json": {
       "model_id": "bd426abba66b4241b8b33dbd72182e52",
       "version_major": 2,
       "version_minor": 0
      },
      "text/plain": [
       "VBox()"
      ]
     },
     "metadata": {},
     "output_type": "display_data"
    },
    {
     "data": {
      "application/vnd.jupyter.widget-view+json": {
       "model_id": "",
       "version_major": 2,
       "version_minor": 0
      },
      "text/plain": [
       "FloatProgress(value=0.0, bar_style='info', description='Progress:', layout=Layout(height='25px', width='50%'),…"
      ]
     },
     "metadata": {},
     "output_type": "display_data"
    }
   ],
   "source": [
    "# create a path variable for the full dataset file, comment if working locally\n",
    "path_full = \"s3n://udacity-dsnd/sparkify/sparkify_event_data.json\""
   ]
  },
  {
   "cell_type": "code",
   "execution_count": 10,
   "id": "73e41f4c",
   "metadata": {},
   "outputs": [
    {
     "data": {
      "application/vnd.jupyter.widget-view+json": {
       "model_id": "9166a943d46f4039a2ab8d6a3a63f4ed",
       "version_major": 2,
       "version_minor": 0
      },
      "text/plain": [
       "VBox()"
      ]
     },
     "metadata": {},
     "output_type": "display_data"
    },
    {
     "data": {
      "application/vnd.jupyter.widget-view+json": {
       "model_id": "",
       "version_major": 2,
       "version_minor": 0
      },
      "text/plain": [
       "FloatProgress(value=0.0, bar_style='info', description='Progress:', layout=Layout(height='25px', width='50%'),…"
      ]
     },
     "metadata": {},
     "output_type": "display_data"
    },
    {
     "name": "stdout",
     "output_type": "stream",
     "text": [
      "Loading the dataset ...\n",
      "Dataset is loaded...\n",
      "\n",
      "Load time......... 0.424 min"
     ]
    }
   ],
   "source": [
    "# start timer\n",
    "start_time = time.time()\n",
    "\n",
    "# load the full dataset, comment if working locally\n",
    "df = load_data(path_full)\n",
    "\n",
    "# stop timer\n",
    "end_time = time.time()\n",
    "\n",
    "# evaluate the trainining time in minutes \n",
    "load_time = (end_time - start_time)/60\n",
    "\n",
    "# print the loading time\n",
    "print(\"\")\n",
    "print(\"Load time.........%6.3f min\" % load_time)"
   ]
  },
  {
   "cell_type": "code",
   "execution_count": 11,
   "id": "55032680",
   "metadata": {},
   "outputs": [
    {
     "data": {
      "application/vnd.jupyter.widget-view+json": {
       "model_id": "15bf716c69204938b18caf218c106296",
       "version_major": 2,
       "version_minor": 0
      },
      "text/plain": [
       "VBox()"
      ]
     },
     "metadata": {},
     "output_type": "display_data"
    },
    {
     "data": {
      "application/vnd.jupyter.widget-view+json": {
       "model_id": "",
       "version_major": 2,
       "version_minor": 0
      },
      "text/plain": [
       "FloatProgress(value=0.0, bar_style='info', description='Progress:', layout=Layout(height='25px', width='50%'),…"
      ]
     },
     "metadata": {},
     "output_type": "display_data"
    }
   ],
   "source": [
    "# set memory protocol for spark\n",
    "df_cached = df.cache()"
   ]
  },
  {
   "cell_type": "code",
   "execution_count": 12,
   "id": "74a271a6",
   "metadata": {},
   "outputs": [
    {
     "data": {
      "application/vnd.jupyter.widget-view+json": {
       "model_id": "bd2f05e0b1ec4d0ea9b738a891735d32",
       "version_major": 2,
       "version_minor": 0
      },
      "text/plain": [
       "VBox()"
      ]
     },
     "metadata": {},
     "output_type": "display_data"
    },
    {
     "data": {
      "application/vnd.jupyter.widget-view+json": {
       "model_id": "",
       "version_major": 2,
       "version_minor": 0
      },
      "text/plain": [
       "FloatProgress(value=0.0, bar_style='info', description='Progress:', layout=Layout(height='25px', width='50%'),…"
      ]
     },
     "metadata": {},
     "output_type": "display_data"
    },
    {
     "name": "stdout",
     "output_type": "stream",
     "text": [
      "Cleaning the data ...\n",
      "Dataset has 26259199 rows initially.\n",
      "Finished cleaning the data ...\n",
      "Cleaned dataset has 26259199 rows, 0 rows were removed\n",
      "\n",
      "Cleaning time......... 0.595 min"
     ]
    }
   ],
   "source": [
    "# start timer\n",
    "start_time = time.time()\n",
    "\n",
    "# clean the raw dataset\n",
    "df_clean = clean_data(df_cached)\n",
    "\n",
    "# stop timer\n",
    "end_time = time.time()\n",
    "\n",
    "# evaluate the trainining time in minutes \n",
    "clean_time = (end_time - start_time)/60\n",
    "\n",
    "# print the training time\n",
    "print(\"\")\n",
    "print(\"Cleaning time.........%6.3f min\" % clean_time)\n"
   ]
  },
  {
   "cell_type": "code",
   "execution_count": 13,
   "id": "0d767def",
   "metadata": {},
   "outputs": [
    {
     "data": {
      "application/vnd.jupyter.widget-view+json": {
       "model_id": "02f2c68feb674b90850c92a4aa81bea4",
       "version_major": 2,
       "version_minor": 0
      },
      "text/plain": [
       "VBox()"
      ]
     },
     "metadata": {},
     "output_type": "display_data"
    },
    {
     "data": {
      "application/vnd.jupyter.widget-view+json": {
       "model_id": "",
       "version_major": 2,
       "version_minor": 0
      },
      "text/plain": [
       "FloatProgress(value=0.0, bar_style='info', description='Progress:', layout=Layout(height='25px', width='50%'),…"
      ]
     },
     "metadata": {},
     "output_type": "display_data"
    },
    {
     "name": "stdout",
     "output_type": "stream",
     "text": [
      "\n",
      "Preprocessing time......... 0.008 min"
     ]
    }
   ],
   "source": [
    "# start timer\n",
    "start_time = time.time()\n",
    "\n",
    "# preprocess the dataset\n",
    "df_proc = preprocess_data(df_clean)\n",
    "\n",
    "# stop timer\n",
    "end_time = time.time()\n",
    "\n",
    "# evaluate the trainining time in minutes \n",
    "preproc_time = (end_time - start_time)/60\n",
    "\n",
    "# print the training time\n",
    "print(\"\")\n",
    "print(\"Preprocessing time.........%6.3f min\" % preproc_time)\n"
   ]
  },
  {
   "cell_type": "code",
   "execution_count": 14,
   "id": "592e4af6",
   "metadata": {},
   "outputs": [
    {
     "data": {
      "application/vnd.jupyter.widget-view+json": {
       "model_id": "3094e2f5c4b243158a9cdb50d0abc13b",
       "version_major": 2,
       "version_minor": 0
      },
      "text/plain": [
       "VBox()"
      ]
     },
     "metadata": {},
     "output_type": "display_data"
    },
    {
     "data": {
      "application/vnd.jupyter.widget-view+json": {
       "model_id": "",
       "version_major": 2,
       "version_minor": 0
      },
      "text/plain": [
       "FloatProgress(value=0.0, bar_style='info', description='Progress:', layout=Layout(height='25px', width='50%'),…"
      ]
     },
     "metadata": {},
     "output_type": "display_data"
    },
    {
     "name": "stdout",
     "output_type": "stream",
     "text": [
      "\n",
      "Features engineering time......... 0.009 min"
     ]
    }
   ],
   "source": [
    "# start timer\n",
    "start_time = time.time()\n",
    "\n",
    "# create features dataset\n",
    "df_feats = build_features(df_proc)\n",
    "\n",
    "# stop timer\n",
    "end_time = time.time()\n",
    "\n",
    "# evaluate the trainining time in minutes \n",
    "feat_time = (end_time - start_time)/60\n",
    "\n",
    "# print the training time\n",
    "print(\"\")\n",
    "print(\"Features engineering time.........%6.3f min\" % feat_time)"
   ]
  },
  {
   "cell_type": "code",
   "execution_count": 15,
   "id": "e138e646",
   "metadata": {},
   "outputs": [
    {
     "data": {
      "application/vnd.jupyter.widget-view+json": {
       "model_id": "beadccd4d25d4fa59271c5bddaca62b5",
       "version_major": 2,
       "version_minor": 0
      },
      "text/plain": [
       "VBox()"
      ]
     },
     "metadata": {},
     "output_type": "display_data"
    },
    {
     "data": {
      "application/vnd.jupyter.widget-view+json": {
       "model_id": "",
       "version_major": 2,
       "version_minor": 0
      },
      "text/plain": [
       "FloatProgress(value=0.0, bar_style='info', description='Progress:', layout=Layout(height='25px', width='50%'),…"
      ]
     },
     "metadata": {},
     "output_type": "display_data"
    }
   ],
   "source": [
    "# split the features dataset\n",
    "df_train, df_test = split_data(df_feats)"
   ]
  },
  {
   "cell_type": "markdown",
   "id": "aff43790",
   "metadata": {},
   "source": [
    "### <font color='blue'>Toggle the memory</font>"
   ]
  },
  {
   "cell_type": "code",
   "execution_count": 16,
   "id": "62134de9",
   "metadata": {},
   "outputs": [
    {
     "data": {
      "application/vnd.jupyter.widget-view+json": {
       "model_id": "1ce54f7d45af45e393793551dc34bdd6",
       "version_major": 2,
       "version_minor": 0
      },
      "text/plain": [
       "VBox()"
      ]
     },
     "metadata": {},
     "output_type": "display_data"
    },
    {
     "data": {
      "application/vnd.jupyter.widget-view+json": {
       "model_id": "",
       "version_major": 2,
       "version_minor": 0
      },
      "text/plain": [
       "FloatProgress(value=0.0, bar_style='info', description='Progress:', layout=Layout(height='25px', width='50%'),…"
      ]
     },
     "metadata": {},
     "output_type": "display_data"
    },
    {
     "name": "stdout",
     "output_type": "stream",
     "text": [
      "DataFrame[artist: string, auth: string, firstName: string, gender: string, itemInSession: bigint, lastName: string, length: double, level: string, location: string, method: string, page: string, registration: bigint, sessionId: bigint, song: string, status: bigint, ts: bigint, userAgent: string, userId: string]"
     ]
    }
   ],
   "source": [
    "# add the train set to the memory\n",
    "df_cached.unpersist()"
   ]
  },
  {
   "cell_type": "code",
   "execution_count": 17,
   "id": "cba968f4",
   "metadata": {},
   "outputs": [
    {
     "data": {
      "application/vnd.jupyter.widget-view+json": {
       "model_id": "d87408ee47af488fab5599a0af28794a",
       "version_major": 2,
       "version_minor": 0
      },
      "text/plain": [
       "VBox()"
      ]
     },
     "metadata": {},
     "output_type": "display_data"
    },
    {
     "data": {
      "application/vnd.jupyter.widget-view+json": {
       "model_id": "",
       "version_major": 2,
       "version_minor": 0
      },
      "text/plain": [
       "FloatProgress(value=0.0, bar_style='info', description='Progress:', layout=Layout(height='25px', width='50%'),…"
      ]
     },
     "metadata": {},
     "output_type": "display_data"
    }
   ],
   "source": [
    "# add the train set to the memory\n",
    "train_cached = df_train.cache()\n",
    "\n",
    "# add the train set to the memory\n",
    "test_cached = df_test.cache()"
   ]
  },
  {
   "cell_type": "markdown",
   "id": "e7a26062",
   "metadata": {},
   "source": [
    "## <font color='blue'>Baseline Model</font>"
   ]
  },
  {
   "cell_type": "code",
   "execution_count": 18,
   "id": "a63af31e",
   "metadata": {},
   "outputs": [
    {
     "data": {
      "application/vnd.jupyter.widget-view+json": {
       "model_id": "10e0c6c0c89e4b6380a752a603ea6f98",
       "version_major": 2,
       "version_minor": 0
      },
      "text/plain": [
       "VBox()"
      ]
     },
     "metadata": {},
     "output_type": "display_data"
    },
    {
     "data": {
      "application/vnd.jupyter.widget-view+json": {
       "model_id": "",
       "version_major": 2,
       "version_minor": 0
      },
      "text/plain": [
       "FloatProgress(value=0.0, bar_style='info', description='Progress:', layout=Layout(height='25px', width='50%'),…"
      ]
     },
     "metadata": {},
     "output_type": "display_data"
    }
   ],
   "source": [
    "# count the number of churn users in each set\n",
    "fn_train = train_cached.where(train_cached.churn==1).count()\n",
    "fn_test = test_cached.where(test_cached.churn==1).count()\n",
    "\n",
    "# count the number of not churn users in each set\n",
    "tn_train = train_cached.where(train_cached.churn==0).count()\n",
    "tn_test = test_cached.where(test_cached.churn==0).count()"
   ]
  },
  {
   "cell_type": "code",
   "execution_count": 19,
   "id": "887b1f78",
   "metadata": {},
   "outputs": [
    {
     "data": {
      "application/vnd.jupyter.widget-view+json": {
       "model_id": "d353cbd91728452bb609917372dd1996",
       "version_major": 2,
       "version_minor": 0
      },
      "text/plain": [
       "VBox()"
      ]
     },
     "metadata": {},
     "output_type": "display_data"
    },
    {
     "data": {
      "application/vnd.jupyter.widget-view+json": {
       "model_id": "",
       "version_major": 2,
       "version_minor": 0
      },
      "text/plain": [
       "FloatProgress(value=0.0, bar_style='info', description='Progress:', layout=Layout(height='25px', width='50%'),…"
      ]
     },
     "metadata": {},
     "output_type": "display_data"
    },
    {
     "name": "stdout",
     "output_type": "stream",
     "text": [
      "With fp = tp = 0, fn = 3530 and tn = 12191, the accuracy of the ZeroR model on the train set is 77.55%.\n",
      "With fp = tp = 0, fn = 1473 and tn = 5083, the accuracy of the ZeroR model on the test set is 77.53%."
     ]
    }
   ],
   "source": [
    "# accuracy of ZeroR model on train set\n",
    "accuracy_train = tn_train/(fn_train+tn_train)\n",
    "print(\"With fp = tp = 0, fn = {} and tn = {}, the accuracy of the ZeroR model on the train set is {}%.\"\n",
    "      .format(fn_train, tn_train, round(accuracy_train,4)*100))\n",
    "\n",
    "# accuracy of ZeroR model on test set\n",
    "accuracy_test = tn_test/(fn_test+tn_test)\n",
    "print(\"With fp = tp = 0, fn = {} and tn = {}, the accuracy of the ZeroR model on the test set is {}%.\"\n",
    "      .format(fn_test, tn_test, round(accuracy_test,4)*100))"
   ]
  },
  {
   "cell_type": "markdown",
   "id": "c2781330",
   "metadata": {},
   "source": [
    "<div class=\"alert alert-block alert-info\">\n",
    "    \n",
    "Build a ZeroR baseline model. This is a simple model that always predicts the most numerous class. The accuracy of this model on the test set is:\n",
    "\n",
    "$${\\rm accuracy\\;testset} = \\frac{\\rm not\\; churn}{\\rm all\\; users} = \\frac{5083}{5083+1473} = 0.7753$$\n",
    "    \n",
    "Any classifier we build must have better accuracy on the test set than the accuracy of this dummy classifier.\n",
    "    \n",
    "</div>"
   ]
  },
  {
   "cell_type": "markdown",
   "id": "d744cad8",
   "metadata": {},
   "source": [
    "## <font color='blue'>Evaluate PySpark Classifiers</font>"
   ]
  },
  {
   "cell_type": "markdown",
   "id": "4bbbca19",
   "metadata": {},
   "source": [
    "<div class=\"alert alert-block alert-info\">\n",
    "\n",
    "Fit binary classifiers from PySpark.ml on the train set with cross validation and mostly default parameters to select the best ones for the hyperparameters tunning stage.\n",
    "   \n",
    "</div>"
   ]
  },
  {
   "cell_type": "code",
   "execution_count": 20,
   "id": "e470788e",
   "metadata": {},
   "outputs": [
    {
     "data": {
      "application/vnd.jupyter.widget-view+json": {
       "model_id": "ce4af117b8f54ac096b1ad9b5c971490",
       "version_major": 2,
       "version_minor": 0
      },
      "text/plain": [
       "VBox()"
      ]
     },
     "metadata": {},
     "output_type": "display_data"
    },
    {
     "data": {
      "application/vnd.jupyter.widget-view+json": {
       "model_id": "",
       "version_major": 2,
       "version_minor": 0
      },
      "text/plain": [
       "FloatProgress(value=0.0, bar_style='info', description='Progress:', layout=Layout(height='25px', width='50%'),…"
      ]
     },
     "metadata": {},
     "output_type": "display_data"
    },
    {
     "name": "stdout",
     "output_type": "stream",
     "text": [
      "\n",
      "Training LOGISTIC REGRESSION CLASSIFIER\n",
      "\n",
      "\n",
      "Training time......... 3.134 min"
     ]
    }
   ],
   "source": [
    "print(\"\")\n",
    "print(f\"Training LOGISTIC REGRESSION CLASSIFIER\")\n",
    "print(\"\")\n",
    "\n",
    "# instantiate the classifier\n",
    "classifier_lr = LogisticRegression(labelCol = labelCol,\n",
    "                                   featuresCol = featuresCol)\n",
    "\n",
    "# build specific pipeline\n",
    "pipeline_lr = build_full_pipeline(classifier_lr)\n",
    "\n",
    "# create the parameters list\n",
    "param_lr = ParamGridBuilder() \\\n",
    "        .addGrid(classifier_lr.regParam, [0.0]) \\\n",
    "        .addGrid(classifier_lr.elasticNetParam, [0.0]) \\\n",
    "        .build()\n",
    "\n",
    "# build the grid search model\n",
    "lr = grid_search_model(pipeline_lr, param_lr)\n",
    "\n",
    "# start timer\n",
    "start_time = time.time()\n",
    "\n",
    "# train the model\n",
    "model_lr = lr.fit(train_cached)\n",
    "\n",
    "# stop timer\n",
    "end_time = time.time()\n",
    "\n",
    "# evaluate the trainining time in minutes \n",
    "train_time = (end_time - start_time)/60\n",
    "\n",
    "# print the training time\n",
    "print(\"\")\n",
    "print(\"Training time.........%6.3f min\" % train_time)\n",
    "\n",
    "# create the predictions dataset\n",
    "predictions_lr = model_lr.transform(train_cached)\n",
    "\n",
    "# choose an evaluator\n",
    "evaluator = BinaryClassificationEvaluator()\n",
    "evaluator.setLabelCol(labelCol)\n",
    "\n",
    "# calculate roc and pr scores\n",
    "roc_lr = evaluator.evaluate(predictions_lr, {evaluator.metricName: \"areaUnderROC\"})\n",
    "pr_lr = evaluator.evaluate(predictions_lr, {evaluator.metricName: \"areaUnderPR\"})\n",
    "\n",
    "# record the confusion matrix metrics\n",
    "acc_lr, prec_lr, rec_lr, f1_lr = conf_metrics(predictions_lr)"
   ]
  },
  {
   "cell_type": "markdown",
   "id": "f4c52bf0",
   "metadata": {},
   "source": [
    "### <font color='blue'>Decision Trees Classifier</font>"
   ]
  },
  {
   "cell_type": "code",
   "execution_count": 21,
   "id": "7eb59e95",
   "metadata": {},
   "outputs": [
    {
     "data": {
      "application/vnd.jupyter.widget-view+json": {
       "model_id": "878037fe511f40ae857ab4f9df90cb03",
       "version_major": 2,
       "version_minor": 0
      },
      "text/plain": [
       "VBox()"
      ]
     },
     "metadata": {},
     "output_type": "display_data"
    },
    {
     "data": {
      "application/vnd.jupyter.widget-view+json": {
       "model_id": "",
       "version_major": 2,
       "version_minor": 0
      },
      "text/plain": [
       "FloatProgress(value=0.0, bar_style='info', description='Progress:', layout=Layout(height='25px', width='50%'),…"
      ]
     },
     "metadata": {},
     "output_type": "display_data"
    },
    {
     "name": "stderr",
     "output_type": "stream",
     "text": [
      "Exception in thread cell_monitor-20:\n",
      "Traceback (most recent call last):\n",
      "  File \"/mnt/notebook-env/lib/python3.7/threading.py\", line 926, in _bootstrap_inner\n",
      "    self.run()\n",
      "  File \"/mnt/notebook-env/lib/python3.7/threading.py\", line 870, in run\n",
      "    self._target(*self._args, **self._kwargs)\n",
      "  File \"/mnt/notebook-env/lib/python3.7/site-packages/awseditorssparkmonitoringwidget-1.0-py3.7.egg/awseditorssparkmonitoringwidget/cellmonitor.py\", line 178, in cell_monitor\n",
      "    job_binned_stages[job_id][stage_id] = all_stages[stage_id]\n",
      "KeyError: 2593\n",
      "\n",
      "Exception in thread cell_monitor-19:\n",
      "Traceback (most recent call last):\n",
      "  File \"/mnt/notebook-env/lib/python3.7/threading.py\", line 926, in _bootstrap_inner\n",
      "    self.run()\n",
      "  File \"/mnt/notebook-env/lib/python3.7/threading.py\", line 870, in run\n",
      "    self._target(*self._args, **self._kwargs)\n",
      "  File \"/mnt/notebook-env/lib/python3.7/site-packages/awseditorssparkmonitoringwidget-1.0-py3.7.egg/awseditorssparkmonitoringwidget/cellmonitor.py\", line 178, in cell_monitor\n",
      "    job_binned_stages[job_id][stage_id] = all_stages[stage_id]\n",
      "KeyError: 2527\n",
      "\n"
     ]
    },
    {
     "name": "stdout",
     "output_type": "stream",
     "text": [
      "\n",
      "Training DECISION TREES CLASSIFIER\n",
      "\n",
      "\n",
      "Training time......... 0.587 min"
     ]
    }
   ],
   "source": [
    "print(\"\")\n",
    "print(f\"Training DECISION TREES CLASSIFIER\")\n",
    "print(\"\")\n",
    "\n",
    "# instantiate the classifier\n",
    "classifier_dt = DecisionTreeClassifier(labelCol = labelCol,\n",
    "                                       featuresCol = featuresCol,\n",
    "                                       seed=1234)\n",
    "\n",
    "# build specific pipeline\n",
    "pipeline_dt = build_full_pipeline(classifier_dt)\n",
    "\n",
    "# create the parameters list\n",
    "param_dt = ParamGridBuilder() \\\n",
    "          .addGrid(classifier_dt.maxDepth, [5]) \\\n",
    "          .addGrid(classifier_dt.maxBins, [32]) \\\n",
    "          .build()\n",
    "    \n",
    "# build the grid search model\n",
    "dt = grid_search_model(pipeline_dt, param_dt)\n",
    "\n",
    "# start timer\n",
    "start_time = time.time()\n",
    "\n",
    "# train the model\n",
    "model_dt = dt.fit(train_cached)\n",
    "\n",
    "# stop timer\n",
    "end_time = time.time()\n",
    "\n",
    "# evaluate the trainining time in minutes \n",
    "train_time = (end_time - start_time)/60\n",
    "\n",
    "# print the training time\n",
    "print(\"\")\n",
    "print(\"Training time.........%6.3f min\" % train_time)\n",
    "\n",
    "# create the predictions dataset\n",
    "predictions_dt = model_dt.transform(train_cached)\n",
    "\n",
    "# choose an evaluator\n",
    "evaluator = BinaryClassificationEvaluator()\n",
    "evaluator.setLabelCol(labelCol)\n",
    "\n",
    "# calculate roc and pr scores\n",
    "roc_dt = evaluator.evaluate(predictions_dt, {evaluator.metricName: \"areaUnderROC\"})\n",
    "pr_dt = evaluator.evaluate(predictions_dt, {evaluator.metricName: \"areaUnderPR\"})\n",
    "\n",
    "# record the confusion matrix metrics\n",
    "acc_dt, prec_dt, rec_dt, f1_dt = conf_metrics(predictions_dt)"
   ]
  },
  {
   "cell_type": "markdown",
   "id": "6e56658c",
   "metadata": {},
   "source": [
    "### <font color='blue'>Random Forest Classifier</font>"
   ]
  },
  {
   "cell_type": "code",
   "execution_count": 22,
   "id": "7510aabd",
   "metadata": {},
   "outputs": [
    {
     "data": {
      "application/vnd.jupyter.widget-view+json": {
       "model_id": "0075f9c8f8a94df7bfeeff278fa62b82",
       "version_major": 2,
       "version_minor": 0
      },
      "text/plain": [
       "VBox()"
      ]
     },
     "metadata": {},
     "output_type": "display_data"
    },
    {
     "data": {
      "application/vnd.jupyter.widget-view+json": {
       "model_id": "",
       "version_major": 2,
       "version_minor": 0
      },
      "text/plain": [
       "FloatProgress(value=0.0, bar_style='info', description='Progress:', layout=Layout(height='25px', width='50%'),…"
      ]
     },
     "metadata": {},
     "output_type": "display_data"
    },
    {
     "name": "stderr",
     "output_type": "stream",
     "text": [
      "Exception in thread cell_monitor-21:\n",
      "Traceback (most recent call last):\n",
      "  File \"/mnt/notebook-env/lib/python3.7/threading.py\", line 926, in _bootstrap_inner\n",
      "    self.run()\n",
      "  File \"/mnt/notebook-env/lib/python3.7/threading.py\", line 870, in run\n",
      "    self._target(*self._args, **self._kwargs)\n",
      "  File \"/mnt/notebook-env/lib/python3.7/site-packages/awseditorssparkmonitoringwidget-1.0-py3.7.egg/awseditorssparkmonitoringwidget/cellmonitor.py\", line 178, in cell_monitor\n",
      "    job_binned_stages[job_id][stage_id] = all_stages[stage_id]\n",
      "KeyError: 3195\n",
      "\n"
     ]
    },
    {
     "name": "stdout",
     "output_type": "stream",
     "text": [
      "\n",
      "Training RANDOM FOREST CLASSIFIER\n",
      "\n",
      "\n",
      "Training time......... 0.947 min"
     ]
    }
   ],
   "source": [
    "print(\"\")\n",
    "print(f\"Training RANDOM FOREST CLASSIFIER\")\n",
    "print(\"\")\n",
    "\n",
    "# instantiate the classifier\n",
    "classifier_rf = RandomForestClassifier(labelCol = labelCol,\n",
    "                                       featuresCol = featuresCol, \n",
    "                                       seed=1234)\n",
    "# build the specific pipeline\n",
    "pipeline_rf = build_full_pipeline(classifier_rf)\n",
    "\n",
    "# create a list of parameters \n",
    "param_rf = ParamGridBuilder() \\\n",
    "        .addGrid(classifier_rf.maxDepth, [5]) \\\n",
    "        .addGrid(classifier_rf.maxBins, [32]) \\\n",
    "        .addGrid(classifier_rf.numTrees, [20]) \\\n",
    "        .build()\n",
    "    \n",
    "# build the grid search model\n",
    "rf = grid_search_model(pipeline_rf, param_rf)\n",
    "\n",
    "# start timer\n",
    "start_time = time.time()\n",
    "\n",
    "# train the model\n",
    "model_rf = rf.fit(train_cached)\n",
    "\n",
    "# stop timer\n",
    "end_time = time.time()\n",
    "\n",
    "# evaluate the trainining time in minutes \n",
    "train_time = (end_time - start_time)/60\n",
    "\n",
    "# print the training time\n",
    "print(\"\")\n",
    "print(\"Training time.........%6.3f min\" % train_time)\n",
    "\n",
    "# create the predictions dataset\n",
    "predictions_rf = model_rf.transform(train_cached)\n",
    "\n",
    "# choose an evaluator\n",
    "evaluator = BinaryClassificationEvaluator()\n",
    "evaluator.setLabelCol(labelCol)\n",
    "\n",
    "# calculate roc and pr scores\n",
    "roc_rf = evaluator.evaluate(predictions_rf, {evaluator.metricName: \"areaUnderROC\"})\n",
    "pr_rf = evaluator.evaluate(predictions_rf, {evaluator.metricName: \"areaUnderPR\"})\n",
    "\n",
    "# record the confusion matrix metrics\n",
    "acc_rf, prec_rf, rec_rf, f1_rf = conf_metrics(predictions_rf)"
   ]
  },
  {
   "cell_type": "markdown",
   "id": "2624ae2c",
   "metadata": {},
   "source": [
    "### <font color='blue'>Gradient Boosted Trees</font>"
   ]
  },
  {
   "cell_type": "code",
   "execution_count": 23,
   "id": "958b7844",
   "metadata": {},
   "outputs": [
    {
     "data": {
      "application/vnd.jupyter.widget-view+json": {
       "model_id": "22921f3ec1f24c7789a72d4268b094c7",
       "version_major": 2,
       "version_minor": 0
      },
      "text/plain": [
       "VBox()"
      ]
     },
     "metadata": {},
     "output_type": "display_data"
    },
    {
     "data": {
      "application/vnd.jupyter.widget-view+json": {
       "model_id": "",
       "version_major": 2,
       "version_minor": 0
      },
      "text/plain": [
       "FloatProgress(value=0.0, bar_style='info', description='Progress:', layout=Layout(height='25px', width='50%'),…"
      ]
     },
     "metadata": {},
     "output_type": "display_data"
    },
    {
     "name": "stderr",
     "output_type": "stream",
     "text": [
      "Exception in thread cell_monitor-22:\n",
      "Traceback (most recent call last):\n",
      "  File \"/mnt/notebook-env/lib/python3.7/threading.py\", line 926, in _bootstrap_inner\n",
      "    self.run()\n",
      "  File \"/mnt/notebook-env/lib/python3.7/threading.py\", line 870, in run\n",
      "    self._target(*self._args, **self._kwargs)\n",
      "  File \"/mnt/notebook-env/lib/python3.7/site-packages/awseditorssparkmonitoringwidget-1.0-py3.7.egg/awseditorssparkmonitoringwidget/cellmonitor.py\", line 178, in cell_monitor\n",
      "    job_binned_stages[job_id][stage_id] = all_stages[stage_id]\n",
      "KeyError: 3693\n",
      "\n"
     ]
    },
    {
     "name": "stdout",
     "output_type": "stream",
     "text": [
      "\n",
      "Training GRADIENT BOOSTED TREES\n",
      "\n",
      "\n",
      "Training time......... 6.929 min"
     ]
    }
   ],
   "source": [
    "print(\"\")\n",
    "print(f\"Training GRADIENT BOOSTED TREES\")\n",
    "print(\"\")\n",
    "\n",
    "# instantiate the classifier\n",
    "classifier_gbt = GBTClassifier(labelCol = labelCol,\n",
    "                               featuresCol = featuresCol,\n",
    "                               seed=1234)\n",
    "# build specific pipeline\n",
    "pipeline_gbt = build_full_pipeline(classifier_gbt)\n",
    "\n",
    "# create the parmeters list\n",
    "param_gbt = ParamGridBuilder() \\\n",
    "        .addGrid(classifier_gbt.maxDepth, [5]) \\\n",
    "        .addGrid(classifier_gbt.maxBins, [32]) \\\n",
    "        .addGrid(classifier_gbt.maxIter, [20]) \\\n",
    "        .addGrid(classifier_gbt.stepSize, [0.1]) \\\n",
    "        .build()\n",
    "\n",
    "# build the grid search model\n",
    "gbt = grid_search_model(pipeline_gbt, param_gbt)\n",
    "\n",
    "# start timer\n",
    "start_time = time.time()\n",
    "\n",
    "# train the model\n",
    "model_gbt = gbt.fit(train_cached)\n",
    "\n",
    "# stop timer\n",
    "end_time = time.time()\n",
    "\n",
    "# evaluate the trainining time in minutes \n",
    "train_time = (end_time - start_time)/60\n",
    "\n",
    "# print the training time\n",
    "print(\"\")\n",
    "print(\"Training time.........%6.3f min\" % train_time)\n",
    "\n",
    "# create the predictions dataset\n",
    "predictions_gbt = model_gbt.transform(train_cached)\n",
    "\n",
    "# choose an evaluator\n",
    "evaluator = BinaryClassificationEvaluator()\n",
    "evaluator.setLabelCol(labelCol)\n",
    "\n",
    "# calculate auc metrics\n",
    "roc_gbt = evaluator.evaluate(predictions_gbt, {evaluator.metricName: \"areaUnderROC\"})\n",
    "pr_gbt = evaluator.evaluate(predictions_gbt, {evaluator.metricName: \"areaUnderPR\"})\n",
    "\n",
    "# record the confusion matrix metrics\n",
    "acc_gbt, prec_gbt, rec_gbt, f1_gbt = conf_metrics(predictions_gbt)"
   ]
  },
  {
   "cell_type": "markdown",
   "id": "5eccbd8f",
   "metadata": {},
   "source": [
    "### <font color='blue'>Multilayer Perceptron Classifier</font>"
   ]
  },
  {
   "cell_type": "code",
   "execution_count": 24,
   "id": "db801f1e",
   "metadata": {},
   "outputs": [
    {
     "data": {
      "application/vnd.jupyter.widget-view+json": {
       "model_id": "4e6c34c2389d4ef9a3f3c38ce9afdd18",
       "version_major": 2,
       "version_minor": 0
      },
      "text/plain": [
       "VBox()"
      ]
     },
     "metadata": {},
     "output_type": "display_data"
    },
    {
     "data": {
      "application/vnd.jupyter.widget-view+json": {
       "model_id": "",
       "version_major": 2,
       "version_minor": 0
      },
      "text/plain": [
       "FloatProgress(value=0.0, bar_style='info', description='Progress:', layout=Layout(height='25px', width='50%'),…"
      ]
     },
     "metadata": {},
     "output_type": "display_data"
    },
    {
     "name": "stderr",
     "output_type": "stream",
     "text": [
      "Exception in thread cell_monitor-23:\n",
      "Traceback (most recent call last):\n",
      "  File \"/mnt/notebook-env/lib/python3.7/threading.py\", line 926, in _bootstrap_inner\n",
      "    self.run()\n",
      "  File \"/mnt/notebook-env/lib/python3.7/threading.py\", line 870, in run\n",
      "    self._target(*self._args, **self._kwargs)\n",
      "  File \"/mnt/notebook-env/lib/python3.7/site-packages/awseditorssparkmonitoringwidget-1.0-py3.7.egg/awseditorssparkmonitoringwidget/cellmonitor.py\", line 178, in cell_monitor\n",
      "    job_binned_stages[job_id][stage_id] = all_stages[stage_id]\n",
      "KeyError: 8595\n",
      "\n"
     ]
    },
    {
     "name": "stdout",
     "output_type": "stream",
     "text": [
      "\n",
      "Training MULTILAYER PERCEPTRON CLASSIFIER\n",
      "\n",
      "\n",
      "Training time......... 3.721 min"
     ]
    }
   ],
   "source": [
    "print(\"\")\n",
    "print(f\"Training MULTILAYER PERCEPTRON CLASSIFIER\")\n",
    "print(\"\")\n",
    "\n",
    "# specify layers: 18 (features), two hidden (8, 4), output 2 (classes)\n",
    "layers=[18, 8, 4, 2]\n",
    "# create the trainer and set its parameters\n",
    "classifier_mlpc = MultilayerPerceptronClassifier(labelCol = labelCol,\n",
    "                                                featuresCol = featuresCol,\n",
    "                                                layers=layers,\n",
    "                                                seed=1234)\n",
    "# build specific pipeline\n",
    "pipeline_mlpc = build_full_pipeline(classifier_mlpc)\n",
    "\n",
    "# create a list of parameters for Multilayer Perceptron\n",
    "param_mlpc = ParamGridBuilder() \\\n",
    "        .addGrid(classifier_mlpc.maxIter, [100]) \\\n",
    "        .addGrid(classifier_mlpc.blockSize, [128]) \\\n",
    "        .addGrid(classifier_mlpc.stepSize, [0.03]) \\\n",
    "        .build()\n",
    "\n",
    "# build the grid search pipeline\n",
    "mlpc = grid_search_model(pipeline_mlpc, param_mlpc)\n",
    "\n",
    "# start timer\n",
    "start_time = time.time()\n",
    "\n",
    "# train the model\n",
    "model_mlpc = mlpc.fit(train_cached)\n",
    "\n",
    "# stop timer\n",
    "end_time = time.time()\n",
    "\n",
    "# evaluate the trainining time in minutes \n",
    "train_time = (end_time - start_time)/60\n",
    "\n",
    "# print the training time\n",
    "print(\"\")\n",
    "print(\"Training time.........%6.3f min\" % train_time)\n",
    "\n",
    "# create the predictions dataset\n",
    "predictions_mlpc = model_mlpc.transform(train_cached)\n",
    "\n",
    "# choose an evaluator\n",
    "evaluator = BinaryClassificationEvaluator()\n",
    "evaluator.setLabelCol(labelCol)\n",
    "\n",
    "# calculate auc metrics\n",
    "roc_mlpc = evaluator.evaluate(predictions_mlpc, {evaluator.metricName: \"areaUnderROC\"})\n",
    "pr_mlpc = evaluator.evaluate(predictions_mlpc, {evaluator.metricName: \"areaUnderPR\"})\n",
    "\n",
    "# record the confusion matrix metrics\n",
    "acc_mlpc, prec_mlpc, rec_mlpc, f1_mlpc = conf_metrics(predictions_mlpc)"
   ]
  },
  {
   "cell_type": "markdown",
   "id": "54a83b6a",
   "metadata": {},
   "source": [
    "### <font color='blue'>Linear Support Vector Machine</font>"
   ]
  },
  {
   "cell_type": "code",
   "execution_count": 25,
   "id": "df047417",
   "metadata": {},
   "outputs": [
    {
     "data": {
      "application/vnd.jupyter.widget-view+json": {
       "model_id": "afc2f30f13f14b8fa2c3e9e36fb0d874",
       "version_major": 2,
       "version_minor": 0
      },
      "text/plain": [
       "VBox()"
      ]
     },
     "metadata": {},
     "output_type": "display_data"
    },
    {
     "data": {
      "application/vnd.jupyter.widget-view+json": {
       "model_id": "",
       "version_major": 2,
       "version_minor": 0
      },
      "text/plain": [
       "FloatProgress(value=0.0, bar_style='info', description='Progress:', layout=Layout(height='25px', width='50%'),…"
      ]
     },
     "metadata": {},
     "output_type": "display_data"
    },
    {
     "name": "stderr",
     "output_type": "stream",
     "text": [
      "Exception in thread cell_monitor-24:\n",
      "Traceback (most recent call last):\n",
      "  File \"/mnt/notebook-env/lib/python3.7/threading.py\", line 926, in _bootstrap_inner\n",
      "    self.run()\n",
      "  File \"/mnt/notebook-env/lib/python3.7/threading.py\", line 870, in run\n",
      "    self._target(*self._args, **self._kwargs)\n",
      "  File \"/mnt/notebook-env/lib/python3.7/site-packages/awseditorssparkmonitoringwidget-1.0-py3.7.egg/awseditorssparkmonitoringwidget/cellmonitor.py\", line 178, in cell_monitor\n",
      "    job_binned_stages[job_id][stage_id] = all_stages[stage_id]\n",
      "KeyError: 12593\n",
      "\n"
     ]
    },
    {
     "name": "stdout",
     "output_type": "stream",
     "text": [
      "\n",
      "Training LINEAR SUPPORT VECTOR MACHINE\n",
      "\n",
      "\n",
      "Training time......... 8.441 min"
     ]
    }
   ],
   "source": [
    "print(\"\")\n",
    "print(f\"Training LINEAR SUPPORT VECTOR MACHINE\")\n",
    "print(\"\")\n",
    "\n",
    "# instantiate the classifier\n",
    "classifier_lsvc = LinearSVC(labelCol = labelCol,\n",
    "                            featuresCol = featuresCol)\n",
    "# build specific pipeline\n",
    "pipeline_lsvc = build_full_pipeline(classifier_lsvc)\n",
    "\n",
    "# create the parameters list\n",
    "param_lsvc = ParamGridBuilder() \\\n",
    "        .addGrid(classifier_lsvc.regParam, [0.0])\\\n",
    "        .build()\n",
    "\n",
    "# build the grid search pipeline\n",
    "lsvc = grid_search_model(pipeline_lsvc, param_lsvc)\n",
    "\n",
    "# start timer\n",
    "start_time = time.time()\n",
    "\n",
    "# train the model\n",
    "model_lsvc = lsvc.fit(train_cached)\n",
    "\n",
    "# stop timer\n",
    "end_time = time.time()\n",
    "\n",
    "# evaluate the trainining time in minutes \n",
    "train_time = (end_time - start_time)/60\n",
    "\n",
    "# print the training time\n",
    "print(\"\")\n",
    "print(\"Training time.........%6.3f min\" % train_time)\n",
    "\n",
    "# create the predictions dataset\n",
    "predictions_lsvc = model_lsvc.transform(train_cached)\n",
    "\n",
    "# choose an evaluator\n",
    "evaluator = BinaryClassificationEvaluator()\n",
    "evaluator.setLabelCol(labelCol)\n",
    "\n",
    "# calculate roc and pr scores\n",
    "roc_lsvc = evaluator.evaluate(predictions_lsvc, {evaluator.metricName: \"areaUnderROC\"})\n",
    "pr_lsvc = evaluator.evaluate(predictions_lsvc, {evaluator.metricName: \"areaUnderPR\"})\n",
    "\n",
    "# record the confusion matrix metrics\n",
    "acc_lsvc, prec_lsvc, rec_lsvc, f1_lsvc = conf_metrics(predictions_lsvc)"
   ]
  },
  {
   "cell_type": "markdown",
   "id": "b25fa5f7",
   "metadata": {},
   "source": [
    "### <font color='blue'>Choose the Best Classifier</font>"
   ]
  },
  {
   "cell_type": "code",
   "execution_count": 26,
   "id": "c7500f38",
   "metadata": {},
   "outputs": [
    {
     "data": {
      "application/vnd.jupyter.widget-view+json": {
       "model_id": "cc90bb801a3449f0b564b5ddcb85ef7f",
       "version_major": 2,
       "version_minor": 0
      },
      "text/plain": [
       "VBox()"
      ]
     },
     "metadata": {},
     "output_type": "display_data"
    },
    {
     "data": {
      "application/vnd.jupyter.widget-view+json": {
       "model_id": "",
       "version_major": 2,
       "version_minor": 0
      },
      "text/plain": [
       "FloatProgress(value=0.0, bar_style='info', description='Progress:', layout=Layout(height='25px', width='50%'),…"
      ]
     },
     "metadata": {},
     "output_type": "display_data"
    },
    {
     "name": "stdout",
     "output_type": "stream",
     "text": [
      "              LinReg  DecTrees  RandForest  GradBoost  MultiLPerceptron  \\\n",
      "list_metrics                                                              \n",
      "accuracy       0.869     0.884       0.872      0.906             0.873   \n",
      "precision      0.760     0.853       0.845      0.871             0.679   \n",
      "recall         0.611     0.584       0.527      0.680             0.824   \n",
      "f1_score       0.677     0.693       0.649      0.764             0.744   \n",
      "auc_roc        0.891     0.621       0.900      0.934             0.926   \n",
      "auc_pr         0.764     0.540       0.788      0.867             0.848   \n",
      "\n",
      "              LinearSVM  \n",
      "list_metrics             \n",
      "accuracy          0.872  \n",
      "precision         0.770  \n",
      "recall            0.615  \n",
      "f1_score          0.683  \n",
      "auc_roc           0.888  \n",
      "auc_pr            0.765"
     ]
    }
   ],
   "source": [
    "# create Pandas dataframe with metrics\n",
    "dict_metrics = {\"LinReg\": [acc_lr, prec_lr, rec_lr, f1_lr, roc_lr, pr_lr],\n",
    "                \"DecTrees\": [acc_dt, prec_dt, rec_dt, f1_dt, roc_dt, pr_dt], \n",
    "                \"RandForest\": [acc_rf, prec_rf, rec_rf, f1_rf, roc_rf, pr_rf],\n",
    "                \"GradBoost\": [acc_gbt, prec_gbt, rec_gbt, f1_gbt, roc_gbt, pr_gbt],\n",
    "                \"MultiLPerceptron\": [acc_mlpc, prec_mlpc, rec_mlpc, f1_mlpc, roc_mlpc, pr_mlpc],\n",
    "                \"LinearSVM\": [acc_lsvc, prec_lsvc, rec_lsvc, f1_lsvc, roc_lsvc, pr_lsvc],\n",
    "                \"list_metrics\" : [\"accuracy\", \"precision\", \"recall\", \"f1_score\", \"auc_roc\", \"auc_pr\"]\n",
    "               }\n",
    "pd.set_option('display.max_columns', None)\n",
    "df_mets = pd.DataFrame.from_dict(dict_metrics).set_index(\"list_metrics\")\n",
    "df_mets.round(3)"
   ]
  },
  {
   "cell_type": "code",
   "execution_count": 27,
   "id": "2ccbfefc",
   "metadata": {},
   "outputs": [
    {
     "data": {
      "application/vnd.jupyter.widget-view+json": {
       "model_id": "fc505937333b4305a3c3ce96511c5ad6",
       "version_major": 2,
       "version_minor": 0
      },
      "text/plain": [
       "VBox()"
      ]
     },
     "metadata": {},
     "output_type": "display_data"
    },
    {
     "data": {
      "application/vnd.jupyter.widget-view+json": {
       "model_id": "",
       "version_major": 2,
       "version_minor": 0
      },
      "text/plain": [
       "FloatProgress(value=0.0, bar_style='info', description='Progress:', layout=Layout(height='25px', width='50%'),…"
      ]
     },
     "metadata": {},
     "output_type": "display_data"
    },
    {
     "data": {
      "image/png": "[encoded data removed]",
      "text/plain": [
       "<IPython.core.display.Image object>"
      ]
     },
     "metadata": {},
     "output_type": "display_data"
    }
   ],
   "source": [
    "# to avoid stacking the plots, uncomment for AWS\n",
    "plt.clf()\n",
    "\n",
    "# adjust figure size and font size\n",
    "sns.set(rc = {\"figure.figsize\":(12,4)})\n",
    "\n",
    "sns.set(font_scale=1)\n",
    "ax = df_mets.plot.bar(y=[\"LinReg\", \"DecTrees\", \n",
    "                         \"RandForest\", \"GradBoost\", \n",
    "                         \"MultiLPerceptron\", \"LinearSVM\"], rot=0)\n",
    "plt.legend(bbox_to_anchor=(1.04,1), loc=\"upper left\")\n",
    "\n",
    "# create title and labels\n",
    "plt.title(\"Confusion Matrix Metrics For Sparkify Train Dataset\")\n",
    "ax.set_xlabel(\"\");\n",
    "ax.set_ylabel(\"\");\n",
    "\n",
    "# display the plot, uncomment for AWS\n",
    "%matplot plt"
   ]
  },
  {
   "cell_type": "markdown",
   "id": "0b474f1f",
   "metadata": {},
   "source": [
    "## <font color='blue'>Tune Hyperparameters for the Best Classifiers</font>"
   ]
  },
  {
   "cell_type": "markdown",
   "id": "549549df",
   "metadata": {},
   "source": [
    "### <font color='blue'>Multilayer Perceptron Classifier Tuning</font>"
   ]
  },
  {
   "cell_type": "code",
   "execution_count": 28,
   "id": "163e5880",
   "metadata": {},
   "outputs": [
    {
     "data": {
      "application/vnd.jupyter.widget-view+json": {
       "model_id": "5b79aa2278f642ebb8e9f06f2458c498",
       "version_major": 2,
       "version_minor": 0
      },
      "text/plain": [
       "VBox()"
      ]
     },
     "metadata": {},
     "output_type": "display_data"
    },
    {
     "data": {
      "application/vnd.jupyter.widget-view+json": {
       "model_id": "",
       "version_major": 2,
       "version_minor": 0
      },
      "text/plain": [
       "FloatProgress(value=0.0, bar_style='info', description='Progress:', layout=Layout(height='25px', width='50%'),…"
      ]
     },
     "metadata": {},
     "output_type": "display_data"
    },
    {
     "name": "stderr",
     "output_type": "stream",
     "text": [
      "Exception in thread cell_monitor-27:\n",
      "Traceback (most recent call last):\n",
      "  File \"/mnt/notebook-env/lib/python3.7/threading.py\", line 926, in _bootstrap_inner\n",
      "    self.run()\n",
      "  File \"/mnt/notebook-env/lib/python3.7/threading.py\", line 870, in run\n",
      "    self._target(*self._args, **self._kwargs)\n",
      "  File \"/mnt/notebook-env/lib/python3.7/site-packages/awseditorssparkmonitoringwidget-1.0-py3.7.egg/awseditorssparkmonitoringwidget/cellmonitor.py\", line 154, in cell_monitor\n",
      "    job_group_filtered_jobs = [job for job in jobs_data if job['jobGroup'] == str(statement_id)]\n",
      "  File \"/mnt/notebook-env/lib/python3.7/site-packages/awseditorssparkmonitoringwidget-1.0-py3.7.egg/awseditorssparkmonitoringwidget/cellmonitor.py\", line 154, in <listcomp>\n",
      "    job_group_filtered_jobs = [job for job in jobs_data if job['jobGroup'] == str(statement_id)]\n",
      "KeyError: 'jobGroup'\n",
      "\n"
     ]
    },
    {
     "name": "stdout",
     "output_type": "stream",
     "text": [
      "\n",
      "Training MULTILAYER PERCEPTRON CLASSIFIER\n",
      "\n",
      "Models trained: 18\n",
      "\n",
      "Training time.........67.984 min"
     ]
    }
   ],
   "source": [
    "# this is the best classifier for the full dataset\n",
    "print(\"\")\n",
    "print(f\"Training MULTILAYER PERCEPTRON CLASSIFIER\")\n",
    "print(\"\")\n",
    "\n",
    "# specify layers: 18 (features), two hidden (8, 4), output 2 (classes)\n",
    "layers=[18, 8, 4, 2]\n",
    "# create the trainer and set its parameters\n",
    "classifier_mlpc = MultilayerPerceptronClassifier(labelCol = labelCol,\n",
    "                                                featuresCol = featuresCol,\n",
    "                                                layers=layers,\n",
    "                                                seed=1234)\n",
    "# build specific pipeline\n",
    "pipeline_mlpc = build_full_pipeline(classifier_mlpc)\n",
    "\n",
    "# create a list of parameters for Multilayer Perceptron\n",
    "param_mlpc = ParamGridBuilder() \\\n",
    "        .addGrid(classifier_mlpc.maxIter, [100, 200]) \\\n",
    "        .addGrid(classifier_mlpc.blockSize, [16, 64, 128]) \\\n",
    "        .addGrid(classifier_mlpc.stepSize, [0.01, 0.03, 0.1]) \\\n",
    "        .build()\n",
    "\n",
    "print(f\"Models trained: {len(param_mlpc)}\")\n",
    "\n",
    "# build the grid search pipeline\n",
    "mlpc = grid_search_model(pipeline_mlpc, param_mlpc)\n",
    "\n",
    "# start timer\n",
    "start_time = time.time()\n",
    "\n",
    "# train the model\n",
    "model_mlpc = mlpc.fit(train_cached)\n",
    "\n",
    "# drop the train set from memory at this point, uncomment on AWS\n",
    "#train_cached.unpersist()\n",
    "\n",
    "# stop timer\n",
    "end_time = time.time()\n",
    "\n",
    "# evaluate the trainining time in minutes \n",
    "train_time = (end_time - start_time)/60\n",
    "\n",
    "# print the training time\n",
    "print(\"\")\n",
    "print(\"Training time.........%6.3f min\" % train_time)\n",
    "\n",
    "# create the predictions dataset\n",
    "predictions_mlpc = model_mlpc.transform(test_cached)\n",
    "\n",
    "# choose an evaluator\n",
    "evaluator = BinaryClassificationEvaluator()\n",
    "evaluator.setLabelCol(labelCol)\n",
    "\n",
    "# calculate roc and pr scores\n",
    "roc_mlpc = evaluator.evaluate(predictions_mlpc, {evaluator.metricName: \"areaUnderROC\"})\n",
    "pr_mlpc = evaluator.evaluate(predictions_mlpc, {evaluator.metricName: \"areaUnderPR\"})\n",
    "\n",
    "# record the confusion matrix metrics\n",
    "acc_mlpc, prec_mlpc, rec_mlpc, f1_mlpc = conf_metrics(predictions_mlpc)"
   ]
  },
  {
   "cell_type": "code",
   "execution_count": 29,
   "id": "d53459e2",
   "metadata": {},
   "outputs": [
    {
     "data": {
      "application/vnd.jupyter.widget-view+json": {
       "model_id": "b1193d7f375643479730b7951bb08b5c",
       "version_major": 2,
       "version_minor": 0
      },
      "text/plain": [
       "VBox()"
      ]
     },
     "metadata": {},
     "output_type": "display_data"
    },
    {
     "data": {
      "application/vnd.jupyter.widget-view+json": {
       "model_id": "",
       "version_major": 2,
       "version_minor": 0
      },
      "text/plain": [
       "FloatProgress(value=0.0, bar_style='info', description='Progress:', layout=Layout(height='25px', width='50%'),…"
      ]
     },
     "metadata": {},
     "output_type": "display_data"
    },
    {
     "name": "stderr",
     "output_type": "stream",
     "text": [
      "Exception in thread cell_monitor-28:\n",
      "Traceback (most recent call last):\n",
      "  File \"/mnt/notebook-env/lib/python3.7/threading.py\", line 926, in _bootstrap_inner\n",
      "    self.run()\n",
      "  File \"/mnt/notebook-env/lib/python3.7/threading.py\", line 870, in run\n",
      "    self._target(*self._args, **self._kwargs)\n",
      "  File \"/mnt/notebook-env/lib/python3.7/site-packages/awseditorssparkmonitoringwidget-1.0-py3.7.egg/awseditorssparkmonitoringwidget/cellmonitor.py\", line 154, in cell_monitor\n",
      "    job_group_filtered_jobs = [job for job in jobs_data if job['jobGroup'] == str(statement_id)]\n",
      "  File \"/mnt/notebook-env/lib/python3.7/site-packages/awseditorssparkmonitoringwidget-1.0-py3.7.egg/awseditorssparkmonitoringwidget/cellmonitor.py\", line 154, in <listcomp>\n",
      "    job_group_filtered_jobs = [job for job in jobs_data if job['jobGroup'] == str(statement_id)]\n",
      "KeyError: 'jobGroup'\n",
      "\n"
     ]
    },
    {
     "name": "stdout",
     "output_type": "stream",
     "text": [
      "\n",
      "\n",
      "Confusion Matrix\n",
      "+-----+----------+-----+\n",
      "|label|prediction|count|\n",
      "+-----+----------+-----+\n",
      "|  1.0|       1.0| 1224|\n",
      "|  0.0|       1.0|  598|\n",
      "|  1.0|       0.0|  249|\n",
      "|  0.0|       0.0| 4485|\n",
      "+-----+----------+-----+\n",
      "\n",
      "\n",
      "accuracy............... 0.871\n",
      "precision.............. 0.672\n",
      "recall................. 0.831\n",
      "F1..................... 0.743\n",
      "auc_roc................ 0.930\n",
      "auc_pr................. 0.841"
     ]
    }
   ],
   "source": [
    "# print all evaluation metrics\n",
    "print(\"\")\n",
    "display_metrics(predictions_mlpc, roc_mlpc, pr_mlpc)\n",
    "print(\"\")"
   ]
  },
  {
   "cell_type": "code",
   "execution_count": 30,
   "id": "60a6d9b2",
   "metadata": {},
   "outputs": [
    {
     "data": {
      "application/vnd.jupyter.widget-view+json": {
       "model_id": "635775d19aef4844b8003c4876156ba3",
       "version_major": 2,
       "version_minor": 0
      },
      "text/plain": [
       "VBox()"
      ]
     },
     "metadata": {},
     "output_type": "display_data"
    },
    {
     "data": {
      "application/vnd.jupyter.widget-view+json": {
       "model_id": "",
       "version_major": 2,
       "version_minor": 0
      },
      "text/plain": [
       "FloatProgress(value=0.0, bar_style='info', description='Progress:', layout=Layout(height='25px', width='50%'),…"
      ]
     },
     "metadata": {},
     "output_type": "display_data"
    },
    {
     "name": "stdout",
     "output_type": "stream",
     "text": [
      "The best hyperparameter values from the grid:\n",
      "maxIter:.......... 100\n",
      "blockSize:........... 128\n",
      "stepSize:......... 0.01"
     ]
    },
    {
     "name": "stderr",
     "output_type": "stream",
     "text": [
      "Exception in thread cell_monitor-29:\n",
      "Traceback (most recent call last):\n",
      "  File \"/mnt/notebook-env/lib/python3.7/threading.py\", line 926, in _bootstrap_inner\n",
      "    self.run()\n",
      "  File \"/mnt/notebook-env/lib/python3.7/threading.py\", line 870, in run\n",
      "    self._target(*self._args, **self._kwargs)\n",
      "  File \"/mnt/notebook-env/lib/python3.7/site-packages/awseditorssparkmonitoringwidget-1.0-py3.7.egg/awseditorssparkmonitoringwidget/cellmonitor.py\", line 154, in cell_monitor\n",
      "    job_group_filtered_jobs = [job for job in jobs_data if job['jobGroup'] == str(statement_id)]\n",
      "  File \"/mnt/notebook-env/lib/python3.7/site-packages/awseditorssparkmonitoringwidget-1.0-py3.7.egg/awseditorssparkmonitoringwidget/cellmonitor.py\", line 154, in <listcomp>\n",
      "    job_group_filtered_jobs = [job for job in jobs_data if job['jobGroup'] == str(statement_id)]\n",
      "KeyError: 'jobGroup'\n",
      "\n"
     ]
    }
   ],
   "source": [
    "# print the best parameters from the grid\n",
    "best_param_mlpc = list(model_mlpc.getEstimatorParamMaps()[np.argmax(model_mlpc.avgMetrics)].values())\n",
    "param_mlpc1 = best_param_mlpc[0]\n",
    "param_mlpc2 = best_param_mlpc[1]\n",
    "param_mlpc3 = best_param_mlpc[2]\n",
    "print(\"The best hyperparameter values from the grid:\")\n",
    "print(\"maxIter:..........\", param_mlpc1)\n",
    "print(\"blockSize:...........\", param_mlpc2)\n",
    "print(\"stepSize:.........\", param_mlpc3)\n"
   ]
  },
  {
   "cell_type": "code",
   "execution_count": 31,
   "id": "3bd60c83",
   "metadata": {},
   "outputs": [
    {
     "data": {
      "application/vnd.jupyter.widget-view+json": {
       "model_id": "6c7efff05dc34b3b923634376c652833",
       "version_major": 2,
       "version_minor": 0
      },
      "text/plain": [
       "VBox()"
      ]
     },
     "metadata": {},
     "output_type": "display_data"
    },
    {
     "data": {
      "application/vnd.jupyter.widget-view+json": {
       "model_id": "",
       "version_major": 2,
       "version_minor": 0
      },
      "text/plain": [
       "FloatProgress(value=0.0, bar_style='info', description='Progress:', layout=Layout(height='25px', width='50%'),…"
      ]
     },
     "metadata": {},
     "output_type": "display_data"
    },
    {
     "name": "stderr",
     "output_type": "stream",
     "text": [
      "Exception in thread cell_monitor-30:\n",
      "Traceback (most recent call last):\n",
      "  File \"/mnt/notebook-env/lib/python3.7/threading.py\", line 926, in _bootstrap_inner\n",
      "    self.run()\n",
      "  File \"/mnt/notebook-env/lib/python3.7/threading.py\", line 870, in run\n",
      "    self._target(*self._args, **self._kwargs)\n",
      "  File \"/mnt/notebook-env/lib/python3.7/site-packages/awseditorssparkmonitoringwidget-1.0-py3.7.egg/awseditorssparkmonitoringwidget/cellmonitor.py\", line 154, in cell_monitor\n",
      "    job_group_filtered_jobs = [job for job in jobs_data if job['jobGroup'] == str(statement_id)]\n",
      "  File \"/mnt/notebook-env/lib/python3.7/site-packages/awseditorssparkmonitoringwidget-1.0-py3.7.egg/awseditorssparkmonitoringwidget/cellmonitor.py\", line 154, in <listcomp>\n",
      "    job_group_filtered_jobs = [job for job in jobs_data if job['jobGroup'] == str(statement_id)]\n",
      "KeyError: 'jobGroup'\n",
      "\n"
     ]
    },
    {
     "data": {
      "image/png": "[encoded data removed]",
      "text/plain": [
       "<IPython.core.display.Image object>"
      ]
     },
     "metadata": {},
     "output_type": "display_data"
    }
   ],
   "source": [
    "plt.clf()\n",
    "\n",
    "# plot the ROC and PR curves\n",
    "plot_roc_pr_curves(predictions_mlpc, \"MLPC\")\n",
    "\n",
    "%matplot plt"
   ]
  },
  {
   "cell_type": "markdown",
   "id": "268b8792",
   "metadata": {},
   "source": [
    "### <font color='blue'>Gradient Boosted Trees Classifier Tuning</font>"
   ]
  },
  {
   "cell_type": "code",
   "execution_count": 32,
   "id": "625c26c8",
   "metadata": {},
   "outputs": [
    {
     "data": {
      "application/vnd.jupyter.widget-view+json": {
       "model_id": "55de86645fd74f5794041fe10d7db029",
       "version_major": 2,
       "version_minor": 0
      },
      "text/plain": [
       "VBox()"
      ]
     },
     "metadata": {},
     "output_type": "display_data"
    },
    {
     "data": {
      "application/vnd.jupyter.widget-view+json": {
       "model_id": "",
       "version_major": 2,
       "version_minor": 0
      },
      "text/plain": [
       "FloatProgress(value=0.0, bar_style='info', description='Progress:', layout=Layout(height='25px', width='50%'),…"
      ]
     },
     "metadata": {},
     "output_type": "display_data"
    },
    {
     "name": "stderr",
     "output_type": "stream",
     "text": [
      "Exception in thread cell_monitor-31:\n",
      "Traceback (most recent call last):\n",
      "  File \"/mnt/notebook-env/lib/python3.7/threading.py\", line 926, in _bootstrap_inner\n",
      "    self.run()\n",
      "  File \"/mnt/notebook-env/lib/python3.7/threading.py\", line 870, in run\n",
      "    self._target(*self._args, **self._kwargs)\n",
      "  File \"/mnt/notebook-env/lib/python3.7/site-packages/awseditorssparkmonitoringwidget-1.0-py3.7.egg/awseditorssparkmonitoringwidget/cellmonitor.py\", line 154, in cell_monitor\n",
      "    job_group_filtered_jobs = [job for job in jobs_data if job['jobGroup'] == str(statement_id)]\n",
      "  File \"/mnt/notebook-env/lib/python3.7/site-packages/awseditorssparkmonitoringwidget-1.0-py3.7.egg/awseditorssparkmonitoringwidget/cellmonitor.py\", line 154, in <listcomp>\n",
      "    job_group_filtered_jobs = [job for job in jobs_data if job['jobGroup'] == str(statement_id)]\n",
      "KeyError: 'jobGroup'\n",
      "\n"
     ]
    },
    {
     "name": "stdout",
     "output_type": "stream",
     "text": [
      "\n",
      "Training GRADIENT BOOSTED TREES\n",
      "\n",
      "Models trained: 4\n",
      "\n",
      "Training time.........193.554 min"
     ]
    }
   ],
   "source": [
    "print(\"\")\n",
    "print(f\"Training GRADIENT BOOSTED TREES\")\n",
    "print(\"\")\n",
    "\n",
    "# instantiate the classifier\n",
    "classifier_gbt = GBTClassifier(labelCol = labelCol,\n",
    "                               featuresCol = featuresCol,\n",
    "                               seed=1234)\n",
    "# build specific pipeline\n",
    "pipeline_gbt = build_full_pipeline(classifier_gbt)\n",
    "\n",
    "# create the parmeters list\n",
    "param_gbt = ParamGridBuilder() \\\n",
    "        .addGrid(classifier_gbt.maxDepth, [15]) \\\n",
    "        .addGrid(classifier_gbt.maxBins, [32]) \\\n",
    "        .addGrid(classifier_gbt.maxIter, [10, 20]) \\\n",
    "        .addGrid(classifier_gbt.stepSize, [0.05, 0.1]) \\\n",
    "        .build()\n",
    "\n",
    "print(f\"Models trained: {len(param_gbt)}\")\n",
    "\n",
    "# build the grid search model\n",
    "gbt = grid_search_model(pipeline_gbt, param_gbt)\n",
    "\n",
    "# start timer\n",
    "start_time = time.time()\n",
    "\n",
    "# train the model\n",
    "model_gbt = gbt.fit(train_cached)\n",
    "\n",
    "# stop timer\n",
    "end_time = time.time()\n",
    "\n",
    "# evaluate the trainining time in minutes \n",
    "train_time = (end_time - start_time)/60\n",
    "\n",
    "# print the training time\n",
    "print(\"\")\n",
    "print(\"Training time.........%6.3f min\" % train_time)\n",
    "\n",
    "# create the predictions dataset\n",
    "predictions_gbt = model_gbt.transform(test_cached)\n",
    "\n",
    "# choose an evaluator\n",
    "evaluator = BinaryClassificationEvaluator()\n",
    "evaluator.setLabelCol(labelCol)\n",
    "\n",
    "# calculate roc and pr scores\n",
    "roc_gbt = evaluator.evaluate(predictions_gbt, {evaluator.metricName: \"areaUnderROC\"})\n",
    "pr_gbt = evaluator.evaluate(predictions_gbt, {evaluator.metricName: \"areaUnderPR\"})\n",
    "\n",
    "# record the confusion matrix metrics\n",
    "acc_gbt, prec_gbt, rec_gbt, f1_gbt = conf_metrics(predictions_gbt)"
   ]
  },
  {
   "cell_type": "code",
   "execution_count": 33,
   "id": "a7f68c4a",
   "metadata": {},
   "outputs": [
    {
     "data": {
      "application/vnd.jupyter.widget-view+json": {
       "model_id": "a1821f40adae4d9cb5e7c5ecc58f01ff",
       "version_major": 2,
       "version_minor": 0
      },
      "text/plain": [
       "VBox()"
      ]
     },
     "metadata": {},
     "output_type": "display_data"
    },
    {
     "data": {
      "application/vnd.jupyter.widget-view+json": {
       "model_id": "",
       "version_major": 2,
       "version_minor": 0
      },
      "text/plain": [
       "FloatProgress(value=0.0, bar_style='info', description='Progress:', layout=Layout(height='25px', width='50%'),…"
      ]
     },
     "metadata": {},
     "output_type": "display_data"
    },
    {
     "name": "stderr",
     "output_type": "stream",
     "text": [
      "Exception in thread cell_monitor-32:\n",
      "Traceback (most recent call last):\n",
      "  File \"/mnt/notebook-env/lib/python3.7/threading.py\", line 926, in _bootstrap_inner\n",
      "    self.run()\n",
      "  File \"/mnt/notebook-env/lib/python3.7/threading.py\", line 870, in run\n",
      "    self._target(*self._args, **self._kwargs)\n",
      "  File \"/mnt/notebook-env/lib/python3.7/site-packages/awseditorssparkmonitoringwidget-1.0-py3.7.egg/awseditorssparkmonitoringwidget/cellmonitor.py\", line 178, in cell_monitor\n",
      "    job_binned_stages[job_id][stage_id] = all_stages[stage_id]\n",
      "KeyError: 68285\n",
      "\n"
     ]
    },
    {
     "name": "stdout",
     "output_type": "stream",
     "text": [
      "\n",
      "GBT: Evaluation metrics on the test set\n",
      "\n",
      "Confusion Matrix\n",
      "+-----+----------+-----+\n",
      "|label|prediction|count|\n",
      "+-----+----------+-----+\n",
      "|  1.0|       1.0|  989|\n",
      "|  0.0|       1.0|  422|\n",
      "|  1.0|       0.0|  484|\n",
      "|  0.0|       0.0| 4661|\n",
      "+-----+----------+-----+\n",
      "\n",
      "\n",
      "accuracy............... 0.862\n",
      "precision.............. 0.701\n",
      "recall................. 0.671\n",
      "F1..................... 0.686\n",
      "auc_roc................ 0.892\n",
      "auc_pr................. 0.780"
     ]
    }
   ],
   "source": [
    "# print all evaluation metrics\n",
    "print(\"\")\n",
    "print(\"GBT: Evaluation metrics on the test set\")\n",
    "display_metrics(predictions_gbt, roc_gbt, pr_gbt)\n",
    "print(\"\")"
   ]
  },
  {
   "cell_type": "code",
   "execution_count": 35,
   "id": "181d6e27",
   "metadata": {},
   "outputs": [
    {
     "data": {
      "application/vnd.jupyter.widget-view+json": {
       "model_id": "ccb4d8711cc7436b9c965bccfcaf9fee",
       "version_major": 2,
       "version_minor": 0
      },
      "text/plain": [
       "VBox()"
      ]
     },
     "metadata": {},
     "output_type": "display_data"
    },
    {
     "data": {
      "application/vnd.jupyter.widget-view+json": {
       "model_id": "",
       "version_major": 2,
       "version_minor": 0
      },
      "text/plain": [
       "FloatProgress(value=0.0, bar_style='info', description='Progress:', layout=Layout(height='25px', width='50%'),…"
      ]
     },
     "metadata": {},
     "output_type": "display_data"
    },
    {
     "name": "stdout",
     "output_type": "stream",
     "text": [
      "The best hyperparameter values from the grid:\n",
      "maxDepth:......... 15\n",
      "maxBins:.......... 32\n",
      "maxIter:........... 20\n",
      "stepSize:......... 0.1"
     ]
    }
   ],
   "source": [
    "# print the best parameters from the grid\n",
    "best_param_gbt = list(model_gbt.getEstimatorParamMaps()[np.argmax(model_gbt.avgMetrics)].values())\n",
    "param_gbt1 = best_param_gbt[0]\n",
    "param_gbt2 = best_param_gbt[1]\n",
    "param_gbt3 = best_param_gbt[2]\n",
    "param_gbt4 = best_param_gbt[3]\n",
    "print(\"The best hyperparameter values from the grid:\")\n",
    "print(\"maxDepth:.........\", param_gbt1)\n",
    "print(\"maxBins:..........\", param_gbt2)\n",
    "print(\"maxIter:...........\", param_gbt3)\n",
    "print(\"stepSize:.........\", param_gbt4)"
   ]
  },
  {
   "cell_type": "code",
   "execution_count": 36,
   "id": "d52e48c5",
   "metadata": {},
   "outputs": [
    {
     "data": {
      "application/vnd.jupyter.widget-view+json": {
       "model_id": "78f49fdf98c94b46bd313f0c06b20fbb",
       "version_major": 2,
       "version_minor": 0
      },
      "text/plain": [
       "VBox()"
      ]
     },
     "metadata": {},
     "output_type": "display_data"
    },
    {
     "data": {
      "application/vnd.jupyter.widget-view+json": {
       "model_id": "",
       "version_major": 2,
       "version_minor": 0
      },
      "text/plain": [
       "FloatProgress(value=0.0, bar_style='info', description='Progress:', layout=Layout(height='25px', width='50%'),…"
      ]
     },
     "metadata": {},
     "output_type": "display_data"
    },
    {
     "data": {
      "image/png": "[encoded data removed]",
      "text/plain": [
       "<IPython.core.display.Image object>"
      ]
     },
     "metadata": {},
     "output_type": "display_data"
    }
   ],
   "source": [
    "plt.clf()\n",
    "\n",
    "# plot the ROC and PR curves\n",
    "plot_roc_pr_curves(predictions_gbt, \"GBT\")\n",
    "\n",
    "%matplot plt"
   ]
  },
  {
   "cell_type": "markdown",
   "id": "b87c4a35",
   "metadata": {},
   "source": [
    "### <font color='blue'>Compare Tuned Classifiers</font>"
   ]
  },
  {
   "cell_type": "code",
   "execution_count": 37,
   "id": "a55dba14",
   "metadata": {},
   "outputs": [
    {
     "data": {
      "application/vnd.jupyter.widget-view+json": {
       "model_id": "5129785b974547c492fe247c8a9e3c3c",
       "version_major": 2,
       "version_minor": 0
      },
      "text/plain": [
       "VBox()"
      ]
     },
     "metadata": {},
     "output_type": "display_data"
    },
    {
     "data": {
      "application/vnd.jupyter.widget-view+json": {
       "model_id": "",
       "version_major": 2,
       "version_minor": 0
      },
      "text/plain": [
       "FloatProgress(value=0.0, bar_style='info', description='Progress:', layout=Layout(height='25px', width='50%'),…"
      ]
     },
     "metadata": {},
     "output_type": "display_data"
    }
   ],
   "source": [
    "# function to plot the ROC and PR curves of the two best models\n",
    "def plot_roc_pr_best_curves(predictions_model1, predictions_model2, model1, model2):\n",
    "    \n",
    "    \"\"\"\n",
    "    Plots the ROC and PR curves for two models on the same graphs.\n",
    "    \n",
    "    INPUT:\n",
    "        predictions_model1 (PySpark dataframe) - contains probability predictions for the first model\n",
    "        predictions_model2 (PySpark dataframe) - contains probability predictions for the second model\n",
    "        model1, model2 (str) - abreviated model names\n",
    "        \n",
    "    OUTPUT:\n",
    "        none - two plots are displayed\n",
    "        \n",
    "    \"\"\"\n",
    "    \n",
    "    # transform predictions PySpark dataframe into Pandas dataframe\n",
    "    pred1_pandas = predictions_model1.select(predictions_model1.label, \n",
    "                                             predictions_model1.probability).toPandas()\n",
    "    pred2_pandas = predictions_model2.select(predictions_model2.label, \n",
    "                                             predictions_model2.probability).toPandas()\n",
    "    \n",
    "    # calculate roc_auc scores\n",
    "    roc_auc1 = roc_auc_score(pred1_pandas.label, pred1_pandas.probability.str[1])\n",
    "    # calculate roc_auc scores\n",
    "    roc_auc2 = roc_auc_score(pred2_pandas.label, pred2_pandas.probability.str[1])\n",
    "    \n",
    "    # calculate roc curves for model 1\n",
    "    fpr1, tpr1, _ = roc_curve(pred1_pandas.label, pred1_pandas.probability.str[1])\n",
    "    # calculate roc curves for model 2\n",
    "    fpr2, tpr2, _ = roc_curve(pred2_pandas.label, pred2_pandas.probability.str[1])\n",
    "   \n",
    "    # calculate precision, recall for each threshold for the first model\n",
    "    precision1, recall1, _ = precision_recall_curve(pred1_pandas.label, \n",
    "                                                    pred1_pandas.probability.str[1])\n",
    "    # calculate pr auc score for the first model\n",
    "    pr_auc1 = auc(recall1, precision1)\n",
    "    \n",
    "    # calculate precision, recall for each threshold for the second model\n",
    "    precision2, recall2, _ = precision_recall_curve(pred2_pandas.label, \n",
    "                                                    pred2_pandas.probability.str[1])\n",
    "    # calculate pr auc score for the second model\n",
    "    pr_auc2 = auc(recall2, precision2)\n",
    "    \n",
    "    # create figure which contains two subplots\n",
    "    plt.figure(figsize=[12,6])\n",
    "    \n",
    "    plt.subplot(121)\n",
    "    \n",
    "    # plot the roc curves\n",
    "    plt.plot(fpr1, tpr1, marker='.', color='firebrick', label=model1 + ': ROC AUC = %.3f' % (roc_auc1))\n",
    "    plt.plot(fpr2, tpr2, marker='.', color='green', label=model2 + ': ROC AUC = %.3f' % (roc_auc2))\n",
    "    # axis labels\n",
    "    plt.xlabel('False Positive Rate')\n",
    "    plt.ylabel('True Positive Rate')\n",
    "    # show the legend\n",
    "    plt.legend()\n",
    "    # figure title\n",
    "    plt.title(\"ROC Curves\")\n",
    "    \n",
    "    plt.subplot(122)\n",
    "    \n",
    "    # plot the precision-recall curves\n",
    "    plt.plot(recall1, precision1, marker='.', color=\"firebrick\", label=model1 + ': PR AUC = %.3f' % (pr_auc1))\n",
    "    plt.plot(recall2, precision2, marker='.', color=\"green\", label=model2 +': PR AUC = %.3f' % (pr_auc2))\n",
    "    # axis labels\n",
    "    plt.xlabel('Recall')\n",
    "    plt.ylabel('Precision')\n",
    "    # show the legend\n",
    "    plt.legend()\n",
    "    # figure title\n",
    "    plt.title(\"Precision-Recall Curves\")"
   ]
  },
  {
   "cell_type": "code",
   "execution_count": 38,
   "id": "ce0f05c4",
   "metadata": {},
   "outputs": [
    {
     "data": {
      "application/vnd.jupyter.widget-view+json": {
       "model_id": "65619880d51d4a959b944e5ed4c87b74",
       "version_major": 2,
       "version_minor": 0
      },
      "text/plain": [
       "VBox()"
      ]
     },
     "metadata": {},
     "output_type": "display_data"
    },
    {
     "data": {
      "application/vnd.jupyter.widget-view+json": {
       "model_id": "",
       "version_major": 2,
       "version_minor": 0
      },
      "text/plain": [
       "FloatProgress(value=0.0, bar_style='info', description='Progress:', layout=Layout(height='25px', width='50%'),…"
      ]
     },
     "metadata": {},
     "output_type": "display_data"
    },
    {
     "data": {
      "image/png": "[encoded data removed]",
      "text/plain": [
       "<IPython.core.display.Image object>"
      ]
     },
     "metadata": {},
     "output_type": "display_data"
    }
   ],
   "source": [
    "plt.clf()\n",
    "\n",
    "# plot the two pairs of curves for comparison\n",
    "plot_roc_pr_best_curves(predictions_mlpc, predictions_gbt, \"MLPC\", \"GBT\")\n",
    "\n",
    "%matplot plt"
   ]
  },
  {
   "cell_type": "code",
   "execution_count": 39,
   "id": "664630bb",
   "metadata": {},
   "outputs": [
    {
     "data": {
      "application/vnd.jupyter.widget-view+json": {
       "model_id": "a89451260770482a97b4fa506d7d5168",
       "version_major": 2,
       "version_minor": 0
      },
      "text/plain": [
       "VBox()"
      ]
     },
     "metadata": {},
     "output_type": "display_data"
    },
    {
     "data": {
      "application/vnd.jupyter.widget-view+json": {
       "model_id": "",
       "version_major": 2,
       "version_minor": 0
      },
      "text/plain": [
       "FloatProgress(value=0.0, bar_style='info', description='Progress:', layout=Layout(height='25px', width='50%'),…"
      ]
     },
     "metadata": {},
     "output_type": "display_data"
    },
    {
     "name": "stdout",
     "output_type": "stream",
     "text": [
      "              GradBoost  MultiLPerceptron\n",
      "list_metrics                             \n",
      "accuracy          0.862             0.871\n",
      "precision         0.701             0.672\n",
      "recall            0.671             0.831\n",
      "f1_score          0.686             0.743\n",
      "auc_roc           0.892             0.930\n",
      "auc_pr            0.780             0.841"
     ]
    }
   ],
   "source": [
    "# create Pandas dataframe with evaluation metrics for the best hyperparameters selection\n",
    "dict_metrics = {\"GradBoost\": [acc_gbt, prec_gbt, rec_gbt, f1_gbt, roc_gbt, pr_gbt],\n",
    "                \"MultiLPerceptron\": [acc_mlpc, prec_mlpc, rec_mlpc, f1_mlpc, roc_mlpc, pr_mlpc],\n",
    "                \"list_metrics\" : [\"accuracy\", \"precision\", \"recall\", \"f1_score\", \"auc_roc\", \"auc_pr\"]\n",
    "               }\n",
    "df_mets = pd.DataFrame.from_dict(dict_metrics).set_index(\"list_metrics\")\n",
    "df_mets.round(3)"
   ]
  },
  {
   "cell_type": "code",
   "execution_count": 40,
   "id": "defd07c0",
   "metadata": {},
   "outputs": [
    {
     "data": {
      "application/vnd.jupyter.widget-view+json": {
       "model_id": "bd7a9441a632447c9d4d1c163eb999d1",
       "version_major": 2,
       "version_minor": 0
      },
      "text/plain": [
       "VBox()"
      ]
     },
     "metadata": {},
     "output_type": "display_data"
    },
    {
     "data": {
      "application/vnd.jupyter.widget-view+json": {
       "model_id": "",
       "version_major": 2,
       "version_minor": 0
      },
      "text/plain": [
       "FloatProgress(value=0.0, bar_style='info', description='Progress:', layout=Layout(height='25px', width='50%'),…"
      ]
     },
     "metadata": {},
     "output_type": "display_data"
    },
    {
     "data": {
      "image/png": "[encoded data removed]",
      "text/plain": [
       "<IPython.core.display.Image object>"
      ]
     },
     "metadata": {},
     "output_type": "display_data"
    }
   ],
   "source": [
    "# barplot of the evaluation metrics for the two models, for comparison\n",
    "\n",
    "plt.clf()\n",
    "\n",
    "# adjust figure size and font size\n",
    "sns.set(rc = {\"figure.figsize\":(12,2)})\n",
    "\n",
    "sns.set(font_scale=1)\n",
    "ax = df_mets.plot.bar(y=[\"GradBoost\", \"MultiLPerceptron\"], rot=0)\n",
    "plt.legend(bbox_to_anchor=(1.04,1), loc=\"upper left\")\n",
    "\n",
    "# create title and labels\n",
    "plt.title(\"Evaluation Metrics For Two Best Classifiers\")\n",
    "ax.set_xlabel(\"\");\n",
    "ax.set_ylabel(\"\");\n",
    "\n",
    "%matplot plt"
   ]
  },
  {
   "cell_type": "code",
   "execution_count": null,
   "id": "91229ece",
   "metadata": {},
   "outputs": [],
   "source": []
  },
  {
   "cell_type": "code",
   "execution_count": null,
   "id": "32920c29",
   "metadata": {},
   "outputs": [],
   "source": []
  }
 ],
 "metadata": {
  "kernelspec": {
   "display_name": "PySpark",
   "language": "",
   "name": "pysparkkernel"
  },
  "language_info": {
   "codemirror_mode": {
    "name": "python",
    "version": 3
   },
   "mimetype": "text/x-python",
   "name": "pyspark",
   "pygments_lexer": "python3"
  }
 },
 "nbformat": 4,
 "nbformat_minor": 5
}
