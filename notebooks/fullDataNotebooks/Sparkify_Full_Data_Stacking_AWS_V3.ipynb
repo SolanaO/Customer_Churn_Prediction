{
 "cells": [
  {
   "cell_type": "code",
   "execution_count": 1,
   "id": "66e9a472",
   "metadata": {},
   "outputs": [
    {
     "data": {
      "text/html": [
       "Current session configs: <tt>{'conf': {'spark.pyspark.python': '/home/hadoop/path/to/venv/bin/python3'}, 'proxyUser': 'user_Solana', 'kind': 'pyspark'}</tt><br>"
      ],
      "text/plain": [
       "<IPython.core.display.HTML object>"
      ]
     },
     "metadata": {},
     "output_type": "display_data"
    },
    {
     "data": {
      "text/html": [
       "No active sessions."
      ],
      "text/plain": [
       "<IPython.core.display.HTML object>"
      ]
     },
     "metadata": {},
     "output_type": "display_data"
    }
   ],
   "source": [
    "%%configure -f\n",
    "{\"conf\": {\"spark.pyspark.python\":\"/home/hadoop/path/to/venv/bin/python3\"}}"
   ]
  },
  {
   "cell_type": "markdown",
   "id": "81c8c79e",
   "metadata": {},
   "source": [
    "# <font color='darkblue'> Sparkify Stacking Models on Full Dataset</font>"
   ]
  },
  {
   "cell_type": "markdown",
   "id": "9be42cad",
   "metadata": {},
   "source": [
    "<div class=\"alert alert-block alert-info\">\n",
    "\n",
    "This notebook is dedicated to the task of creating a stacking model based on individual classifiers available in PySpark. The model is fit and evaluated on subsets of the full Sparkify dataset.\n",
    "    <li> clean and preprocess the data</li>\n",
    "    <li> split the data in train, validation and test sets</li>\n",
    "    <li> train each of the base classifiers on the train set</li>\n",
    "    <li> have each base classifier make predictions on the validation set</li>\n",
    "    <li> create a meta-features dataset from the individual predictions</li>\n",
    "    <li> train a linear regression classifier on the meta-features dataset</li>\n",
    "    <li> evaluate the meta classifier on the test set</li>\n",
    "</div>"
   ]
  },
  {
   "cell_type": "markdown",
   "id": "8daf368f",
   "metadata": {},
   "source": [
    "## <font color='blue'>Build the Workspace</font>"
   ]
  },
  {
   "cell_type": "code",
   "execution_count": 2,
   "id": "2856e94e",
   "metadata": {},
   "outputs": [
    {
     "data": {
      "application/vnd.jupyter.widget-view+json": {
       "model_id": "3903fde4cdc44e05897a994eb95b7dc4",
       "version_major": 2,
       "version_minor": 0
      },
      "text/plain": [
       "VBox()"
      ]
     },
     "metadata": {},
     "output_type": "display_data"
    },
    {
     "name": "stdout",
     "output_type": "stream",
     "text": [
      "Starting Spark application\n"
     ]
    },
    {
     "data": {
      "text/html": [
       "<table>\n",
       "<tr><th>ID</th><th>YARN Application ID</th><th>Kind</th><th>State</th><th>Spark UI</th><th>Driver log</th><th>Current session?</th></tr><tr><td>0</td><td>application_1644455199024_0001</td><td>pyspark</td><td>idle</td><td><a target=\"_blank\" href=\"http://ip-172-31-10-17.us-east-2.compute.internal:20888/proxy/application_1644455199024_0001/\" class=\"emr-proxy-link\" emr-resource=\"j-18015DHSSWOI2\n",
       "\" application-id=\"application_1644455199024_0001\">Link</a></td><td><a target=\"_blank\" href=\"http://ip-172-31-3-33.us-east-2.compute.internal:8042/node/containerlogs/container_1644455199024_0001_01_000001/livy\" >Link</a></td><td>✔</td></tr></table>"
      ],
      "text/plain": [
       "<IPython.core.display.HTML object>"
      ]
     },
     "metadata": {},
     "output_type": "display_data"
    },
    {
     "data": {
      "application/vnd.jupyter.widget-view+json": {
       "model_id": "",
       "version_major": 2,
       "version_minor": 0
      },
      "text/plain": [
       "FloatProgress(value=0.0, bar_style='info', description='Progress:', layout=Layout(height='25px', width='50%'),…"
      ]
     },
     "metadata": {},
     "output_type": "display_data"
    },
    {
     "name": "stdout",
     "output_type": "stream",
     "text": [
      "SparkSession available as 'spark'.\n"
     ]
    },
    {
     "data": {
      "application/vnd.jupyter.widget-view+json": {
       "model_id": "",
       "version_major": 2,
       "version_minor": 0
      },
      "text/plain": [
       "FloatProgress(value=0.0, bar_style='info', description='Progress:', layout=Layout(height='25px', width='50%'),…"
      ]
     },
     "metadata": {},
     "output_type": "display_data"
    }
   ],
   "source": [
    "# import PySpark libraries and packages\n",
    "\n",
    "import pyspark\n",
    "from pyspark import SparkContext\n",
    "from pyspark import SparkConf\n",
    "\n",
    "from pyspark.sql import SparkSession\n",
    "from pyspark.sql.window import Window as W\n",
    "\n",
    "from pyspark.sql.types import (\n",
    "    StringType,\n",
    "    IntegerType, \n",
    "    DateType, \n",
    "    TimestampType,\n",
    "    )\n",
    "\n",
    "from pyspark.sql.functions import (\n",
    "    min as Fmin, max as Fmax, \n",
    "    sum as Fsum, round as Fround, \n",
    "    \n",
    "    col, lit, \n",
    "    first, last, \n",
    "    desc, asc,\n",
    "    avg, count, countDistinct, \n",
    "    when, isnull, isnan,\n",
    "    from_unixtime, \n",
    "    datediff,\n",
    "    )\n",
    "\n",
    "# libraries and packages for modeling\n",
    "\n",
    "from pyspark.ml import Pipeline\n",
    "\n",
    "from pyspark.ml.feature import (\n",
    "    StringIndexer, \n",
    "    OneHotEncoder, \n",
    "    VectorAssembler, \n",
    "    StandardScaler\n",
    ")\n",
    "from pyspark.ml.feature import (\n",
    "    OneHotEncoder, \n",
    "    OneHotEncoderModel\n",
    ")\n",
    "\n",
    "from pyspark.ml.classification import (\n",
    "    LogisticRegression,\n",
    "    DecisionTreeClassifier,\n",
    "    RandomForestClassifier,\n",
    "    GBTClassifier,\n",
    "    MultilayerPerceptronClassifier,\n",
    "    LinearSVC\n",
    ")\n",
    "\n",
    "from pyspark.ml.evaluation import BinaryClassificationEvaluator\n",
    "from pyspark.ml.tuning import CrossValidator, ParamGridBuilder"
   ]
  },
  {
   "cell_type": "code",
   "execution_count": 3,
   "id": "0de6797e",
   "metadata": {},
   "outputs": [
    {
     "data": {
      "application/vnd.jupyter.widget-view+json": {
       "model_id": "27028d241bbc45a9a2be201baa3846b6",
       "version_major": 2,
       "version_minor": 0
      },
      "text/plain": [
       "VBox()"
      ]
     },
     "metadata": {},
     "output_type": "display_data"
    },
    {
     "data": {
      "application/vnd.jupyter.widget-view+json": {
       "model_id": "",
       "version_major": 2,
       "version_minor": 0
      },
      "text/plain": [
       "FloatProgress(value=0.0, bar_style='info', description='Progress:', layout=Layout(height='25px', width='50%'),…"
      ]
     },
     "metadata": {},
     "output_type": "display_data"
    }
   ],
   "source": [
    "# build a Spark session using the SparkSession APIs\n",
    "\n",
    "spark = (SparkSession\n",
    "        .builder\n",
    "        .appName(\"Sparkify\")\n",
    "        .getOrCreate())"
   ]
  },
  {
   "cell_type": "code",
   "execution_count": 4,
   "id": "b9cae349",
   "metadata": {},
   "outputs": [
    {
     "data": {
      "application/vnd.jupyter.widget-view+json": {
       "model_id": "b08ef74c62e04e928e705d39f046d20b",
       "version_major": 2,
       "version_minor": 0
      },
      "text/plain": [
       "VBox()"
      ]
     },
     "metadata": {},
     "output_type": "display_data"
    },
    {
     "data": {
      "application/vnd.jupyter.widget-view+json": {
       "model_id": "",
       "version_major": 2,
       "version_minor": 0
      },
      "text/plain": [
       "FloatProgress(value=0.0, bar_style='info', description='Progress:', layout=Layout(height='25px', width='50%'),…"
      ]
     },
     "metadata": {},
     "output_type": "display_data"
    }
   ],
   "source": [
    "# import python libraries\n",
    "\n",
    "import time\n",
    "import numpy as np\n",
    "import pandas as pd\n",
    "import matplotlib.pyplot as plt\n",
    "\n",
    "# import sklearn metrics related packages\n",
    "\n",
    "from sklearn.metrics import classification_report, confusion_matrix, ConfusionMatrixDisplay\n",
    "from sklearn.metrics import precision_recall_curve\n",
    "from sklearn.metrics import f1_score\n",
    "from sklearn.metrics import auc, roc_curve, roc_auc_score\n",
    "\n",
    "# import library for enhanced plotting\n",
    "\n",
    "import seaborn as sns\n",
    "sns.set_style(\"darkgrid\")\n",
    "colors = sns.color_palette('PuBuGn_r')"
   ]
  },
  {
   "cell_type": "markdown",
   "id": "659beec5",
   "metadata": {},
   "source": [
    "## <font color=\"blue\">Load, Preprocess and Split Data Functions</font>"
   ]
  },
  {
   "cell_type": "code",
   "execution_count": 5,
   "id": "ee4e12aa",
   "metadata": {},
   "outputs": [
    {
     "data": {
      "application/vnd.jupyter.widget-view+json": {
       "model_id": "5893294e0e9748acbae2053ffff0e0c6",
       "version_major": 2,
       "version_minor": 0
      },
      "text/plain": [
       "VBox()"
      ]
     },
     "metadata": {},
     "output_type": "display_data"
    },
    {
     "data": {
      "application/vnd.jupyter.widget-view+json": {
       "model_id": "",
       "version_major": 2,
       "version_minor": 0
      },
      "text/plain": [
       "FloatProgress(value=0.0, bar_style='info', description='Progress:', layout=Layout(height='25px', width='50%'),…"
      ]
     },
     "metadata": {},
     "output_type": "display_data"
    }
   ],
   "source": [
    "def load_data(file_path):\n",
    "    \"\"\"\n",
    "    Loads the raw dataset in Spark.\n",
    "    \n",
    "    INPUT:\n",
    "            (str) - path for datafile\n",
    "    OUTPUT:\n",
    "            (PySpark dataframe) - dataframe of raw data\n",
    "    \n",
    "    \"\"\"\n",
    "    \n",
    "    print(\"Loading the dataset ...\")\n",
    "    df = spark.read.json(file_path)\n",
    "    print(\"Dataset is loaded...\")\n",
    "    \n",
    "    return df\n",
    "\n",
    "    \n",
    "def clean_data(df):\n",
    "    \"\"\"\n",
    "    Performs basic cleaning operations on the raw data:\n",
    "        - removes entries with missing userId\n",
    "        - rescale timestamp columns to seconds\n",
    "        - drop unnecesary columns\n",
    "            - personal information columns\n",
    "            - song information columns\n",
    "            - web and browser information\n",
    "            - timestamp columns in miliseconds\n",
    "\n",
    "    INPUT:\n",
    "        (PySpark dataframe) - dataframe of raw data\n",
    "    OUTPUT:\n",
    "        (PySpark dataframe) - dataframe of cleaned data\n",
    "    \"\"\"\n",
    "\n",
    "    # print message to indicate the start of the process\n",
    "    print(\"Cleaning the data ...\")\n",
    "\n",
    "    # print a count of rows before cleaning\n",
    "    initial_records = df.count()\n",
    "    print(\"Dataset has {} rows initially.\".format(initial_records))\n",
    "\n",
    "    # remove all the records without userId\n",
    "    df = df.where(df.userId != \"\")\n",
    "\n",
    "    # rescale the timestamp to seconds (initially in miliseconds)\n",
    "    df = df.withColumn(\"log_ts\", df.ts/1000.0)\n",
    "    df = df.withColumn(\"reg_ts\", df.registration/1000.0)\n",
    "\n",
    "    # drop several unnecessary columns\n",
    "    cols_to_drop = (\"firstName\", \"lastName\", \"location\",\n",
    "                    \"artist\", \"song\", \"length\",\n",
    "                    \"userAgent\", \"method\", \"status\",\n",
    "                    \"ts\", \"registration\"\n",
    "                   )\n",
    "    df = df.drop(*cols_to_drop)\n",
    "\n",
    "\n",
    "    # print end of process message\n",
    "    print(\"Finished cleaning the data ...\")\n",
    "\n",
    "    # print a count of rows after cleaning\n",
    "    removed_rows = initial_records - df.count()\n",
    "\n",
    "    print(\"Cleaned dataset has {} rows, {} rows were removed\". \\\n",
    "        format(df.count(), initial_records - df.count()))\n",
    "\n",
    "    return df\n",
    "\n",
    "\n",
    "def preprocess_data(df):\n",
    "\n",
    "    \"\"\"\n",
    "    Prepare the data for modeling via creating several features.\n",
    "\n",
    "        - reg_date (date) - month-year of the registration\n",
    "\n",
    "        - create windows grouped on userId and sessionId\n",
    "\n",
    "         - firstevent_ts (timestamp) - first time an user is active\n",
    "         - lastevent_ts (timestamp) - last time an user is active\n",
    "\n",
    "         - init_days_interv (float) - days between registration and first activity\n",
    "         - tenure_days_interv (float) - days between registration and last activity\n",
    "         - active_days (float) - days the user has some activity on the platform\n",
    "         - session_h (float) - session's duration in hours\n",
    "\n",
    "     INPUT:\n",
    "         df (PySpark dataframe) - cleaned dataframe\n",
    "     OUTPUT:\n",
    "         df (PySpark dataframe) - dataframe with the listed features added\n",
    "    \"\"\"\n",
    "\n",
    "    # extract registration month and year from timestamp\n",
    "    df = df.withColumn(\"reg_date\", from_unixtime(col(\"reg_ts\"), \"MM-yyyy\"))\n",
    "\n",
    "    # create window: data grouped by userId, time ordered\n",
    "    win_user = (W.partitionBy(\"userId\")\n",
    "            .orderBy(\"log_ts\")\n",
    "            .rangeBetween(W.unboundedPreceding,\n",
    "                          W.unboundedFollowing))\n",
    "\n",
    "    # create window: data grouped by sessionId and userId, time ordered\n",
    "    win_user_session = (W.partitionBy(\"sessionId\", \"userId\")\n",
    "                        .orderBy(\"log_ts\")\n",
    "                        .rangeBetween(W.unboundedPreceding,\n",
    "                                      W.unboundedFollowing))\n",
    "\n",
    "    # record the first time an user is active\n",
    "    df = df.withColumn(\"firstevent_ts\", first(col(\"log_ts\")).over(win_user))\n",
    "    # record the last time an user is active\n",
    "    df = df.withColumn(\"lastevent_ts\", last(col(\"log_ts\")).over(win_user))\n",
    "\n",
    "    # warmup time = registration time to first event in days\n",
    "    df = df.withColumn(\"init_days_interv\",\n",
    "                       (col(\"firstevent_ts\").cast(\"long\")-col(\"reg_ts\").cast(\"long\"))/(24*3600))\n",
    "\n",
    "    # tenure time = registration time to last event in days\n",
    "    df = df.withColumn(\"tenure_days_interv\",\n",
    "                       (col(\"lastevent_ts\").cast(\"long\")-col(\"reg_ts\").cast(\"long\"))/(24*3600))\n",
    "\n",
    "    # active time =  days between the first event and the last event in days\n",
    "    df = df.withColumn(\"active_days\",\n",
    "                       (col(\"lastevent_ts\").cast(\"long\")-col(\"firstevent_ts\").cast(\"long\"))/(24*3600))\n",
    "\n",
    "    # create column that records the individual session's duration in hours\n",
    "    df = df.withColumn(\"session_h\",\n",
    "                    (last(df.log_ts).over(win_user_session) \\\n",
    "                     - first(df.log_ts).over(win_user_session))/3600)\n",
    "\n",
    "    # drop columns\n",
    "    df = df.drop(\"reg_ts\", \"log_ts\")\n",
    "\n",
    "    return df\n",
    "\n",
    "\n",
    "def build_features(df):\n",
    "\n",
    "    \"\"\"\n",
    "    Features engineered to be used in modelling.\n",
    "\n",
    "        - nr_songs (int) - total number of songs user listened to\n",
    "        - nr_playlist (int) - number of songs added to the playlist\n",
    "\n",
    "        - nr_friends (int) - number of friends added through \"Add Friend\"\n",
    "\n",
    "        - nr_likes (int) - total number of \"Thumbs Up\" of the user\n",
    "        - nr_dislikes (int) - total number of \"Thumbs Down\" of the user\n",
    "\n",
    "        - nr_downgrades (int) - total number of visits to \"Downgrade\" page by the user\n",
    "        - nr_upgrades (int) - total number of visits to \"Upgrade\" page by the user\n",
    "\n",
    "        - nr_home (int) - total number of visits to \"Home\" page by the user\n",
    "        - nr_settings (int) - total number of visits to \"Settings\" page by the user\n",
    "\n",
    "        - nr_error (int) - total number of errors encountered by the user\n",
    "\n",
    "        - nr_ads (int) - total number of ads the user got\n",
    "        - nr_sessions (int) - number of sessions of the user\n",
    "        - n_acts (int) - total number of actions taken by the user\n",
    "\n",
    "        - avg_sess_h (float) - average session length in hours\n",
    "        - acts_per_session (float) - average number of actions per session for the user\n",
    "        - songs_per_session (float) - average numer of songs listened per session by the user\n",
    "        - ads_per_session (float) - average number of ads per session, received by user\n",
    "\n",
    "        - init_days_interv (int) - time interval in days from registration to the first action of the user\n",
    "        - tenure_days_interv (int) - time interval in days from registration to the last action of the user\n",
    "        - active_days (int) - number of days the user was active on the platform\n",
    "\n",
    "        - gender (binary) - 1 for F (female), 0 for M (male)\n",
    "        - level (binary) - 1 for paid, 0 for free\n",
    "\n",
    "        - churn (binary) - 1 for \"Cancellation Confirmation\" page visit, 0 otherwise\n",
    "\n",
    "    INPUT:\n",
    "        df (PySpark dataframe) - preprocessed dataframe\n",
    "    OUTPUT:\n",
    "        df_feats (PySpark dataframe) - dataframe that contains engineered features\n",
    "    \"\"\"\n",
    "\n",
    "    df_feats = df.groupBy(\"userId\") \\\n",
    "        .agg(\n",
    "\n",
    "            # count user's individual actions using all page visits\n",
    "\n",
    "            count(when(col(\"page\") == \"NextSong\", True)).alias(\"nr_songs\"),\n",
    "            count(when(col(\"page\") == \"Add to Playlist\", True)).alias(\"nr_playlist\"),\n",
    "\n",
    "            count(when(col(\"page\") == \"Add Friend\", True)).alias(\"nr_friends\"),\n",
    "\n",
    "            count(when(col(\"page\") == \"Thumbs Up\", True)).alias(\"nr_likes\"),                count(when(col(\"page\") == \"Thumbs Down\", True)).alias(\"nr_dislikes\"),\n",
    "\n",
    "            count(when(col(\"page\") == \"Downgrade\", True)).alias(\"nr_downgrades\"),\n",
    "            count(when(col(\"page\") == \"Upgrade\", True)).alias(\"nr_upgrades\"),\n",
    "\n",
    "            count(when(col(\"page\") == \"Home\", True)).alias(\"nr_home\"),\n",
    "            count(when(col(\"page\") == \"Settings\", True)).alias(\"nr_settings\"),\n",
    "\n",
    "            count(when(col(\"page\") == \"Error\", True)).alias(\"nr_error\"),\n",
    "\n",
    "            count(when(col(\"page\") == \"Roll Advert\", True)).alias(\"nr_ads\"),\n",
    "\n",
    "            # compute the number of sessions a user is in\n",
    "            countDistinct(\"sessionId\").alias(\"nr_sessions\"),\n",
    "\n",
    "            # find the total number of actions a user took\n",
    "            countDistinct(\"itemInSession\").alias(\"n_acts\"),\n",
    "\n",
    "            # compute the average session length in hours\n",
    "            avg(col(\"session_h\")).alias(\"avg_sess_h\"),\n",
    "\n",
    "            # compute the average number of page actions per sesssion - i.e. items in session\n",
    "            (countDistinct(\"itemInSession\") /countDistinct(\"sessionId\")).alias(\"acts_per_session\"),\n",
    "\n",
    "            # compute the average number of songs per session\n",
    "            (count(when(col(\"page\") == \"NextSong\", True)) /countDistinct(\"sessionId\")).alias(\"songs_per_session\"),\n",
    "\n",
    "            # compute the average number of ads per session\n",
    "             (count(when(col(\"page\") == \"Roll Advert\", True)) /countDistinct(\"sessionId\")).alias(\"ads_per_session\"),\n",
    "\n",
    "            # days between registration and first activity\n",
    "            first(col(\"init_days_interv\")).alias(\"init_days_interv\"),\n",
    "            # the tenure time on the platform: from registration to last event in days\n",
    "            first(col(\"tenure_days_interv\")).alias(\"tenure_days_interv\"),\n",
    "            # number of days user visited the platform, is active on the platform\n",
    "            first(col(\"active_days\")).alias(\"active_days\"),\n",
    "\n",
    "            # encode the gender 1 for F and 0 for M\n",
    "            first(when(col(\"gender\") == \"F\", 1).otherwise(0)).alias(\"gender\"),\n",
    "\n",
    "            # encode the level (paid/free) according to the last record\n",
    "            last(when(col(\"level\") == \"paid\", 1).otherwise(0)).alias(\"level\"),\n",
    "\n",
    "            # flag those users that downgraded\n",
    "            #last(when(col(\"page\") == \"Downgrade\", 1).otherwise(0)).alias(\"downgrade\"),\n",
    "\n",
    "            # create the churn column that records if the user cancelled\n",
    "            last(when(col(\"page\") == \"Cancellation Confirmation\", 1).otherwise(0)).alias(\"churn\"),\n",
    "            )\n",
    "\n",
    "    # columns to drop\n",
    "    drop_cols = (\"userId\", \"gender\", \"avg_sess_h\",\n",
    "                 \"nr_playlist\", \"nr_home\")\n",
    "    # drop the columns\n",
    "    #df_feats = df_feats.drop(\"userId\")\n",
    "    df_feats = df_feats.drop(*drop_cols)\n",
    "\n",
    "    # drop the null values\n",
    "    df_feats=df_feats.na.drop()\n",
    "\n",
    "    return df_feats"
   ]
  },
  {
   "cell_type": "code",
   "execution_count": 6,
   "id": "a774bb73",
   "metadata": {},
   "outputs": [
    {
     "data": {
      "application/vnd.jupyter.widget-view+json": {
       "model_id": "17ebb01b58344d2d8d0d82fceb76a820",
       "version_major": 2,
       "version_minor": 0
      },
      "text/plain": [
       "VBox()"
      ]
     },
     "metadata": {},
     "output_type": "display_data"
    },
    {
     "data": {
      "application/vnd.jupyter.widget-view+json": {
       "model_id": "",
       "version_major": 2,
       "version_minor": 0
      },
      "text/plain": [
       "FloatProgress(value=0.0, bar_style='info', description='Progress:', layout=Layout(height='25px', width='50%'),…"
      ]
     },
     "metadata": {},
     "output_type": "display_data"
    }
   ],
   "source": [
    "def split_data (df):\n",
    "\n",
    "    \"\"\"\n",
    "    Split the dataset into training, validation set and test set.\n",
    "    Use a stratified sampling method.\n",
    "\n",
    "    INPUT:\n",
    "        df (PySpark dataframe) - dataframe\n",
    "    OUTPUT:\n",
    "        train_set, validation_set, test_set (PySpark dataframes) - \n",
    "                          percentage split based on the provided values\n",
    "    \"\"\"\n",
    "\n",
    "    # split dataframes between 0s and 1s\n",
    "    zeros = df.filter(df[\"churn\"]==0)\n",
    "    ones = df.filter(df[\"churn\"]==1)\n",
    "\n",
    "    # split dataframes into training and testing\n",
    "    train0, validation0, test0 = zeros.randomSplit(SPLIT_VALS, seed=1234)\n",
    "    train1, validation1, test1 = ones.randomSplit(SPLIT_VALS, seed=1234)\n",
    "\n",
    "    # stack datasets back together\n",
    "    train_set = train0.union(train1)\n",
    "    validation_set = validation0.union(validation1)\n",
    "    test_set = test0.union(test1)\n",
    "\n",
    "    return train_set, validation_set, test_set"
   ]
  },
  {
   "cell_type": "code",
   "execution_count": 7,
   "id": "939d2bce",
   "metadata": {},
   "outputs": [
    {
     "data": {
      "application/vnd.jupyter.widget-view+json": {
       "model_id": "e7427a9366a147568ca18b8830c02cb9",
       "version_major": 2,
       "version_minor": 0
      },
      "text/plain": [
       "VBox()"
      ]
     },
     "metadata": {},
     "output_type": "display_data"
    },
    {
     "data": {
      "application/vnd.jupyter.widget-view+json": {
       "model_id": "",
       "version_major": 2,
       "version_minor": 0
      },
      "text/plain": [
       "FloatProgress(value=0.0, bar_style='info', description='Progress:', layout=Layout(height='25px', width='50%'),…"
      ]
     },
     "metadata": {},
     "output_type": "display_data"
    }
   ],
   "source": [
    "def prepare_data(dataset_filepath):\n",
    "    \n",
    "    \"\"\"\n",
    "    Function that combines all the data preparation steps.\n",
    "    \n",
    "    INPUT:\n",
    "        dataset_filepath (str) - filepath for raw data json file\n",
    "    OUTPUT:\n",
    "       train_set, validation_set, test_set (PySpark dataframes) - \n",
    "            subsets of the features dataset\n",
    "    \"\"\"\n",
    "    \n",
    "    print('Load data...')\n",
    "    df = load_data(dataset_filepath)\n",
    "    \n",
    "    print('Clean data...')\n",
    "    df_clean = clean_data(df)\n",
    "    \n",
    "    print('Preprocess data...')\n",
    "    df_proc = preprocess_data(df_clean)\n",
    "    \n",
    "    print('Create features dataset...')\n",
    "    df_feats = build_features(df_proc)\n",
    "    \n",
    "    print('Split the features dataset...')\n",
    "    train_set, validation_set, test_set = split_data(df_feats)\n",
    "    \n",
    "    return train_set, validation_set, test_set"
   ]
  },
  {
   "cell_type": "markdown",
   "id": "152a4e59",
   "metadata": {},
   "source": [
    "## <font color=\"blue\">Model Evaluators Functions</font>"
   ]
  },
  {
   "cell_type": "code",
   "execution_count": 8,
   "id": "3a97072e",
   "metadata": {},
   "outputs": [
    {
     "data": {
      "application/vnd.jupyter.widget-view+json": {
       "model_id": "7ce48b43bcd74978aa7177bdd3aa7a4d",
       "version_major": 2,
       "version_minor": 0
      },
      "text/plain": [
       "VBox()"
      ]
     },
     "metadata": {},
     "output_type": "display_data"
    },
    {
     "data": {
      "application/vnd.jupyter.widget-view+json": {
       "model_id": "",
       "version_major": 2,
       "version_minor": 0
      },
      "text/plain": [
       "FloatProgress(value=0.0, bar_style='info', description='Progress:', layout=Layout(height='25px', width='50%'),…"
      ]
     },
     "metadata": {},
     "output_type": "display_data"
    }
   ],
   "source": [
    "# function to compute relevant metrics for binary classification\n",
    "def conf_metrics(dataset):\n",
    "    \n",
    "    \"\"\"\n",
    "        Calculates the metrics associated to the confusion matrix.\n",
    "\n",
    "        INPUT:\n",
    "            dataset (pyspark.sql.DataFrame) - a dataset that contains\n",
    "                                labels and predictions\n",
    "        OUTPUT:\n",
    "            accuracy (float) - metric\n",
    "            precision (float) - metric\n",
    "            recall (float) - metric\n",
    "            F1 (float) - metric\n",
    "    \"\"\"\n",
    "   \n",
    "\n",
    "    # calculate the elements of the confusion matrix\n",
    "    tn = dataset.where((dataset[meta_labelCol]==0) & (dataset[meta_predCol]==0)).count()\n",
    "    tp = dataset.where((dataset[meta_labelCol]==1) & (dataset[meta_predCol]==1)).count()                   \n",
    "    fn = dataset.where((dataset[meta_labelCol]==1) & (dataset[meta_predCol]==0)).count()                   \n",
    "    fp = dataset.where((dataset[meta_labelCol]==0) & (dataset[meta_predCol]==1)).count()\n",
    "    \n",
    "    # calculate accuracy, precision, recall, and F1-score\n",
    "    accuracy = (tn + tp) / (tn + tp + fn + fp)\n",
    "    precision = tp / (tp + fp)\n",
    "    recall = tp / (tp + fn)\n",
    "    f1 =  2 * (precision*recall) / (precision + recall)\n",
    "    \n",
    "    return accuracy, precision, recall, f1\n",
    "\n",
    "# function to display the metrics of interest\n",
    "def display_metrics(dataset, roc_cl, pr_cl):\n",
    "    \n",
    "    \"\"\"\n",
    "    Prints evaluation metrics for the model. \n",
    "    \n",
    "    INPUT:\n",
    "         dataset (pyspark.sql.DataFrame) - a dataset that contains\n",
    "                                labels and predictions\n",
    "        roc_cl, pr_cl (float) - ROC and PR scores for the evaluate classifier cl\n",
    "    OUTPUT:\n",
    "        none - table of metrics are displayed\n",
    "    \n",
    "    \"\"\"\n",
    "    \n",
    "    accuracy = conf_metrics(dataset)[0]\n",
    "    precision = conf_metrics(dataset)[1]\n",
    "    recall = conf_metrics(dataset)[2]\n",
    "    f1 = conf_metrics(dataset)[3]\n",
    "    \n",
    "    print(\"\")\n",
    "    print(\"Confusion Matrix\")\n",
    "    dataset.groupBy(dataset[meta_labelCol], dataset[meta_predCol]).count().show()\n",
    "    print(\"\")\n",
    "    print(\"accuracy...............%6.3f\" % accuracy)\n",
    "    print(\"precision..............%6.3f\" % precision)\n",
    "    print(\"recall.................%6.3f\" % recall)\n",
    "    print(\"F1.....................%6.3f\" % f1)\n",
    "    print(\"auc_roc................%6.3f\" % roc_cl)\n",
    "    print(\"auc_pr.................%6.3f\" % pr_cl)\n",
    "\n",
    "# function to plot the roc and pr curves side by side (uses Pandas)\n",
    "def plot_roc_pr_curves(predictions, model_name):\n",
    "    \n",
    "    \"\"\"\n",
    "    Calculates ROC-AUC and PR-AUC scores and plots the ROC and PR curves.\n",
    "    \n",
    "    INPUT:\n",
    "        predictions (PySpark dataframe) - contains probability predictions, label column\n",
    "        model_name (str) - classifier name\n",
    "        \n",
    "    OUTPUT:\n",
    "        none - two plots are displayed\n",
    "        \n",
    "    \"\"\"\n",
    "    \n",
    "    # transform predictions PySpark dataframe into Pandas dataframe\n",
    "    pred_pandas = predictions.select(predictions.label, predictions.probability).toPandas()\n",
    "    \n",
    "    # calculate roc_auc score\n",
    "    roc_auc = roc_auc_score(pred_pandas.label, pred_pandas.probability.str[1])\n",
    "    # generate a no skill prediction (majority class)\n",
    "    ns_probs = [0 for _ in range(len(pred_pandas.label))]\n",
    "    # calculate roc curves\n",
    "    fpr, tpr, _ = roc_curve(pred_pandas.label, pred_pandas.probability.str[1])\n",
    "    ns_fpr, ns_tpr, _ = roc_curve(pred_pandas.label, ns_probs)\n",
    "    \n",
    "    # calculate precision, recall for each threshold\n",
    "    precision, recall, _ = precision_recall_curve(pred_pandas.label, pred_pandas.probability.str[1])\n",
    "    # calculate pr auc score\n",
    "    pr_auc = auc(recall, precision)\n",
    "    \n",
    "    # create figure which contains two subplots\n",
    "    plt.figure(figsize=[12,6])\n",
    "    \n",
    "    plt.subplot(121)\n",
    "    \n",
    "    # plot the roc curve for the model\n",
    "    plt.plot(ns_fpr, ns_tpr, linestyle='--', label='No Skill')\n",
    "    plt.plot(fpr, tpr, marker='.', color=\"firebrick\", label='ROC AUC = %.3f' % (roc_auc))\n",
    "    \n",
    "    # axis labels\n",
    "    plt.xlabel('False Positive Rate')\n",
    "    plt.ylabel('True Positive Rate')\n",
    "    # show the legend\n",
    "    plt.legend()\n",
    "    # figure title\n",
    "    plt.title(\"ROC Curve:\" + model_name)\n",
    "    \n",
    "    plt.subplot(122)\n",
    "    \n",
    "    # plot the precision-recall curves\n",
    "    \n",
    "    ns_line = len(pred_pandas[pred_pandas.label==1]) / len(pred_pandas.label)\n",
    "    plt.plot([0, 1], [ns_line, ns_line], linestyle='--', label='No Skill')\n",
    "    plt.plot(recall, precision, marker='.', color=\"firebrick\", label='PR AUC = %.3f' % (pr_auc))\n",
    "    \n",
    "    # axis labels\n",
    "    plt.xlabel('Recall')\n",
    "    plt.ylabel('Precision')\n",
    "    # show the legend\n",
    "    plt.legend()\n",
    "    # figure title\n",
    "    plt.title(\"Precision-Recall Curve:\" + model_name)"
   ]
  },
  {
   "cell_type": "markdown",
   "id": "49d3ff59",
   "metadata": {},
   "source": [
    "## <font color=\"blue\">Build Pipelines and Instantiate Models</font>"
   ]
  },
  {
   "cell_type": "code",
   "execution_count": 9,
   "id": "7c3d4159",
   "metadata": {},
   "outputs": [
    {
     "data": {
      "application/vnd.jupyter.widget-view+json": {
       "model_id": "fe77294d695c4668b08d7683ba12041b",
       "version_major": 2,
       "version_minor": 0
      },
      "text/plain": [
       "VBox()"
      ]
     },
     "metadata": {},
     "output_type": "display_data"
    },
    {
     "data": {
      "application/vnd.jupyter.widget-view+json": {
       "model_id": "",
       "version_major": 2,
       "version_minor": 0
      },
      "text/plain": [
       "FloatProgress(value=0.0, bar_style='info', description='Progress:', layout=Layout(height='25px', width='50%'),…"
      ]
     },
     "metadata": {},
     "output_type": "display_data"
    }
   ],
   "source": [
    "# define the base models\n",
    "# use different labels for the prediction columns to avoid overlap when stacking\n",
    "\n",
    "lr = LogisticRegression(featuresCol='features', labelCol='label', \n",
    "                        predictionCol='pred_lr', probabilityCol='prob_lr',\n",
    "                        rawPredictionCol='rawPred_lr')\n",
    "\n",
    "rf = RandomForestClassifier(featuresCol='features', labelCol='label', \n",
    "                  predictionCol='pred_rf', probabilityCol='prob_rf', \n",
    "                  rawPredictionCol='rawPred_rf')\n",
    "\n",
    "gbt = GBTClassifier(featuresCol='features', labelCol='label',\n",
    "                    predictionCol='pred_gbt')\n",
    "\n",
    "layers=[18,8,4,2]\n",
    "mlpc= MultilayerPerceptronClassifier(featuresCol='features', labelCol='label',\n",
    "                                     predictionCol='pred_mlpc', probabilityCol='prob_mlpc',\n",
    "                                     rawPredictionCol='rawPred_mlpc', layers=layers)\n",
    "\n",
    "lsvc = LinearSVC(featuresCol='features', labelCol='label', \n",
    "                predictionCol='pred_lsvc', rawPredictionCol='rawPred_lsvc')\n",
    "\n",
    "models = [lr, rf, gbt, mlpc, lsvc]"
   ]
  },
  {
   "cell_type": "code",
   "execution_count": 10,
   "id": "7df624a5",
   "metadata": {},
   "outputs": [
    {
     "data": {
      "application/vnd.jupyter.widget-view+json": {
       "model_id": "91118e05ba8445eeb09d8f5386575da8",
       "version_major": 2,
       "version_minor": 0
      },
      "text/plain": [
       "VBox()"
      ]
     },
     "metadata": {},
     "output_type": "display_data"
    },
    {
     "data": {
      "application/vnd.jupyter.widget-view+json": {
       "model_id": "",
       "version_major": 2,
       "version_minor": 0
      },
      "text/plain": [
       "FloatProgress(value=0.0, bar_style='info', description='Progress:', layout=Layout(height='25px', width='50%'),…"
      ]
     },
     "metadata": {},
     "output_type": "display_data"
    }
   ],
   "source": [
    "# split the features and the label\n",
    "CAT_FEATURES = [\"level\"]\n",
    "CONT_FEATURES = [\"nr_songs\", \"nr_likes\", \"nr_dislikes\", \"nr_friends\", \"nr_downgrades\",\n",
    "                \"nr_upgrades\", \"nr_error\", \"nr_settings\", \"nr_ads\", \"nr_sessions\",\n",
    "                \"n_acts\", \"acts_per_session\", \"songs_per_session\", \"ads_per_session\",\n",
    "                \"init_days_interv\", \"tenure_days_interv\", \"active_days\"]\n",
    "CHURN_LABEL = \"churn\"\n",
    "\n",
    "def build_data_pipeline():\n",
    "    \"\"\"\n",
    "    Combines all the stages of the data processing.\n",
    "    \"\"\"\n",
    "    # stages in the pipeline\n",
    "    stages = [] \n",
    "    \n",
    "    # encode the labels\n",
    "    label_indexer =  StringIndexer(inputCol=CHURN_LABEL, outputCol=\"label\")\n",
    "    stages += [label_indexer]\n",
    "    \n",
    "    # encode the binary features\n",
    "    bin_assembler = VectorAssembler(inputCols=CAT_FEATURES, outputCol=\"bin_features\")\n",
    "    stages += [bin_assembler]\n",
    "    \n",
    "    # encode the continuous features\n",
    "    cont_assembler = VectorAssembler(inputCols = CONT_FEATURES, outputCol=\"cont_features\")\n",
    "    stages += [cont_assembler]\n",
    "    # normalize the continuous features\n",
    "    cont_scaler = StandardScaler(inputCol=\"cont_features\", outputCol=\"cont_scaler\", \n",
    "                                 withStd=True , withMean=True)\n",
    "    stages += [cont_scaler]\n",
    "    \n",
    "    # pass all to the vector assembler to create a single sparse vector\n",
    "    all_assembler = VectorAssembler(inputCols=[\"bin_features\", \"cont_scaler\"],  \n",
    "                            outputCol=\"features\")\n",
    "    stages += [all_assembler]\n",
    "    \n",
    "    # add the models to the pipeline\n",
    "    stages += models\n",
    "    \n",
    "    # create a pipeline\n",
    "    pipeline = Pipeline(stages=stages)\n",
    "    \n",
    "    return pipeline"
   ]
  },
  {
   "cell_type": "code",
   "execution_count": 11,
   "id": "5dc0d561",
   "metadata": {},
   "outputs": [
    {
     "data": {
      "application/vnd.jupyter.widget-view+json": {
       "model_id": "610f95d71ef24b54bc3ad6cee1d835b3",
       "version_major": 2,
       "version_minor": 0
      },
      "text/plain": [
       "VBox()"
      ]
     },
     "metadata": {},
     "output_type": "display_data"
    },
    {
     "data": {
      "application/vnd.jupyter.widget-view+json": {
       "model_id": "",
       "version_major": 2,
       "version_minor": 0
      },
      "text/plain": [
       "FloatProgress(value=0.0, bar_style='info', description='Progress:', layout=Layout(height='25px', width='50%'),…"
      ]
     },
     "metadata": {},
     "output_type": "display_data"
    }
   ],
   "source": [
    "# prepare the meta_features for modeling\n",
    "\n",
    "# split the features and the label\n",
    "META_FEATURES = [\"pred_lr\", \"pred_rf\",\"pred_gbt\", \"pred_mlpc\", \"pred_lsvc\"]\n",
    "META_CONT_FEATURES = [\"prob_lr\", \"prob_rf\", \"prob_mlpc\"]\n",
    "META_LABEL_COL = \"label\"\n",
    "\n",
    "# create labels and features\n",
    "meta_predCol=\"meta_prediction\"\n",
    "meta_labelCol=\"meta_label\"\n",
    "meta_featuresCol = \"meta_features\"\n",
    "\n",
    "def build_meta_pipeline(meta_classifier):\n",
    "    \"\"\"\n",
    "    Combines all the stages of the meta features processing.\n",
    "    \"\"\"\n",
    "    # stages in the pipeline\n",
    "    stages = [] \n",
    "    \n",
    "    # encode the labels\n",
    "    label_indexer =  StringIndexer(inputCol=META_LABEL_COL, outputCol=\"meta_label\")\n",
    "    stages += [label_indexer]\n",
    "    \n",
    "    # encode the binary features\n",
    "    bin_assembler = VectorAssembler(inputCols=META_FEATURES, outputCol=\"bin_features\")\n",
    "    stages += [bin_assembler]\n",
    "    \n",
    "    # encode the continuous features\n",
    "    cont_assembler = VectorAssembler(inputCols = META_CONT_FEATURES, outputCol=\"cont_features\")\n",
    "    stages += [cont_assembler]\n",
    "    # normalize the continuous features\n",
    "    cont_scaler = StandardScaler(inputCol=\"cont_features\", outputCol=\"cont_scaler\", \n",
    "                                 withStd=True , withMean=True)\n",
    "    stages += [cont_scaler]\n",
    "    \n",
    "    # pass all to the vector assembler to create a single sparse vector\n",
    "    all_assembler = VectorAssembler(inputCols=[\"bin_features\", \"cont_scaler\"],  \n",
    "                                    outputCol=\"meta_features\")\n",
    "    stages += [all_assembler]\n",
    "    \n",
    "    # add the models to the pipeline\n",
    "    stages += [meta_classifier]\n",
    "    \n",
    "    # create a pipeline\n",
    "    pipeline = Pipeline(stages=stages)\n",
    "\n",
    "    return pipeline\n",
    "\n",
    "# implement K-fold cross validation and grid search \n",
    "def grid_search_model(pipeline, paramGrid):\n",
    "    \"\"\"\n",
    "    Creates a cross validation object and performs grid search\n",
    "    over a set of parameters.\n",
    "    \n",
    "    INPUT:\n",
    "        param = grid of parameters\n",
    "        pipeline = model pipeline \n",
    "    \n",
    "    OUTPUT:\n",
    "        cv = cross validation object\n",
    "    \"\"\"\n",
    "    \n",
    "    # choose an evaluator\n",
    "    evaluator = BinaryClassificationEvaluator()\n",
    "    evaluator.setLabelCol(meta_labelCol)\n",
    "    \n",
    "    # create the cross-validation object\n",
    "    cv = CrossValidator(estimator=pipeline,\n",
    "                    estimatorParamMaps=paramGrid,\n",
    "                    evaluator=evaluator,\n",
    "                    numFolds=3,\n",
    "                    parallelism=2)\n",
    "    return cv"
   ]
  },
  {
   "cell_type": "markdown",
   "id": "ccc23321",
   "metadata": {},
   "source": [
    "## <font color=\"blue\">Process and Model Base Classifiers</font>"
   ]
  },
  {
   "cell_type": "code",
   "execution_count": 12,
   "id": "9dab7148",
   "metadata": {},
   "outputs": [
    {
     "data": {
      "application/vnd.jupyter.widget-view+json": {
       "model_id": "8e46e09f41cb4cea81b21a1ea4549f20",
       "version_major": 2,
       "version_minor": 0
      },
      "text/plain": [
       "VBox()"
      ]
     },
     "metadata": {},
     "output_type": "display_data"
    },
    {
     "data": {
      "application/vnd.jupyter.widget-view+json": {
       "model_id": "",
       "version_major": 2,
       "version_minor": 0
      },
      "text/plain": [
       "FloatProgress(value=0.0, bar_style='info', description='Progress:', layout=Layout(height='25px', width='50%'),…"
      ]
     },
     "metadata": {},
     "output_type": "display_data"
    }
   ],
   "source": [
    "SPLIT_VALS = [.4, .3, .3]   \n",
    "\n",
    "# path for the dataset file\n",
    "path_dataset = \"s3n://udacity-dsnd/sparkify/sparkify_event_data.json\""
   ]
  },
  {
   "cell_type": "code",
   "execution_count": 13,
   "id": "9b226148",
   "metadata": {},
   "outputs": [
    {
     "data": {
      "application/vnd.jupyter.widget-view+json": {
       "model_id": "b7d7495e58ed41518ac5f7bf7c5ce0b6",
       "version_major": 2,
       "version_minor": 0
      },
      "text/plain": [
       "VBox()"
      ]
     },
     "metadata": {},
     "output_type": "display_data"
    },
    {
     "data": {
      "application/vnd.jupyter.widget-view+json": {
       "model_id": "",
       "version_major": 2,
       "version_minor": 0
      },
      "text/plain": [
       "FloatProgress(value=0.0, bar_style='info', description='Progress:', layout=Layout(height='25px', width='50%'),…"
      ]
     },
     "metadata": {},
     "output_type": "display_data"
    },
    {
     "name": "stdout",
     "output_type": "stream",
     "text": [
      "Load data...\n",
      "Loading the dataset ...\n",
      "Dataset is loaded...\n",
      "Clean data...\n",
      "Cleaning the data ...\n",
      "Dataset has 26259199 rows initially.\n",
      "Finished cleaning the data ...\n",
      "Cleaned dataset has 26259199 rows, 0 rows were removed\n",
      "Preprocess data...\n",
      "Create features dataset...\n",
      "Split the features dataset..."
     ]
    }
   ],
   "source": [
    "# clean, process and split the data\n",
    "train_df, validation_df, test_df = prepare_data(path_dataset)"
   ]
  },
  {
   "cell_type": "code",
   "execution_count": 14,
   "id": "48db9880",
   "metadata": {},
   "outputs": [
    {
     "data": {
      "application/vnd.jupyter.widget-view+json": {
       "model_id": "4b4e0e0276ff482483eea25060685d27",
       "version_major": 2,
       "version_minor": 0
      },
      "text/plain": [
       "VBox()"
      ]
     },
     "metadata": {},
     "output_type": "display_data"
    },
    {
     "data": {
      "application/vnd.jupyter.widget-view+json": {
       "model_id": "",
       "version_major": 2,
       "version_minor": 0
      },
      "text/plain": [
       "FloatProgress(value=0.0, bar_style='info', description='Progress:', layout=Layout(height='25px', width='50%'),…"
      ]
     },
     "metadata": {},
     "output_type": "display_data"
    }
   ],
   "source": [
    "# save the data in the memory and disk\n",
    "train_cached = train_df.persist()\n",
    "validation_cached = validation_df.persist()\n",
    "test_cached = test_df.persist()"
   ]
  },
  {
   "cell_type": "code",
   "execution_count": 15,
   "id": "f0f51481",
   "metadata": {},
   "outputs": [
    {
     "data": {
      "application/vnd.jupyter.widget-view+json": {
       "model_id": "57af46ee0d5142899b17cabcc6b76b48",
       "version_major": 2,
       "version_minor": 0
      },
      "text/plain": [
       "VBox()"
      ]
     },
     "metadata": {},
     "output_type": "display_data"
    },
    {
     "data": {
      "application/vnd.jupyter.widget-view+json": {
       "model_id": "",
       "version_major": 2,
       "version_minor": 0
      },
      "text/plain": [
       "FloatProgress(value=0.0, bar_style='info', description='Progress:', layout=Layout(height='25px', width='50%'),…"
      ]
     },
     "metadata": {},
     "output_type": "display_data"
    },
    {
     "name": "stderr",
     "output_type": "stream",
     "text": [
      "Exception in thread cell_monitor-14:\n",
      "Traceback (most recent call last):\n",
      "  File \"/mnt/notebook-env/lib/python3.7/threading.py\", line 926, in _bootstrap_inner\n",
      "    self.run()\n",
      "  File \"/mnt/notebook-env/lib/python3.7/threading.py\", line 870, in run\n",
      "    self._target(*self._args, **self._kwargs)\n",
      "  File \"/mnt/notebook-env/lib/python3.7/site-packages/awseditorssparkmonitoringwidget-1.0-py3.7.egg/awseditorssparkmonitoringwidget/cellmonitor.py\", line 178, in cell_monitor\n",
      "    job_binned_stages[job_id][stage_id] = all_stages[stage_id]\n",
      "KeyError: 2692\n",
      "\n"
     ]
    },
    {
     "name": "stdout",
     "output_type": "stream",
     "text": [
      "\n",
      "Training time......... 4.925 min"
     ]
    }
   ],
   "source": [
    "# instantiate the data pipeline to process data\n",
    "base_pipeline = build_data_pipeline()\n",
    "\n",
    "# start timer\n",
    "start_time = time.time()\n",
    "\n",
    "# fit the pipeline on the transformed train set\n",
    "base_pipeline_model = base_pipeline.fit(train_cached)\n",
    "\n",
    "# stop timer\n",
    "end_time = time.time()\n",
    "\n",
    "# evaluate the trainining time in minutes \n",
    "train_time = (end_time - start_time)/60\n",
    "\n",
    "# print the training time \n",
    "print(\"\")\n",
    "print(\"Training time.........%6.3f min\" % train_time)"
   ]
  },
  {
   "cell_type": "code",
   "execution_count": 16,
   "id": "21945fdf",
   "metadata": {},
   "outputs": [
    {
     "data": {
      "application/vnd.jupyter.widget-view+json": {
       "model_id": "2d27505bf31442ad94a64824386bf3f9",
       "version_major": 2,
       "version_minor": 0
      },
      "text/plain": [
       "VBox()"
      ]
     },
     "metadata": {},
     "output_type": "display_data"
    },
    {
     "data": {
      "application/vnd.jupyter.widget-view+json": {
       "model_id": "",
       "version_major": 2,
       "version_minor": 0
      },
      "text/plain": [
       "FloatProgress(value=0.0, bar_style='info', description='Progress:', layout=Layout(height='25px', width='50%'),…"
      ]
     },
     "metadata": {},
     "output_type": "display_data"
    }
   ],
   "source": [
    "# make predictions on the validation set\n",
    "base_pred = base_pipeline_model.transform(validation_cached)"
   ]
  },
  {
   "cell_type": "markdown",
   "id": "83836029",
   "metadata": {},
   "source": [
    "### <font color=\"blue\">Toggle the Memory</font>"
   ]
  },
  {
   "cell_type": "code",
   "execution_count": 17,
   "id": "739e302b",
   "metadata": {},
   "outputs": [
    {
     "data": {
      "application/vnd.jupyter.widget-view+json": {
       "model_id": "c89276bd6320490e9d3502774848eed7",
       "version_major": 2,
       "version_minor": 0
      },
      "text/plain": [
       "VBox()"
      ]
     },
     "metadata": {},
     "output_type": "display_data"
    },
    {
     "data": {
      "application/vnd.jupyter.widget-view+json": {
       "model_id": "",
       "version_major": 2,
       "version_minor": 0
      },
      "text/plain": [
       "FloatProgress(value=0.0, bar_style='info', description='Progress:', layout=Layout(height='25px', width='50%'),…"
      ]
     },
     "metadata": {},
     "output_type": "display_data"
    },
    {
     "name": "stdout",
     "output_type": "stream",
     "text": [
      "DataFrame[nr_songs: bigint, nr_friends: bigint, nr_likes: bigint, nr_dislikes: bigint, nr_downgrades: bigint, nr_upgrades: bigint, nr_settings: bigint, nr_error: bigint, nr_ads: bigint, nr_sessions: bigint, n_acts: bigint, acts_per_session: double, songs_per_session: double, ads_per_session: double, init_days_interv: double, tenure_days_interv: double, active_days: double, level: int, churn: int]"
     ]
    }
   ],
   "source": [
    "# remove the raw datasets from memory\n",
    "train_cached.unpersist()\n",
    "validation_cached.unpersist()"
   ]
  },
  {
   "cell_type": "markdown",
   "id": "d9a49823",
   "metadata": {},
   "source": [
    "## <font color=\"blue\">The Metaclassifier</font>"
   ]
  },
  {
   "cell_type": "code",
   "execution_count": 18,
   "id": "37a54f00",
   "metadata": {},
   "outputs": [
    {
     "data": {
      "application/vnd.jupyter.widget-view+json": {
       "model_id": "dacdf24b6a144f599eaf47aecc88be88",
       "version_major": 2,
       "version_minor": 0
      },
      "text/plain": [
       "VBox()"
      ]
     },
     "metadata": {},
     "output_type": "display_data"
    },
    {
     "data": {
      "application/vnd.jupyter.widget-view+json": {
       "model_id": "",
       "version_major": 2,
       "version_minor": 0
      },
      "text/plain": [
       "FloatProgress(value=0.0, bar_style='info', description='Progress:', layout=Layout(height='25px', width='50%'),…"
      ]
     },
     "metadata": {},
     "output_type": "display_data"
    }
   ],
   "source": [
    "# create the meta features dataset\n",
    "meta_features_df = base_pred.select(\"pred_lr\", \"pred_rf\", \"pred_gbt\", \n",
    "                                    \"pred_mlpc\",\"pred_lsvc\",\n",
    "                                    \"prob_lr\", \"prob_rf\", \"prob_mlpc\",\n",
    "                                    \"label\")"
   ]
  },
  {
   "cell_type": "code",
   "execution_count": 19,
   "id": "02cefc1e",
   "metadata": {},
   "outputs": [
    {
     "data": {
      "application/vnd.jupyter.widget-view+json": {
       "model_id": "9c8e4f4059a84b768d65ca664c40beaf",
       "version_major": 2,
       "version_minor": 0
      },
      "text/plain": [
       "VBox()"
      ]
     },
     "metadata": {},
     "output_type": "display_data"
    },
    {
     "data": {
      "application/vnd.jupyter.widget-view+json": {
       "model_id": "",
       "version_major": 2,
       "version_minor": 0
      },
      "text/plain": [
       "FloatProgress(value=0.0, bar_style='info', description='Progress:', layout=Layout(height='25px', width='50%'),…"
      ]
     },
     "metadata": {},
     "output_type": "display_data"
    },
    {
     "name": "stderr",
     "output_type": "stream",
     "text": [
      "Exception in thread cell_monitor-18:\n",
      "Traceback (most recent call last):\n",
      "  File \"/mnt/notebook-env/lib/python3.7/threading.py\", line 926, in _bootstrap_inner\n",
      "    self.run()\n",
      "  File \"/mnt/notebook-env/lib/python3.7/threading.py\", line 870, in run\n",
      "    self._target(*self._args, **self._kwargs)\n",
      "  File \"/mnt/notebook-env/lib/python3.7/site-packages/awseditorssparkmonitoringwidget-1.0-py3.7.egg/awseditorssparkmonitoringwidget/cellmonitor.py\", line 154, in cell_monitor\n",
      "    job_group_filtered_jobs = [job for job in jobs_data if job['jobGroup'] == str(statement_id)]\n",
      "  File \"/mnt/notebook-env/lib/python3.7/site-packages/awseditorssparkmonitoringwidget-1.0-py3.7.egg/awseditorssparkmonitoringwidget/cellmonitor.py\", line 154, in <listcomp>\n",
      "    job_group_filtered_jobs = [job for job in jobs_data if job['jobGroup'] == str(statement_id)]\n",
      "KeyError: 'jobGroup'\n",
      "\n",
      "Exception in thread cell_monitor-17:\n",
      "Traceback (most recent call last):\n",
      "  File \"/mnt/notebook-env/lib/python3.7/threading.py\", line 926, in _bootstrap_inner\n",
      "    self.run()\n",
      "  File \"/mnt/notebook-env/lib/python3.7/threading.py\", line 870, in run\n",
      "    self._target(*self._args, **self._kwargs)\n",
      "  File \"/mnt/notebook-env/lib/python3.7/site-packages/awseditorssparkmonitoringwidget-1.0-py3.7.egg/awseditorssparkmonitoringwidget/cellmonitor.py\", line 154, in cell_monitor\n",
      "    job_group_filtered_jobs = [job for job in jobs_data if job['jobGroup'] == str(statement_id)]\n",
      "  File \"/mnt/notebook-env/lib/python3.7/site-packages/awseditorssparkmonitoringwidget-1.0-py3.7.egg/awseditorssparkmonitoringwidget/cellmonitor.py\", line 154, in <listcomp>\n",
      "    job_group_filtered_jobs = [job for job in jobs_data if job['jobGroup'] == str(statement_id)]\n",
      "KeyError: 'jobGroup'\n",
      "\n"
     ]
    },
    {
     "name": "stdout",
     "output_type": "stream",
     "text": [
      "\n",
      "Training LOGISTIC REGRESSION META CLASSIFIER\n",
      "\n",
      "\n",
      "Training time.........23.311 min"
     ]
    }
   ],
   "source": [
    "print(\"\")\n",
    "print(f\"Training LOGISTIC REGRESSION META CLASSIFIER\")\n",
    "print(\"\")\n",
    "\n",
    "# instantiate the classifier\n",
    "meta_classifier = LogisticRegression(featuresCol=meta_featuresCol, \n",
    "                             labelCol=meta_labelCol, \n",
    "                             predictionCol=meta_predCol)\n",
    "\n",
    "# build specific pipeline\n",
    "meta_pipeline = build_meta_pipeline(meta_classifier)\n",
    "\n",
    "# create the parameters list\n",
    "meta_param = ParamGridBuilder() \\\n",
    "        .addGrid(meta_classifier.regParam, [0.0, 0.01, 0.1]) \\\n",
    "        .addGrid(meta_classifier.elasticNetParam, [0.0, 0.01, 0.1]) \\\n",
    "        .addGrid(meta_classifier.maxIter, [50, 100, 200]) \\\n",
    "        .build()\n",
    "\n",
    "\n",
    "# build the grid search model\n",
    "meta_lr = grid_search_model(meta_pipeline, meta_param)\n",
    "\n",
    "# start timer\n",
    "start_time = time.time()\n",
    "\n",
    "# train the model\n",
    "meta_model = meta_lr.fit(meta_features_df.persist())\n",
    "\n",
    "# stop timer\n",
    "end_time = time.time()\n",
    "\n",
    "# evaluate the trainining time in minutes \n",
    "train_time = (end_time - start_time)/60\n",
    "\n",
    "# print the training time\n",
    "print(\"\")\n",
    "print(\"Training time.........%6.3f min\" % train_time)"
   ]
  },
  {
   "cell_type": "code",
   "execution_count": 20,
   "id": "b9234ce4",
   "metadata": {},
   "outputs": [
    {
     "data": {
      "application/vnd.jupyter.widget-view+json": {
       "model_id": "7456e1c85ef140068b0d79125ef23176",
       "version_major": 2,
       "version_minor": 0
      },
      "text/plain": [
       "VBox()"
      ]
     },
     "metadata": {},
     "output_type": "display_data"
    },
    {
     "data": {
      "application/vnd.jupyter.widget-view+json": {
       "model_id": "",
       "version_major": 2,
       "version_minor": 0
      },
      "text/plain": [
       "FloatProgress(value=0.0, bar_style='info', description='Progress:', layout=Layout(height='25px', width='50%'),…"
      ]
     },
     "metadata": {},
     "output_type": "display_data"
    },
    {
     "name": "stderr",
     "output_type": "stream",
     "text": [
      "Exception in thread cell_monitor-19:\n",
      "Traceback (most recent call last):\n",
      "  File \"/mnt/notebook-env/lib/python3.7/threading.py\", line 926, in _bootstrap_inner\n",
      "    self.run()\n",
      "  File \"/mnt/notebook-env/lib/python3.7/threading.py\", line 870, in run\n",
      "    self._target(*self._args, **self._kwargs)\n",
      "  File \"/mnt/notebook-env/lib/python3.7/site-packages/awseditorssparkmonitoringwidget-1.0-py3.7.egg/awseditorssparkmonitoringwidget/cellmonitor.py\", line 154, in cell_monitor\n",
      "    job_group_filtered_jobs = [job for job in jobs_data if job['jobGroup'] == str(statement_id)]\n",
      "  File \"/mnt/notebook-env/lib/python3.7/site-packages/awseditorssparkmonitoringwidget-1.0-py3.7.egg/awseditorssparkmonitoringwidget/cellmonitor.py\", line 154, in <listcomp>\n",
      "    job_group_filtered_jobs = [job for job in jobs_data if job['jobGroup'] == str(statement_id)]\n",
      "KeyError: 'jobGroup'\n",
      "\n"
     ]
    }
   ],
   "source": [
    "# base classifiers make predictions on the test set\n",
    "test_pred = base_pipeline_model.transform(test_cached)"
   ]
  },
  {
   "cell_type": "code",
   "execution_count": 22,
   "id": "c368dd69",
   "metadata": {},
   "outputs": [
    {
     "data": {
      "application/vnd.jupyter.widget-view+json": {
       "model_id": "0354dc1d27464ca7b6b144fafab55896",
       "version_major": 2,
       "version_minor": 0
      },
      "text/plain": [
       "VBox()"
      ]
     },
     "metadata": {},
     "output_type": "display_data"
    },
    {
     "data": {
      "application/vnd.jupyter.widget-view+json": {
       "model_id": "",
       "version_major": 2,
       "version_minor": 0
      },
      "text/plain": [
       "FloatProgress(value=0.0, bar_style='info', description='Progress:', layout=Layout(height='25px', width='50%'),…"
      ]
     },
     "metadata": {},
     "output_type": "display_data"
    },
    {
     "name": "stderr",
     "output_type": "stream",
     "text": [
      "Exception in thread cell_monitor-21:\n",
      "Traceback (most recent call last):\n",
      "  File \"/mnt/notebook-env/lib/python3.7/threading.py\", line 926, in _bootstrap_inner\n",
      "    self.run()\n",
      "  File \"/mnt/notebook-env/lib/python3.7/threading.py\", line 870, in run\n",
      "    self._target(*self._args, **self._kwargs)\n",
      "  File \"/mnt/notebook-env/lib/python3.7/site-packages/awseditorssparkmonitoringwidget-1.0-py3.7.egg/awseditorssparkmonitoringwidget/cellmonitor.py\", line 154, in cell_monitor\n",
      "    job_group_filtered_jobs = [job for job in jobs_data if job['jobGroup'] == str(statement_id)]\n",
      "  File \"/mnt/notebook-env/lib/python3.7/site-packages/awseditorssparkmonitoringwidget-1.0-py3.7.egg/awseditorssparkmonitoringwidget/cellmonitor.py\", line 154, in <listcomp>\n",
      "    job_group_filtered_jobs = [job for job in jobs_data if job['jobGroup'] == str(statement_id)]\n",
      "KeyError: 'jobGroup'\n",
      "\n"
     ]
    }
   ],
   "source": [
    "# create the meta features test dataset\n",
    "meta_test_df = test_pred.select(\"pred_lr\", \"pred_rf\", \"pred_gbt\", \n",
    "                                    \"pred_mlpc\",\"pred_lsvc\",\n",
    "                                    \"prob_lr\", \"prob_rf\", \"prob_mlpc\",\n",
    "                                    \"label\")"
   ]
  },
  {
   "cell_type": "code",
   "execution_count": 23,
   "id": "4fcde28e",
   "metadata": {},
   "outputs": [
    {
     "data": {
      "application/vnd.jupyter.widget-view+json": {
       "model_id": "d6ebca091744412c97618166c63a0c68",
       "version_major": 2,
       "version_minor": 0
      },
      "text/plain": [
       "VBox()"
      ]
     },
     "metadata": {},
     "output_type": "display_data"
    },
    {
     "data": {
      "application/vnd.jupyter.widget-view+json": {
       "model_id": "",
       "version_major": 2,
       "version_minor": 0
      },
      "text/plain": [
       "FloatProgress(value=0.0, bar_style='info', description='Progress:', layout=Layout(height='25px', width='50%'),…"
      ]
     },
     "metadata": {},
     "output_type": "display_data"
    },
    {
     "name": "stderr",
     "output_type": "stream",
     "text": [
      "Exception in thread cell_monitor-22:\n",
      "Traceback (most recent call last):\n",
      "  File \"/mnt/notebook-env/lib/python3.7/threading.py\", line 926, in _bootstrap_inner\n",
      "    self.run()\n",
      "  File \"/mnt/notebook-env/lib/python3.7/threading.py\", line 870, in run\n",
      "    self._target(*self._args, **self._kwargs)\n",
      "  File \"/mnt/notebook-env/lib/python3.7/site-packages/awseditorssparkmonitoringwidget-1.0-py3.7.egg/awseditorssparkmonitoringwidget/cellmonitor.py\", line 154, in cell_monitor\n",
      "    job_group_filtered_jobs = [job for job in jobs_data if job['jobGroup'] == str(statement_id)]\n",
      "  File \"/mnt/notebook-env/lib/python3.7/site-packages/awseditorssparkmonitoringwidget-1.0-py3.7.egg/awseditorssparkmonitoringwidget/cellmonitor.py\", line 154, in <listcomp>\n",
      "    job_group_filtered_jobs = [job for job in jobs_data if job['jobGroup'] == str(statement_id)]\n",
      "KeyError: 'jobGroup'\n",
      "\n"
     ]
    }
   ],
   "source": [
    "# meta classifier predictions on the meta features test set\n",
    "meta_test_pred = meta_model.transform(meta_test_df)"
   ]
  },
  {
   "cell_type": "code",
   "execution_count": 24,
   "id": "81af6004",
   "metadata": {},
   "outputs": [
    {
     "data": {
      "application/vnd.jupyter.widget-view+json": {
       "model_id": "44239cdd96c646c292cba34f3b1c1aa0",
       "version_major": 2,
       "version_minor": 0
      },
      "text/plain": [
       "VBox()"
      ]
     },
     "metadata": {},
     "output_type": "display_data"
    },
    {
     "data": {
      "application/vnd.jupyter.widget-view+json": {
       "model_id": "",
       "version_major": 2,
       "version_minor": 0
      },
      "text/plain": [
       "FloatProgress(value=0.0, bar_style='info', description='Progress:', layout=Layout(height='25px', width='50%'),…"
      ]
     },
     "metadata": {},
     "output_type": "display_data"
    },
    {
     "name": "stderr",
     "output_type": "stream",
     "text": [
      "Exception in thread cell_monitor-23:\n",
      "Traceback (most recent call last):\n",
      "  File \"/mnt/notebook-env/lib/python3.7/threading.py\", line 926, in _bootstrap_inner\n",
      "    self.run()\n",
      "  File \"/mnt/notebook-env/lib/python3.7/threading.py\", line 870, in run\n",
      "    self._target(*self._args, **self._kwargs)\n",
      "  File \"/mnt/notebook-env/lib/python3.7/site-packages/awseditorssparkmonitoringwidget-1.0-py3.7.egg/awseditorssparkmonitoringwidget/cellmonitor.py\", line 154, in cell_monitor\n",
      "    job_group_filtered_jobs = [job for job in jobs_data if job['jobGroup'] == str(statement_id)]\n",
      "  File \"/mnt/notebook-env/lib/python3.7/site-packages/awseditorssparkmonitoringwidget-1.0-py3.7.egg/awseditorssparkmonitoringwidget/cellmonitor.py\", line 154, in <listcomp>\n",
      "    job_group_filtered_jobs = [job for job in jobs_data if job['jobGroup'] == str(statement_id)]\n",
      "KeyError: 'jobGroup'\n",
      "\n"
     ]
    }
   ],
   "source": [
    "# choose an evaluator\n",
    "evaluator = BinaryClassificationEvaluator()\n",
    "evaluator.setLabelCol(meta_labelCol)\n",
    "\n",
    "# calculate roc and pr scores\n",
    "roc_meta = evaluator.evaluate(meta_test_pred, {evaluator.metricName: \"areaUnderROC\"})\n",
    "pr_meta = evaluator.evaluate(meta_test_pred, {evaluator.metricName: \"areaUnderPR\"})\n",
    "\n",
    "# record the confusion matrix metrics on the test set\n",
    "acc_meta, prec_meta, rec_meta, f1_meta = conf_metrics(meta_test_pred)"
   ]
  },
  {
   "cell_type": "code",
   "execution_count": 25,
   "id": "b8035af7",
   "metadata": {},
   "outputs": [
    {
     "data": {
      "application/vnd.jupyter.widget-view+json": {
       "model_id": "cae0b39db58942649bbf82efa4633b7f",
       "version_major": 2,
       "version_minor": 0
      },
      "text/plain": [
       "VBox()"
      ]
     },
     "metadata": {},
     "output_type": "display_data"
    },
    {
     "data": {
      "application/vnd.jupyter.widget-view+json": {
       "model_id": "",
       "version_major": 2,
       "version_minor": 0
      },
      "text/plain": [
       "FloatProgress(value=0.0, bar_style='info', description='Progress:', layout=Layout(height='25px', width='50%'),…"
      ]
     },
     "metadata": {},
     "output_type": "display_data"
    },
    {
     "name": "stderr",
     "output_type": "stream",
     "text": [
      "Exception in thread cell_monitor-24:\n",
      "Traceback (most recent call last):\n",
      "  File \"/mnt/notebook-env/lib/python3.7/threading.py\", line 926, in _bootstrap_inner\n",
      "    self.run()\n",
      "  File \"/mnt/notebook-env/lib/python3.7/threading.py\", line 870, in run\n",
      "    self._target(*self._args, **self._kwargs)\n",
      "  File \"/mnt/notebook-env/lib/python3.7/site-packages/awseditorssparkmonitoringwidget-1.0-py3.7.egg/awseditorssparkmonitoringwidget/cellmonitor.py\", line 154, in cell_monitor\n",
      "    job_group_filtered_jobs = [job for job in jobs_data if job['jobGroup'] == str(statement_id)]\n",
      "  File \"/mnt/notebook-env/lib/python3.7/site-packages/awseditorssparkmonitoringwidget-1.0-py3.7.egg/awseditorssparkmonitoringwidget/cellmonitor.py\", line 154, in <listcomp>\n",
      "    job_group_filtered_jobs = [job for job in jobs_data if job['jobGroup'] == str(statement_id)]\n",
      "KeyError: 'jobGroup'\n",
      "\n"
     ]
    },
    {
     "name": "stdout",
     "output_type": "stream",
     "text": [
      "\n",
      "\n",
      "Confusion Matrix\n",
      "+----------+---------------+-----+\n",
      "|meta_label|meta_prediction|count|\n",
      "+----------+---------------+-----+\n",
      "|       1.0|            1.0| 1036|\n",
      "|       0.0|            1.0|  248|\n",
      "|       1.0|            0.0|  437|\n",
      "|       0.0|            0.0| 4835|\n",
      "+----------+---------------+-----+\n",
      "\n",
      "\n",
      "accuracy............... 0.896\n",
      "precision.............. 0.807\n",
      "recall................. 0.703\n",
      "F1..................... 0.752\n",
      "auc_roc................ 0.926\n",
      "auc_pr................. 0.831"
     ]
    }
   ],
   "source": [
    "# print all evaluation metrics\n",
    "print(\"\")\n",
    "display_metrics(meta_test_pred, roc_meta, pr_meta)\n",
    "print(\"\")"
   ]
  },
  {
   "cell_type": "code",
   "execution_count": 26,
   "id": "91f93837",
   "metadata": {},
   "outputs": [
    {
     "data": {
      "application/vnd.jupyter.widget-view+json": {
       "model_id": "742c3f6f3c9b4b80a2d490e0f2497222",
       "version_major": 2,
       "version_minor": 0
      },
      "text/plain": [
       "VBox()"
      ]
     },
     "metadata": {},
     "output_type": "display_data"
    },
    {
     "data": {
      "application/vnd.jupyter.widget-view+json": {
       "model_id": "",
       "version_major": 2,
       "version_minor": 0
      },
      "text/plain": [
       "FloatProgress(value=0.0, bar_style='info', description='Progress:', layout=Layout(height='25px', width='50%'),…"
      ]
     },
     "metadata": {},
     "output_type": "display_data"
    },
    {
     "name": "stdout",
     "output_type": "stream",
     "text": [
      "The best hyperparameter values from the grid:\n",
      "regParam:.................. 0.01\n",
      "elasticNetParam:........... 0.1\n",
      "maxIter:................... 100"
     ]
    },
    {
     "name": "stderr",
     "output_type": "stream",
     "text": [
      "Exception in thread cell_monitor-25:\n",
      "Traceback (most recent call last):\n",
      "  File \"/mnt/notebook-env/lib/python3.7/threading.py\", line 926, in _bootstrap_inner\n",
      "    self.run()\n",
      "  File \"/mnt/notebook-env/lib/python3.7/threading.py\", line 870, in run\n",
      "    self._target(*self._args, **self._kwargs)\n",
      "  File \"/mnt/notebook-env/lib/python3.7/site-packages/awseditorssparkmonitoringwidget-1.0-py3.7.egg/awseditorssparkmonitoringwidget/cellmonitor.py\", line 154, in cell_monitor\n",
      "    job_group_filtered_jobs = [job for job in jobs_data if job['jobGroup'] == str(statement_id)]\n",
      "  File \"/mnt/notebook-env/lib/python3.7/site-packages/awseditorssparkmonitoringwidget-1.0-py3.7.egg/awseditorssparkmonitoringwidget/cellmonitor.py\", line 154, in <listcomp>\n",
      "    job_group_filtered_jobs = [job for job in jobs_data if job['jobGroup'] == str(statement_id)]\n",
      "KeyError: 'jobGroup'\n",
      "\n"
     ]
    }
   ],
   "source": [
    "# print the best parameters from the grid\n",
    "best_meta_param = list(meta_model.getEstimatorParamMaps()[np.argmax(meta_model.avgMetrics)].values())\n",
    "meta_param1 = best_meta_param[0]\n",
    "meta_param2 = best_meta_param[1]\n",
    "meta_param3 = best_meta_param[2]\n",
    "print(\"The best hyperparameter values from the grid:\")\n",
    "print(\"regParam:..................\", meta_param1)\n",
    "print(\"elasticNetParam:...........\", meta_param2)\n",
    "print(\"maxIter:...................\", meta_param3)"
   ]
  },
  {
   "cell_type": "code",
   "execution_count": 27,
   "id": "1178c561",
   "metadata": {},
   "outputs": [
    {
     "data": {
      "application/vnd.jupyter.widget-view+json": {
       "model_id": "b1dca5721453484c81266b4350cb3407",
       "version_major": 2,
       "version_minor": 0
      },
      "text/plain": [
       "VBox()"
      ]
     },
     "metadata": {},
     "output_type": "display_data"
    },
    {
     "data": {
      "application/vnd.jupyter.widget-view+json": {
       "model_id": "",
       "version_major": 2,
       "version_minor": 0
      },
      "text/plain": [
       "FloatProgress(value=0.0, bar_style='info', description='Progress:', layout=Layout(height='25px', width='50%'),…"
      ]
     },
     "metadata": {},
     "output_type": "display_data"
    },
    {
     "name": "stderr",
     "output_type": "stream",
     "text": [
      "Exception in thread cell_monitor-26:\n",
      "Traceback (most recent call last):\n",
      "  File \"/mnt/notebook-env/lib/python3.7/threading.py\", line 926, in _bootstrap_inner\n",
      "    self.run()\n",
      "  File \"/mnt/notebook-env/lib/python3.7/threading.py\", line 870, in run\n",
      "    self._target(*self._args, **self._kwargs)\n",
      "  File \"/mnt/notebook-env/lib/python3.7/site-packages/awseditorssparkmonitoringwidget-1.0-py3.7.egg/awseditorssparkmonitoringwidget/cellmonitor.py\", line 154, in cell_monitor\n",
      "    job_group_filtered_jobs = [job for job in jobs_data if job['jobGroup'] == str(statement_id)]\n",
      "  File \"/mnt/notebook-env/lib/python3.7/site-packages/awseditorssparkmonitoringwidget-1.0-py3.7.egg/awseditorssparkmonitoringwidget/cellmonitor.py\", line 154, in <listcomp>\n",
      "    job_group_filtered_jobs = [job for job in jobs_data if job['jobGroup'] == str(statement_id)]\n",
      "KeyError: 'jobGroup'\n",
      "\n"
     ]
    },
    {
     "data": {
      "image/png": "[encoded data removed]",
      "text/plain": [
       "<IPython.core.display.Image object>"
      ]
     },
     "metadata": {},
     "output_type": "display_data"
    }
   ],
   "source": [
    "plt.clf()\n",
    "# plot the ROC and PR curves\n",
    "plot_roc_pr_curves(meta_test_pred, \"Meta_LR\")\n",
    "\n",
    "%matplot plt"
   ]
  },
  {
   "cell_type": "code",
   "execution_count": null,
   "id": "2fc86880",
   "metadata": {},
   "outputs": [],
   "source": []
  }
 ],
 "metadata": {
  "kernelspec": {
   "display_name": "PySpark",
   "language": "",
   "name": "pysparkkernel"
  },
  "language_info": {
   "codemirror_mode": {
    "name": "python",
    "version": 3
   },
   "mimetype": "text/x-python",
   "name": "pyspark",
   "pygments_lexer": "python3"
  },
  "toc": {
   "base_numbering": 1,
   "nav_menu": {},
   "number_sections": true,
   "sideBar": true,
   "skip_h1_title": false,
   "title_cell": "Table of Contents",
   "title_sidebar": "Contents",
   "toc_cell": false,
   "toc_position": {},
   "toc_section_display": true,
   "toc_window_display": false
  }
 },
 "nbformat": 4,
 "nbformat_minor": 5
}
